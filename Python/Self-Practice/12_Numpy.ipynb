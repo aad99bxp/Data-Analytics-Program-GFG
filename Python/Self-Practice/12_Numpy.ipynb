{
  "nbformat": 4,
  "nbformat_minor": 0,
  "metadata": {
    "colab": {
      "provenance": []
    },
    "kernelspec": {
      "name": "python3",
      "display_name": "Python 3"
    },
    "language_info": {
      "name": "python"
    }
  },
  "cells": [
    {
      "cell_type": "markdown",
      "source": [
        "# **NUMPY**\n",
        "Numpy is a general-purpose array-processing package. It provides a high-performance multidimensional array object, and tools for working with these arrays. It is the fundamental package for scientific computing with Python.\n",
        "Besides its obvious scientific uses, Numpy can also be used as an efficient multi-dimensional container of generic data.\n",
        "\n",
        ""
      ],
      "metadata": {
        "id": "6oXaWaJaMKk3"
      }
    },
    {
      "cell_type": "markdown",
      "source": [
        "A list in Python is a linear data structure that can hold heterogeneous elements they do not require to be declared and are flexible to shrink and grow. On the other hand, an array is a data structure which can hold homogeneous elements, arrays are implemented in Python using the NumPy library. Arrays require less memory than list.\n",
        "\n",
        "The similarity between an array and a list is that the elements of both array and a list can be identified by its index value\n",
        "\n",
        "### **METHODS**:\n",
        "1. np.array()\n",
        "2. np.ndarray.ndim()\n",
        "3. np.array.size()\n",
        "4. np.array.shape()\n",
        "5. np.array.datatype()\n",
        "6. numpy.zeroes()\n",
        "7. numpy.ones()\n",
        "8."
      ],
      "metadata": {
        "id": "PXfOO7QSMWPJ"
      }
    },
    {
      "cell_type": "code",
      "execution_count": 1,
      "metadata": {
        "colab": {
          "base_uri": "https://localhost:8080/"
        },
        "id": "WFY1O7H-MFP5",
        "outputId": "7d96a44c-61bb-411a-bdce-ff3a759579b7"
      },
      "outputs": [
        {
          "output_type": "stream",
          "name": "stdout",
          "text": [
            "[2, 3, 4, 5]\n",
            "<class 'list'>\n",
            "\n",
            "[2 3 4 5]\n",
            "<class 'numpy.ndarray'>\n"
          ]
        }
      ],
      "source": [
        "import numpy as np\n",
        "\n",
        "l=[2,3,4,5]\n",
        "print(l)\n",
        "print(type(l))\n",
        "print()\n",
        "arr=np.array(l)\n",
        "print(arr)\n",
        "print(type(arr))"
      ]
    },
    {
      "cell_type": "markdown",
      "source": [
        "NB: numpy.ndarray.ndim() function return the number of dimensions of an array."
      ],
      "metadata": {
        "id": "HnRuFtJAM0Y4"
      }
    },
    {
      "cell_type": "code",
      "source": [
        "a=np.array([1,2,3,4])\n",
        "b=np.array([[1,2,3,4],[5,6,7,8]])\n",
        "print(a.ndim)\n",
        "print(b.ndim)"
      ],
      "metadata": {
        "colab": {
          "base_uri": "https://localhost:8080/"
        },
        "id": "wmISNI_3MzMt",
        "outputId": "720c6299-e2f1-4509-92e8-0678de3021f0"
      },
      "execution_count": 2,
      "outputs": [
        {
          "output_type": "stream",
          "name": "stdout",
          "text": [
            "1\n",
            "2\n"
          ]
        }
      ]
    },
    {
      "cell_type": "markdown",
      "source": [
        "- Now we have few more functions such as np.array.shape, np.array.size and np.array.dtype\n",
        "\n",
        "- shape will basically return us the total number of rows and columns of the array in a tuple format (number of rows, number of columns)\n",
        "\n",
        "- size will tell us the total number of elements or values present in the array\n",
        "\n",
        "- dtype will tell us the data type of values which the array is containing"
      ],
      "metadata": {
        "id": "DeGDx4YyNAWr"
      }
    },
    {
      "cell_type": "code",
      "source": [
        "b=np.array([[1,2,3,4],[5,6,7,8]])\n",
        "print(b.shape)\n",
        "print(b.size)\n",
        "print(b.dtype)"
      ],
      "metadata": {
        "colab": {
          "base_uri": "https://localhost:8080/"
        },
        "id": "FLD13GZjM7OF",
        "outputId": "a05b8789-fda3-4c05-dd53-9514df64b2c4"
      },
      "execution_count": 3,
      "outputs": [
        {
          "output_type": "stream",
          "name": "stdout",
          "text": [
            "(2, 4)\n",
            "8\n",
            "int64\n"
          ]
        }
      ]
    },
    {
      "cell_type": "markdown",
      "source": [
        "- The numpy.zeros() function returns a new array of given shape and type, with zeros. Syntax:\n",
        "\n",
        "numpy.zeros(shape, dtype = None, order = 'C')"
      ],
      "metadata": {
        "id": "0LAICqU4NsVU"
      }
    },
    {
      "cell_type": "code",
      "source": [
        "# Python Program illustrating\n",
        "# numpy.zeros method\n",
        "\n",
        "import numpy as geek\n",
        "\n",
        "b = geek.zeros(2, dtype = int)\n",
        "print(\"Matrix b : \\n\", b)\n",
        "\n",
        "a = geek.zeros([2, 2], dtype = int)\n",
        "print(\"\\nMatrix a : \\n\", a)\n",
        "\n",
        "c = geek.zeros([3, 3])\n",
        "print(\"\\nMatrix c : \\n\", c)"
      ],
      "metadata": {
        "colab": {
          "base_uri": "https://localhost:8080/"
        },
        "id": "immqPXt7Nly1",
        "outputId": "6e886b07-52fa-4e57-a32a-f8c498ab0913"
      },
      "execution_count": 4,
      "outputs": [
        {
          "output_type": "stream",
          "name": "stdout",
          "text": [
            "Matrix b : \n",
            " [0 0]\n",
            "\n",
            "Matrix a : \n",
            " [[0 0]\n",
            " [0 0]]\n",
            "\n",
            "Matrix c : \n",
            " [[0. 0. 0.]\n",
            " [0. 0. 0.]\n",
            " [0. 0. 0.]]\n"
          ]
        }
      ]
    },
    {
      "cell_type": "code",
      "source": [
        "b = geek.ones(2, dtype = int)\n",
        "print(\"Matrix b : \\n\", b)\n",
        "\n",
        "a = geek.ones([2, 2], dtype = int)\n",
        "print(\"\\nMatrix a : \\n\", a)\n",
        "\n",
        "c = geek.ones([3, 3])\n",
        "print(\"\\nMatrix c : \\n\", c)"
      ],
      "metadata": {
        "colab": {
          "base_uri": "https://localhost:8080/"
        },
        "id": "njp1j0cFOTLg",
        "outputId": "20d73905-63b0-4978-ea49-eb18191b770a"
      },
      "execution_count": 5,
      "outputs": [
        {
          "output_type": "stream",
          "name": "stdout",
          "text": [
            "Matrix b : \n",
            " [1 1]\n",
            "\n",
            "Matrix a : \n",
            " [[1 1]\n",
            " [1 1]]\n",
            "\n",
            "Matrix c : \n",
            " [[1. 1. 1.]\n",
            " [1. 1. 1.]\n",
            " [1. 1. 1.]]\n"
          ]
        }
      ]
    },
    {
      "cell_type": "markdown",
      "source": [
        "#### **RANDOM, RESHAPE, FLATTEN**"
      ],
      "metadata": {
        "id": "gBM7oYoqRym4"
      }
    },
    {
      "cell_type": "code",
      "source": [
        "# Random function generate values in the range of 0 to 1\n",
        "np.random.random((3,3))"
      ],
      "metadata": {
        "colab": {
          "base_uri": "https://localhost:8080/"
        },
        "id": "yvSo4A3tRYuQ",
        "outputId": "4717e7cf-7c4a-425e-d94c-6726081663c3"
      },
      "execution_count": 9,
      "outputs": [
        {
          "output_type": "execute_result",
          "data": {
            "text/plain": [
              "array([[0.58407141, 0.96171777, 0.02028723],\n",
              "       [0.41141938, 0.80249062, 0.84032504],\n",
              "       [0.45339191, 0.57797014, 0.08075247]])"
            ]
          },
          "metadata": {},
          "execution_count": 9
        }
      ]
    },
    {
      "cell_type": "code",
      "source": [
        "np.random.random()"
      ],
      "metadata": {
        "colab": {
          "base_uri": "https://localhost:8080/"
        },
        "id": "EdT0vFkRRVlt",
        "outputId": "490cfb1c-4eba-450c-da96-b3dc045da289"
      },
      "execution_count": 10,
      "outputs": [
        {
          "output_type": "execute_result",
          "data": {
            "text/plain": [
              "0.586679239565423"
            ]
          },
          "metadata": {},
          "execution_count": 10
        }
      ]
    },
    {
      "cell_type": "code",
      "source": [
        "#To generate values in a particular sequence, us arange function\n",
        "np.arange(1,10)"
      ],
      "metadata": {
        "colab": {
          "base_uri": "https://localhost:8080/"
        },
        "id": "zop_3pUGR4kL",
        "outputId": "8ee30578-f880-4c00-a1a7-7d222bf353ec"
      },
      "execution_count": 11,
      "outputs": [
        {
          "output_type": "execute_result",
          "data": {
            "text/plain": [
              "array([1, 2, 3, 4, 5, 6, 7, 8, 9])"
            ]
          },
          "metadata": {},
          "execution_count": 11
        }
      ]
    },
    {
      "cell_type": "code",
      "source": [
        "np.arange(1,10,2)"
      ],
      "metadata": {
        "colab": {
          "base_uri": "https://localhost:8080/"
        },
        "id": "J_DKwCMlSPXb",
        "outputId": "cff29713-22ce-4c81-8575-5f87c2dada5b"
      },
      "execution_count": 12,
      "outputs": [
        {
          "output_type": "execute_result",
          "data": {
            "text/plain": [
              "array([1, 3, 5, 7, 9])"
            ]
          },
          "metadata": {},
          "execution_count": 12
        }
      ]
    },
    {
      "cell_type": "code",
      "source": [
        "np.linspace(1,10,7) #it will also generate 7 random values in from 1 to 10 and those values will be equidistant from each other"
      ],
      "metadata": {
        "colab": {
          "base_uri": "https://localhost:8080/"
        },
        "id": "OLUqcoxdSlkA",
        "outputId": "d2092427-baa5-4b8c-f91b-3c553154cc71"
      },
      "execution_count": 13,
      "outputs": [
        {
          "output_type": "execute_result",
          "data": {
            "text/plain": [
              "array([ 1. ,  2.5,  4. ,  5.5,  7. ,  8.5, 10. ])"
            ]
          },
          "metadata": {},
          "execution_count": 13
        }
      ]
    },
    {
      "cell_type": "code",
      "source": [
        "# Reshape Array\n",
        "a=np.random.random((3,4)) #size: 3*4=12\n",
        "a.reshape(6,2) # the size of elements of the array shoulf be same: 6*2=12."
      ],
      "metadata": {
        "colab": {
          "base_uri": "https://localhost:8080/"
        },
        "id": "3PiY37k8VLUi",
        "outputId": "f603962a-a5d0-4211-ba1f-8f028ff5f5ce"
      },
      "execution_count": 15,
      "outputs": [
        {
          "output_type": "execute_result",
          "data": {
            "text/plain": [
              "array([[0.96628277, 0.44817089],\n",
              "       [0.17829885, 0.29733838],\n",
              "       [0.74762294, 0.79626124],\n",
              "       [0.18475296, 0.49598274],\n",
              "       [0.00283835, 0.84055063],\n",
              "       [0.46419861, 0.65721393]])"
            ]
          },
          "metadata": {},
          "execution_count": 15
        }
      ]
    },
    {
      "cell_type": "code",
      "source": [
        "#Flatten array- converts any dimension array to one-dimensional array\n",
        "a.flatten()"
      ],
      "metadata": {
        "colab": {
          "base_uri": "https://localhost:8080/"
        },
        "id": "bs9v6zhgYt_Y",
        "outputId": "63a6cfa2-d16b-4e1f-a1bc-bf56fac3cbd1"
      },
      "execution_count": 16,
      "outputs": [
        {
          "output_type": "execute_result",
          "data": {
            "text/plain": [
              "array([0.96628277, 0.44817089, 0.17829885, 0.29733838, 0.74762294,\n",
              "       0.79626124, 0.18475296, 0.49598274, 0.00283835, 0.84055063,\n",
              "       0.46419861, 0.65721393])"
            ]
          },
          "metadata": {},
          "execution_count": 16
        }
      ]
    },
    {
      "cell_type": "markdown",
      "source": [
        "#### **ARITHMETIC OPERATIONS ON ARRAY**"
      ],
      "metadata": {
        "id": "1HK43By6cuJB"
      }
    },
    {
      "cell_type": "code",
      "source": [
        "arr = np.array([1,2,3,4,5,6,7,8])\n",
        "print(arr+1)\n",
        "print(arr*5)\n",
        "print(arr-1)\n",
        "print(arr/2)\n",
        "print(arr**2)\n",
        "print(arr%2)"
      ],
      "metadata": {
        "colab": {
          "base_uri": "https://localhost:8080/"
        },
        "id": "q3DvgZLPZnV7",
        "outputId": "fa048e1d-2bd8-4fc1-96e9-2f8836aa1f53"
      },
      "execution_count": 18,
      "outputs": [
        {
          "output_type": "stream",
          "name": "stdout",
          "text": [
            "[2 3 4 5 6 7 8 9]\n",
            "[ 5 10 15 20 25 30 35 40]\n",
            "[0 1 2 3 4 5 6 7]\n",
            "[0.5 1.  1.5 2.  2.5 3.  3.5 4. ]\n",
            "[ 1  4  9 16 25 36 49 64]\n",
            "[1 0 1 0 1 0 1 0]\n"
          ]
        }
      ]
    },
    {
      "cell_type": "markdown",
      "source": [
        "####  **MAX & MIN, SUM**"
      ],
      "metadata": {
        "id": "NBmU8mfdc3DG"
      }
    },
    {
      "cell_type": "code",
      "source": [
        "print(arr.max())\n",
        "print(arr.min())"
      ],
      "metadata": {
        "colab": {
          "base_uri": "https://localhost:8080/"
        },
        "id": "Op66Nx4HdA_p",
        "outputId": "df5172da-3033-4a75-9f15-b2c5148ed3ae"
      },
      "execution_count": 20,
      "outputs": [
        {
          "output_type": "stream",
          "name": "stdout",
          "text": [
            "8\n",
            "1\n"
          ]
        }
      ]
    },
    {
      "cell_type": "code",
      "source": [
        "arr2 = np.array([ [1,2,3],\n",
        "                  [4,5,6],\n",
        "                  [7,8,9]])\n",
        "\n",
        "# To print the element in the column wise\n",
        "print(arr2.max(axis=0))\n",
        "print(arr2.min(axis=0))\n"
      ],
      "metadata": {
        "colab": {
          "base_uri": "https://localhost:8080/"
        },
        "id": "skZF0-z7Z9gj",
        "outputId": "b0f6bcc4-2292-48de-befb-d50ba114a702"
      },
      "execution_count": 25,
      "outputs": [
        {
          "output_type": "stream",
          "name": "stdout",
          "text": [
            "[7 8 9]\n",
            "[1 2 3]\n"
          ]
        }
      ]
    },
    {
      "cell_type": "code",
      "source": [
        "arr2.sum()"
      ],
      "metadata": {
        "colab": {
          "base_uri": "https://localhost:8080/"
        },
        "id": "nLfuGXWxeEwV",
        "outputId": "5b2b7082-17ef-4ea6-b531-6bf3fc542d47"
      },
      "execution_count": 26,
      "outputs": [
        {
          "output_type": "execute_result",
          "data": {
            "text/plain": [
              "45"
            ]
          },
          "metadata": {},
          "execution_count": 26
        }
      ]
    },
    {
      "cell_type": "markdown",
      "source": [
        "#### **AITHMETIC OPERATIONS ON MULTIPLE ARRAYS**"
      ],
      "metadata": {
        "id": "YwKjsT3XfSrC"
      }
    },
    {
      "cell_type": "code",
      "source": [
        "# To perform arithmetic opeartions on multiple arrays, the shape of the arrays should be same\n",
        "x= np.array([[1,2,3],[4,5,6]])\n",
        "y= np.array([[7,8,9],[10,11,12]])\n",
        "print(x+y)"
      ],
      "metadata": {
        "colab": {
          "base_uri": "https://localhost:8080/"
        },
        "id": "dtJCsBiufXsO",
        "outputId": "7f9e1a39-5f1c-4def-913e-fb512f9a2a11"
      },
      "execution_count": 31,
      "outputs": [
        {
          "output_type": "stream",
          "name": "stdout",
          "text": [
            "[[ 8 10 12]\n",
            " [14 16 18]]\n"
          ]
        }
      ]
    },
    {
      "cell_type": "code",
      "source": [
        "print(x*y) # It performs normal multiplication and not the dot product"
      ],
      "metadata": {
        "colab": {
          "base_uri": "https://localhost:8080/"
        },
        "id": "ZbU_jgJuf4vP",
        "outputId": "b44176ad-2ac6-40b1-b166-2b09b53e6719"
      },
      "execution_count": 32,
      "outputs": [
        {
          "output_type": "stream",
          "name": "stdout",
          "text": [
            "[[ 7 16 27]\n",
            " [40 55 72]]\n"
          ]
        }
      ]
    },
    {
      "cell_type": "code",
      "source": [
        "x.dot(y) # It will give error as For matrix multiplication to be valid,\n",
        "#the number of columns in the first matrix (x) must equal the number of rows in the second matrix (y).\n",
        "#Here, x has 3 columns, while y has 2 rows, leading to the shape mismatch and the ValueError."
      ],
      "metadata": {
        "colab": {
          "base_uri": "https://localhost:8080/",
          "height": 141
        },
        "id": "Gzx6_0NzgH9u",
        "outputId": "d6eab3ac-532f-4cb9-ce56-613ec51eed98"
      },
      "execution_count": 34,
      "outputs": [
        {
          "output_type": "error",
          "ename": "ValueError",
          "evalue": "shapes (2,3) and (2,3) not aligned: 3 (dim 1) != 2 (dim 0)",
          "traceback": [
            "\u001b[0;31m---------------------------------------------------------------------------\u001b[0m",
            "\u001b[0;31mValueError\u001b[0m                                Traceback (most recent call last)",
            "\u001b[0;32m<ipython-input-34-ea4c5fa3e78c>\u001b[0m in \u001b[0;36m<cell line: 1>\u001b[0;34m()\u001b[0m\n\u001b[0;32m----> 1\u001b[0;31m \u001b[0mx\u001b[0m\u001b[0;34m.\u001b[0m\u001b[0mdot\u001b[0m\u001b[0;34m(\u001b[0m\u001b[0my\u001b[0m\u001b[0;34m)\u001b[0m\u001b[0;34m\u001b[0m\u001b[0;34m\u001b[0m\u001b[0m\n\u001b[0m",
            "\u001b[0;31mValueError\u001b[0m: shapes (2,3) and (2,3) not aligned: 3 (dim 1) != 2 (dim 0)"
          ]
        }
      ]
    },
    {
      "cell_type": "code",
      "source": [
        "aw= np.array([[1,2,3],\n",
        "              [4,5,6],\n",
        "              [7,8,9]])\n",
        "bw= np.array([[10,11,12],\n",
        "              [13,14,15],\n",
        "              [16,17,18]])\n",
        "aw.dot(bw)"
      ],
      "metadata": {
        "colab": {
          "base_uri": "https://localhost:8080/"
        },
        "id": "uqTMQPFYiLm-",
        "outputId": "90dcbf5c-c4c8-42da-f9b7-8edb5b986b46"
      },
      "execution_count": 35,
      "outputs": [
        {
          "output_type": "execute_result",
          "data": {
            "text/plain": [
              "array([[ 84,  90,  96],\n",
              "       [201, 216, 231],\n",
              "       [318, 342, 366]])"
            ]
          },
          "metadata": {},
          "execution_count": 35
        }
      ]
    },
    {
      "cell_type": "code",
      "source": [
        "#ACESSING ELEMENTS IN A 1-D ARRAY\n",
        "arr = np.array([1,2,3,4,5,6,7,8])\n",
        "print(arr[0])\n",
        "print(arr[1])\n",
        "print(arr[-1])\n",
        "print(arr[-2])\n",
        "print(arr[:])\n",
        "print(arr[:-1])\n",
        "print(arr[2:])\n",
        "print(arr[2:5])"
      ],
      "metadata": {
        "colab": {
          "base_uri": "https://localhost:8080/"
        },
        "id": "q1UA4qzHisWD",
        "outputId": "2b736713-616f-401e-8d09-579f71ff0bb3"
      },
      "execution_count": 39,
      "outputs": [
        {
          "output_type": "stream",
          "name": "stdout",
          "text": [
            "1\n",
            "2\n",
            "8\n",
            "7\n",
            "[1 2 3 4 5 6 7 8]\n",
            "[1 2 3 4 5 6 7]\n",
            "[3 4 5 6 7 8]\n",
            "[3 4 5]\n"
          ]
        }
      ]
    },
    {
      "cell_type": "code",
      "source": [
        "#ACESSING Elements of 2-D Array\n",
        "arr = np.array([[7,3,8,6,4], [7,2,9,8,6],[5,4,2,3,1]])\n",
        "print (arr[:,:])\n",
        "#arr[:row, :column]\n",
        "print(arr[:,:-1])"
      ],
      "metadata": {
        "colab": {
          "base_uri": "https://localhost:8080/"
        },
        "id": "Mpz574LgxKUB",
        "outputId": "33fef477-a85f-4cb4-82be-3209783516f6"
      },
      "execution_count": 44,
      "outputs": [
        {
          "output_type": "stream",
          "name": "stdout",
          "text": [
            "[[7 3 8 6 4]\n",
            " [7 2 9 8 6]\n",
            " [5 4 2 3 1]]\n",
            "[[7 3 8 6]\n",
            " [7 2 9 8]\n",
            " [5 4 2 3]]\n"
          ]
        }
      ]
    },
    {
      "cell_type": "markdown",
      "source": [
        "#### **SORTING**"
      ],
      "metadata": {
        "id": "mK8C8Fbqw7ge"
      }
    },
    {
      "cell_type": "code",
      "source": [
        "a = np.array([[12, 15], [10, 1]])\n",
        "arr1 = np.sort(a, axis = 0)\n",
        "print (\"Along first axis : \\n\", arr1)\n",
        "\n",
        "\n",
        "# sort along the last axis\n",
        "a = np.array([[10, 15], [12, 1]])\n",
        "arr2 = np.sort(a, axis = -1)\n",
        "print (\"\\nAlong first axis : \\n\", arr2)\n",
        "\n",
        "\n",
        "a = np.array([[12, 15], [10, 1]])\n",
        "arr1 = np.sort(a, axis = None)\n",
        "print (\"\\nAlong none axis : \\n\", arr1)"
      ],
      "metadata": {
        "colab": {
          "base_uri": "https://localhost:8080/"
        },
        "id": "vXfobzXKw3o0",
        "outputId": "15da6ce5-86b4-41f2-c34f-564ae08b5229"
      },
      "execution_count": 41,
      "outputs": [
        {
          "output_type": "stream",
          "name": "stdout",
          "text": [
            "Along first axis : \n",
            " [[10  1]\n",
            " [12 15]]\n",
            "\n",
            "Along first axis : \n",
            " [[10 15]\n",
            " [ 1 12]]\n",
            "\n",
            "Along none axis : \n",
            " [ 1 10 12 15]\n"
          ]
        }
      ]
    },
    {
      "cell_type": "code",
      "source": [
        "arr = np.array([[7,3,8,6,4], [7,2,9,8,6],[5,4,2,3,1]])\n",
        "print(np.sort(arr , axis = 0, kind = 'mergesort'))\n",
        "print()\n",
        "print(np.sort(arr , axis = 1, kind = 'quicksort'))\n",
        "print()\n",
        "print(np.sort(arr , kind = 'heapsort'))"
      ],
      "metadata": {
        "colab": {
          "base_uri": "https://localhost:8080/"
        },
        "id": "2ekUpg5HkiKh",
        "outputId": "e4f4c38a-4797-4a05-cbb2-eb6fe71ebe69"
      },
      "execution_count": 40,
      "outputs": [
        {
          "output_type": "stream",
          "name": "stdout",
          "text": [
            "[[5 2 2 3 1]\n",
            " [7 3 8 6 4]\n",
            " [7 4 9 8 6]]\n",
            "\n",
            "[[3 4 6 7 8]\n",
            " [2 6 7 8 9]\n",
            " [1 2 3 4 5]]\n",
            "\n",
            "[[3 4 6 7 8]\n",
            " [2 6 7 8 9]\n",
            " [1 2 3 4 5]]\n"
          ]
        }
      ]
    },
    {
      "cell_type": "markdown",
      "source": [
        "#### **MERGING**"
      ],
      "metadata": {
        "id": "5l71_oHVzCwv"
      }
    },
    {
      "cell_type": "code",
      "source": [
        "# Python program explaining\n",
        "# vstack() function\n",
        "\n",
        "import numpy as geek\n",
        "\n",
        "# input array\n",
        "in_arr1 = geek.array([ 1, 2, 3] )\n",
        "print (\"1st Input array : \\n\", in_arr1)\n",
        "\n",
        "in_arr2 = geek.array([ 4, 5, 6] )\n",
        "print (\"2nd Input array : \\n\", in_arr2)\n",
        "\n",
        "# Stacking the two arrays vertically\n",
        "out_arr = geek.vstack((in_arr1, in_arr2))\n",
        "print (\"Output vertically stacked array:\\n \", out_arr)"
      ],
      "metadata": {
        "colab": {
          "base_uri": "https://localhost:8080/"
        },
        "id": "qDPggELczIEf",
        "outputId": "e5761815-23bf-4f8e-b7aa-c069d2b9d1fd"
      },
      "execution_count": 45,
      "outputs": [
        {
          "output_type": "stream",
          "name": "stdout",
          "text": [
            "1st Input array : \n",
            " [1 2 3]\n",
            "2nd Input array : \n",
            " [4 5 6]\n",
            "Output vertically stacked array:\n",
            "  [[1 2 3]\n",
            " [4 5 6]]\n"
          ]
        }
      ]
    },
    {
      "cell_type": "code",
      "source": [
        "# Python program explaining\n",
        "# hstack() function\n",
        "\n",
        "import numpy as geek\n",
        "\n",
        "# input array\n",
        "in_arr1 = geek.array([ 1, 2, 3] )\n",
        "print (\"1st Input array : \\n\", in_arr1)\n",
        "\n",
        "in_arr2 = geek.array([ 4, 5, 6] )\n",
        "print (\"2nd Input array : \\n\", in_arr2)\n",
        "\n",
        "# Stacking the two arrays horizontally\n",
        "out_arr = geek.hstack((in_arr1, in_arr2))\n",
        "print (\"Output horizontally stacked array:\\n \", out_arr)"
      ],
      "metadata": {
        "colab": {
          "base_uri": "https://localhost:8080/"
        },
        "id": "YHaumtNLzMdH",
        "outputId": "da055a4f-628d-4612-bd7f-30ceb7606de4"
      },
      "execution_count": 46,
      "outputs": [
        {
          "output_type": "stream",
          "name": "stdout",
          "text": [
            "1st Input array : \n",
            " [1 2 3]\n",
            "2nd Input array : \n",
            " [4 5 6]\n",
            "Output horizontally stacked array:\n",
            "  [1 2 3 4 5 6]\n"
          ]
        }
      ]
    },
    {
      "cell_type": "code",
      "source": [
        "# Python program explaining\n",
        "# numpy.concatenate() function\n",
        "\n",
        "# importing numpy as geek\n",
        "import numpy as geek\n",
        "\n",
        "arr1 = geek.array([[2, 4], [6, 8]])\n",
        "arr2 = geek.array([[3, 5], [7, 9]])\n",
        "\n",
        "gfg = geek.concatenate((arr1, arr2), axis = 0)\n",
        "\n",
        "print (gfg)"
      ],
      "metadata": {
        "colab": {
          "base_uri": "https://localhost:8080/"
        },
        "id": "mjU-A2AkzPXh",
        "outputId": "08134d9b-4de6-4586-8e91-ef10ba513a78"
      },
      "execution_count": 47,
      "outputs": [
        {
          "output_type": "stream",
          "name": "stdout",
          "text": [
            "[[2 4]\n",
            " [6 8]\n",
            " [3 5]\n",
            " [7 9]]\n"
          ]
        }
      ]
    },
    {
      "cell_type": "code",
      "source": [
        "# Python program explaining\n",
        "# numpy.vsplit() function\n",
        "\n",
        "# importing numpy as geek\n",
        "import numpy as geek\n",
        "\n",
        "arr = geek.arange(9.0).reshape(3, 3)\n",
        "\n",
        "gfg = geek.vsplit(arr, 1)\n",
        "\n",
        "print (gfg)"
      ],
      "metadata": {
        "colab": {
          "base_uri": "https://localhost:8080/"
        },
        "id": "hOoU5zqazQtg",
        "outputId": "9744e971-bf90-4ba9-9cd5-4b056055aa3d"
      },
      "execution_count": 48,
      "outputs": [
        {
          "output_type": "stream",
          "name": "stdout",
          "text": [
            "[array([[0., 1., 2.],\n",
            "       [3., 4., 5.],\n",
            "       [6., 7., 8.]])]\n"
          ]
        }
      ]
    },
    {
      "cell_type": "code",
      "source": [
        "# Python program explaining\n",
        "# numpy.hsplit() function\n",
        "\n",
        "# importing numpy as geek\n",
        "import numpy as geek\n",
        "\n",
        "arr = geek.arange(16.0).reshape(4, 4)\n",
        "\n",
        "gfg = geek.hsplit(arr, 2)\n",
        "\n",
        "print (gfg)"
      ],
      "metadata": {
        "colab": {
          "base_uri": "https://localhost:8080/"
        },
        "id": "R8WbYU5BzUPK",
        "outputId": "57b37170-10a2-44c5-96fb-8f43b42cbafe"
      },
      "execution_count": 49,
      "outputs": [
        {
          "output_type": "stream",
          "name": "stdout",
          "text": [
            "[array([[ 0.,  1.],\n",
            "       [ 4.,  5.],\n",
            "       [ 8.,  9.],\n",
            "       [12., 13.]]), array([[ 2.,  3.],\n",
            "       [ 6.,  7.],\n",
            "       [10., 11.],\n",
            "       [14., 15.]])]\n"
          ]
        }
      ]
    },
    {
      "cell_type": "markdown",
      "source": [
        "#### **AUTOMATION USING NUMPY**"
      ],
      "metadata": {
        "id": "PBZ5zVy5zi43"
      }
    },
    {
      "cell_type": "code",
      "source": [
        "# Say we have a list containing element 1 to 10. Now we want to print the all the elements which are greater than 5\n",
        "lst = [1,2,3,4,5,6,7,8,9,10]\n",
        "for i in lst:\n",
        "  if (i > 5):\n",
        "    print(i)"
      ],
      "metadata": {
        "colab": {
          "base_uri": "https://localhost:8080/"
        },
        "id": "xxaZs50lzqNk",
        "outputId": "362bbfef-765d-499c-be5f-237807492cf1"
      },
      "execution_count": 50,
      "outputs": [
        {
          "output_type": "stream",
          "name": "stdout",
          "text": [
            "6\n",
            "7\n",
            "8\n",
            "9\n",
            "10\n"
          ]
        }
      ]
    },
    {
      "cell_type": "code",
      "source": [
        "# Now if we convert the list into an array we can do it simply in a single line.\n",
        "lst = np.array([1,2,3,4,5,6,7,8,9,10])\n",
        "print(lst[lst>5]) #in a single line we have done the same thing which we did previously and this time without using the for loop"
      ],
      "metadata": {
        "colab": {
          "base_uri": "https://localhost:8080/"
        },
        "id": "P-y0vjB3zwJz",
        "outputId": "ae45a5a7-3dc7-4233-e397-ef008d09242b"
      },
      "execution_count": 51,
      "outputs": [
        {
          "output_type": "stream",
          "name": "stdout",
          "text": [
            "[ 6  7  8  9 10]\n"
          ]
        }
      ]
    }
  ]
}