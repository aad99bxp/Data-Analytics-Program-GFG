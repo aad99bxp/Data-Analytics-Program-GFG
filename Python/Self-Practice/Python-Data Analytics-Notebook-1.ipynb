{
 "cells": [
  {
   "cell_type": "markdown",
   "id": "585e3ddb-100e-490a-a477-b64d354d135d",
   "metadata": {},
   "source": [
    "# PYTHON FOR DATA ANALYTICS"
   ]
  },
  {
   "cell_type": "markdown",
   "id": "25aa5a9d-8f71-4d3d-a48e-000a32333acf",
   "metadata": {},
   "source": [
    "## INTRODUCTION"
   ]
  },
  {
   "cell_type": "markdown",
   "id": "3a72f33d-564c-4a0b-bffa-dca6349245b4",
   "metadata": {},
   "source": [
    "BASICS:\n",
    "1. Python was created by Guido Rossum in 1991.\n",
    "2. Python is a procedural (Like C) and Object Oriented Language (like JAVA) & Functional langauge(like Lisp)\n",
    "3. There are 33 keywords in Python.\n",
    "4. There are 14 datatypes in Python - Int, Float, Complex, Bool, Str, List[], Tuple(), Range, Set{}, Frozenset, Bytes, Bytesarray, Memoryview, Dictionary.\n",
    "5. Global varaible vs Local variable and Defining global variable in a function\n",
    "6. Function declaration\n",
    "7. Class and object in Python. \n",
    "8. Loops, If Else\n",
    "9. Comment in Python\n",
    "10. We need not define the datatype of variable while declaration rather depending on the value assigned, it detects the datatype. (Dynamically typed). In\n",
    "    dynamically typed languges like Python, PHP, the type is assigned in the runtime while in statically typed langauge it is assigned in Compile time.\n",
    "    Dynamically typed languauges are generally slower.\n",
    "11. To print anything, use the print() function\n",
    "12. Every line should start from the same point where the previous line was starting orelse there will be identation error. This occurs due to whitespace.\n",
    "13. Python is platform independent & portible. \n",
    "14. High level language. \n",
    "15. Variable can have only underscore. \n",
    "16. There are several techniques for making variable name readable:\n",
    "                                a) Snake Case: my_variable_name\n",
    "                                b) Camel Case: myVariableName\n",
    "                                c) Pacal Case: MyVariableName\n",
    "17. Python has automatic Garbage collection. It means that you dont have to manaually release memory after execution.\n",
    "18. Strings & Tuples are immutable\n",
    "    "
   ]
  },
  {
   "cell_type": "code",
   "execution_count": 2,
   "id": "5cc3f03c-9bbd-414b-83b0-1e33505a4a11",
   "metadata": {},
   "outputs": [
    {
     "data": {
      "text/plain": [
       "int"
      ]
     },
     "execution_count": 2,
     "metadata": {},
     "output_type": "execute_result"
    }
   ],
   "source": [
    "a=5\n",
    "type(a)"
   ]
  },
  {
   "cell_type": "markdown",
   "id": "e31eb294-bf9a-4680-ac58-d66138aa19e2",
   "metadata": {},
   "source": [
    "## RULES FOR VARIABLE DECLARATION: "
   ]
  },
  {
   "cell_type": "markdown",
   "id": "a0fc0227-cc36-43fa-874b-dc99a36b94a9",
   "metadata": {},
   "source": [
    "1.A variable name must start with a letter or the underscore character. \n",
    "2.A variable name cannot start with a number.\n",
    "3.A variable name can only contain alpha-numeric characters and underscores (A-z, 0-9, and _ ).\n",
    "4.Variable names are case-sensitive (name, Name and NAME are three different variables).\n",
    "5.The reserved words(keywords) cannot be used naming the variable."
   ]
  },
  {
   "cell_type": "markdown",
   "id": "df24c46c-d458-4bdd-80e3-372114161836",
   "metadata": {},
   "source": [
    "## PRINT FUNCTION"
   ]
  },
  {
   "cell_type": "code",
   "execution_count": 3,
   "id": "1ef0dfde-cba7-4c87-968f-b9ac858af97c",
   "metadata": {},
   "outputs": [
    {
     "name": "stdout",
     "output_type": "stream",
     "text": [
      "This is Data Analytics Jupyter Notebook\n"
     ]
    }
   ],
   "source": [
    "print(\"This is Data Analytics Jupyter Notebook\")"
   ]
  },
  {
   "cell_type": "code",
   "execution_count": 6,
   "id": "05e9aab0-282d-4dd1-a9da-d558a7216d5c",
   "metadata": {},
   "outputs": [
    {
     "name": "stdout",
     "output_type": "stream",
     "text": [
      "Hello second line third line\n"
     ]
    }
   ],
   "source": [
    "#When multiple parameters are provided, it prints them with space in between\n",
    "print(\"Hello\",\"second line\", \"third line\") "
   ]
  },
  {
   "cell_type": "code",
   "execution_count": 8,
   "id": "01692894-00fe-4cb7-a1ea-ded5ee3c4a9a",
   "metadata": {},
   "outputs": [
    {
     "name": "stdout",
     "output_type": "stream",
     "text": [
      "\n"
     ]
    }
   ],
   "source": [
    "#when no parameter is provided, it prints a blank line\n",
    "print()"
   ]
  },
  {
   "cell_type": "code",
   "execution_count": 10,
   "id": "0a6589f6-014f-4a52-b7b4-986b2b947a1c",
   "metadata": {},
   "outputs": [
    {
     "name": "stdout",
     "output_type": "stream",
     "text": [
      "Hello Abhay\n"
     ]
    }
   ],
   "source": [
    "#END & SEP in Print\n",
    "#End parameter determines how the line will end. Generally, the default is to start a new line upon the end, but you can specify any other end\n",
    "\n",
    "print(\"Hello\", end=\" \") #we want space at the end of the line\n",
    "print(\"Abhay\")"
   ]
  },
  {
   "cell_type": "code",
   "execution_count": 11,
   "id": "669d8cec-c3a5-484e-a402-da523a632e1a",
   "metadata": {},
   "outputs": [
    {
     "name": "stdout",
     "output_type": "stream",
     "text": [
      "23-10-24\n"
     ]
    }
   ],
   "source": [
    "#If multiple parameters are provided, then separate basically separates those paramters with the character provided\n",
    "\n",
    "print(\"23\",\"10\",\"24\", sep=\"-\")"
   ]
  },
  {
   "cell_type": "code",
   "execution_count": 12,
   "id": "a3006a0e-612e-4025-bf2a-bc2bd434ef79",
   "metadata": {},
   "outputs": [],
   "source": [
    "#NOTE: Python is dynamically typed language, what it means that the variables are references to the memory locations and no type is associated \n",
    "#with the variables."
   ]
  },
  {
   "cell_type": "code",
   "execution_count": 13,
   "id": "effeb90c-dc4f-41a7-a902-6b6db50b878a",
   "metadata": {},
   "outputs": [
    {
     "name": "stdout",
     "output_type": "stream",
     "text": [
      "None\n"
     ]
    }
   ],
   "source": [
    "#An error called Name error will occur if you try to print a variable which is not defined. Hence in such case where you are not sure about the value,\n",
    "#you can assign None to it.\n",
    "\n",
    "x=None\n",
    "print(x)"
   ]
  },
  {
   "cell_type": "code",
   "execution_count": 1,
   "id": "2861dec9-5107-4ab2-89cb-c54bf41b9a58",
   "metadata": {},
   "outputs": [
    {
     "name": "stdout",
     "output_type": "stream",
     "text": [
      "h\n"
     ]
    }
   ],
   "source": [
    "#Slicing Strings\n",
    "a=\"Abhay\"\n",
    "print(a[2:3])"
   ]
  },
  {
   "cell_type": "markdown",
   "id": "4c058a4e-540e-4203-bd21-878c8e08b4b4",
   "metadata": {},
   "source": [
    "## INPUT FUNCTION"
   ]
  },
  {
   "cell_type": "code",
   "execution_count": 1,
   "id": "60fac566-8710-43f4-9744-e4a0cef0fa41",
   "metadata": {},
   "outputs": [
    {
     "name": "stdin",
     "output_type": "stream",
     "text": [
      "Enter your Name Abhay\n"
     ]
    },
    {
     "name": "stdout",
     "output_type": "stream",
     "text": [
      "WelcomeAbhay\n"
     ]
    }
   ],
   "source": [
    "#Input in Python\n",
    "\n",
    "name= input(\"Enter your Name\")\n",
    "print(\"Welcome\" +name)"
   ]
  },
  {
   "cell_type": "code",
   "execution_count": 4,
   "id": "a99552c8-4686-4464-bd63-bf6dc9e02e88",
   "metadata": {},
   "outputs": [
    {
     "name": "stdin",
     "output_type": "stream",
     "text": [
      "Enter firstnumber 12\n",
      "Enter second number 12\n"
     ]
    },
    {
     "name": "stdout",
     "output_type": "stream",
     "text": [
      "The addition of two numbers provided is  24\n"
     ]
    }
   ],
   "source": [
    "#Take two input numbers from user and add them\n",
    "\n",
    "x= int(input(\"Enter firstnumber\"))\n",
    "y= int(input(\"Enter second number\"))\n",
    "\n",
    "z=x+y\n",
    "\n",
    "print(\"The addition of two numbers provided is \", +z)"
   ]
  },
  {
   "cell_type": "markdown",
   "id": "fc3fbe3c-df58-45b6-a8c6-dd27b0a52e07",
   "metadata": {},
   "source": [
    "## TYPE & TYPE CONVERSION"
   ]
  },
  {
   "cell_type": "markdown",
   "id": "ab5a067f-74b0-4755-abbb-ddadd23d8a7d",
   "metadata": {},
   "source": [
    "Python defines type conversion functions to directly convert one data type to another which is useful in day-to-day and competitive programming. This article is aimed at providing information about certain conversion functions.\n",
    "\n",
    "There are two types of Type Conversion in Python:\n",
    "A) Implicit Type Conversion\n",
    "B) Explicit Type Conversion\n",
    "\n",
    "In Explicit Type Conversion in Python, the data type is manually changed by the user as per their requirement. With explicit type conversion, there is a risk of data loss since we are forcing an expression to be changed in some specific data type.  Various forms of explicit type conversion are explained below:\n",
    " \n",
    "\n",
    "1. int(a, base): This function converts any data type to an integer. ‘Base’ specifies the base in which the string is if the data type is a string.\n",
    "2. float(): This function is used to convert any data type to a floating-point number.\n",
    "3. ord(): This function is used to convert a character to integer.\n",
    "4. hex(): This function is to convert integer to hexadecimal string.\n",
    "5. oct(): This function is to convert integer to octal string.\n",
    "6. tuple() : This function is used to convert to a tuple.\n",
    "7. set() : This function returns the type after converting to set.\n",
    "8. list() : This function is used to convert any data type to a list type.\n",
    "9. dict() : This function is used to convert a tuple of order (key,value) into a dictionary.\n",
    "10. str() : Used to convert integer into a string.\n",
    "11. complex(real,imag) : This function converts real numbers to complex(real,imag) number."
   ]
  },
  {
   "cell_type": "code",
   "execution_count": 11,
   "id": "9fd05485-8c13-40b9-a0e0-76720f8c4b73",
   "metadata": {},
   "outputs": [
    {
     "name": "stdout",
     "output_type": "stream",
     "text": [
      "<class 'int'>\n",
      "<class 'float'>\n",
      "<class 'complex'>\n",
      "<class 'bool'>\n",
      "<class 'NoneType'>\n",
      "<class 'str'>\n",
      "<class 'list'>\n",
      "<class 'tuple'>\n",
      "<class 'set'>\n",
      "<class 'dict'>\n"
     ]
    }
   ],
   "source": [
    "#Type function in Python\n",
    "#Type function is a built in function in python which tells you about the data type of a variable\n",
    "a=10\n",
    "print(type(a))\n",
    "\n",
    "b=10.5\n",
    "print(type(b))\n",
    "\n",
    "c= 1+2j;\n",
    "print(type(c))\n",
    "\n",
    "d = True\n",
    "print(type(d))\n",
    "\n",
    "e=None\n",
    "print(type(e))\n",
    "\n",
    "f=\"Abhay\"\n",
    "print(type(f))\n",
    "\n",
    "g=[10,20,30]\n",
    "print(type(g))\n",
    "\n",
    "h=(1001,1002,1003)\n",
    "print(type(h))\n",
    "\n",
    "i={10,110,100}\n",
    "print(type(i))\n",
    "\n",
    "x={ 10:\"str\", 20:\"str2\"}\n",
    "print(type(x))\n",
    "\n"
   ]
  },
  {
   "cell_type": "code",
   "execution_count": 15,
   "id": "99644c2f-248b-4a86-b9a6-23bc7f3fb982",
   "metadata": {},
   "outputs": [
    {
     "name": "stdout",
     "output_type": "stream",
     "text": [
      "2\n",
      "145 145.0\n"
     ]
    }
   ],
   "source": [
    "#Type Conversion in Python\n",
    "#There are two types of Type Conversion in Python- Implicit & Explicit. Implicit are those which happens automatically and explicit are those which we manually do\n",
    "\n",
    "#Example of Implicit Type Conversion\n",
    "a= True\n",
    "b=1\n",
    "c=a+b\n",
    "#When we try to add a Boolean value to int, the bool values gets converted to int value automatically\n",
    "print (c)\n",
    "\n",
    "#Example of Explicit Type Conversion\n",
    "s=\"135\"\n",
    "x= 10+ int(s)\n",
    "y= 10 + float(s)\n",
    "\n",
    "print(x,y)\n",
    "\n",
    "#In case the varibale s would have contained string value like abhay, it would have given error during conversion. Also, when we convert a ordered list into set,\n",
    "#we may encounter that the new set is unordered\n"
   ]
  },
  {
   "cell_type": "code",
   "execution_count": 16,
   "id": "378a6cf8-b516-4944-9ac9-045f81281520",
   "metadata": {},
   "outputs": [
    {
     "name": "stdout",
     "output_type": "stream",
     "text": [
      "0b10100\n",
      "0x14\n",
      "0o24\n"
     ]
    }
   ],
   "source": [
    "a=20\n",
    "print(bin(a)) #Decimal to Binary conversion\n",
    "print(hex(a)) #Decimal to Hexadecimal conversion\n",
    "print(oct(a)) #Decimal to Octal Conversion"
   ]
  },
  {
   "cell_type": "code",
   "execution_count": 21,
   "id": "c6c1ecc1-08a3-436a-9a6e-0279c2f8d752",
   "metadata": {},
   "outputs": [
    {
     "name": "stdout",
     "output_type": "stream",
     "text": [
      "9\n"
     ]
    }
   ],
   "source": [
    "a= \"1001\" #binary number\n",
    "print(int(a,2)) #converting a to decimal number, int() takes two params- first is the variable and the second tells what base number it is currently\n",
    "# 2 means Binary, 8 means Octal and so on"
   ]
  },
  {
   "cell_type": "markdown",
   "id": "74ed4d6e-ddc2-45af-9dba-df1279cc7c8e",
   "metadata": {},
   "source": [
    "## COMMNENT VS DOC STRING"
   ]
  },
  {
   "cell_type": "code",
   "execution_count": 19,
   "id": "85a41b95-e2a1-4a4d-ba29-a3ad44700e45",
   "metadata": {},
   "outputs": [
    {
     "data": {
      "text/plain": [
       "'This is Doc String. This provides documentation of the code on what the code does. One major diff other than the purpose is : \\nDoc String is processed by the intepreters but comments are not'"
      ]
     },
     "execution_count": 19,
     "metadata": {},
     "output_type": "execute_result"
    }
   ],
   "source": [
    "#This is a comment. It is meant to provide info on how does a function or code work\n",
    "\"\"\"This is Doc String. This provides documentation of the code on what the code does. One major diff other than the purpose is : \n",
    "Doc String is processed by the intepreters but comments are not\"\"\""
   ]
  },
  {
   "cell_type": "markdown",
   "id": "8407bd53-3309-4a3e-89b7-e4b1b71a8816",
   "metadata": {},
   "source": [
    "## IF, ELSE AND ELIF "
   ]
  },
  {
   "cell_type": "code",
   "execution_count": 24,
   "id": "c2aa1e6f-ec19-4caa-ad5d-616abc54ee90",
   "metadata": {},
   "outputs": [
    {
     "name": "stdin",
     "output_type": "stream",
     "text": [
      "Provide a numnber 13\n"
     ]
    },
    {
     "name": "stdout",
     "output_type": "stream",
     "text": [
      "The given number is Odd\n"
     ]
    }
   ],
   "source": [
    "n= int(input(\"Provide a numnber\"))\n",
    "\n",
    "if(n%2==0):\n",
    "       print(\"The given number is Even\")\n",
    "else:\n",
    "    print(\"The given number is Odd\")"
   ]
  },
  {
   "cell_type": "code",
   "execution_count": 28,
   "id": "840fe6d9-64ec-4eed-af19-5718e415f90b",
   "metadata": {},
   "outputs": [
    {
     "name": "stdin",
     "output_type": "stream",
     "text": [
      "Enter a Number 100\n"
     ]
    },
    {
     "name": "stdout",
     "output_type": "stream",
     "text": [
      "It is a positive number\n"
     ]
    }
   ],
   "source": [
    "#Write a program to determine whether the number provided by the user is positive, negative or 0\n",
    "\n",
    "n= int(input(\"Enter a Number\"))\n",
    "\n",
    "if(n>0):\n",
    "    print(\"It is a positive number\")\n",
    "elif(n<0):\n",
    "    print(\"It is a negative number\")\n",
    "else:\n",
    "    print(\"It is zero\")"
   ]
  },
  {
   "cell_type": "code",
   "execution_count": 33,
   "id": "66994b43-6839-4b8b-bac1-58f18c8dd44d",
   "metadata": {},
   "outputs": [
    {
     "name": "stdin",
     "output_type": "stream",
     "text": [
      "Enter a Number 12\n"
     ]
    },
    {
     "name": "stdout",
     "output_type": "stream",
     "text": [
      "The given number is Positive Even\n"
     ]
    }
   ],
   "source": [
    "#Write a program to determine if the given number is positive even, odd or megative even, odd\n",
    "n= int(input(\"Enter a Number\"))\n",
    "\n",
    "if(n>0):\n",
    "    if(n%2==0):\n",
    "       print(\"The given number is Positive Even\")\n",
    "    else:\n",
    "       print(\"The given number is Postive Odd\")\n",
    "elif(n<0):\n",
    "    if(n%2==0):\n",
    "       print(\"The given number is Negative Even\")\n",
    "    else:\n",
    "       print(\"The given number is Negative Odd\")\n",
    "else:\n",
    "    print(\"It is zero\")"
   ]
  },
  {
   "cell_type": "markdown",
   "id": "14fc750a-341a-40ec-9c99-cfff12f3b2ad",
   "metadata": {},
   "source": [
    "## + OPERATOR"
   ]
  },
  {
   "cell_type": "code",
   "execution_count": 35,
   "id": "cfaf5347-f74f-4850-92d2-97fe705b5e49",
   "metadata": {},
   "outputs": [
    {
     "name": "stdout",
     "output_type": "stream",
     "text": [
      "30\n",
      "GeeksforGeeks\n"
     ]
    }
   ],
   "source": [
    "a = 10\n",
    "b = 20\n",
    "print(a+b)\n",
    " \n",
    "a = \"Geeksfor\"\n",
    "b = \"Geeks\"\n",
    "print(a+b)"
   ]
  },
  {
   "cell_type": "code",
   "execution_count": 37,
   "id": "ba526719-038a-439d-98ee-e8577ebb9ed3",
   "metadata": {},
   "outputs": [],
   "source": [
    "a = 10\n",
    "b = \"Geeks\"\n",
    "#print(a+b) \n",
    "\n",
    "#It will throw error"
   ]
  },
  {
   "cell_type": "markdown",
   "id": "653ee51d-c150-4688-a7ec-0c276396236a",
   "metadata": {},
   "source": [
    "## ARITHMETIC OPERATORS"
   ]
  },
  {
   "attachments": {
    "c362c6e1-ef12-4408-9700-ddcd0ae10011.png": {
     "image/png": "[encoded data removed]"
    }
   },
   "cell_type": "markdown",
   "id": "696a7134-0d21-40a6-a9f8-1de668d3ba3a",
   "metadata": {},
   "source": [
    "![image.png](attachment:c362c6e1-ef12-4408-9700-ddcd0ae10011.png)"
   ]
  },
  {
   "cell_type": "code",
   "execution_count": 38,
   "id": "55bc0d4c-3abb-47ea-b134-b8548e25f760",
   "metadata": {},
   "outputs": [],
   "source": [
    "# Division finds the Quotient\n",
    "# Modulus finds the Remainder"
   ]
  }
 ],
 "metadata": {
  "kernelspec": {
   "display_name": "Python 3 (ipykernel)",
   "language": "python",
   "name": "python3"
  },
  "language_info": {
   "codemirror_mode": {
    "name": "ipython",
    "version": 3
   },
   "file_extension": ".py",
   "mimetype": "text/x-python",
   "name": "python",
   "nbconvert_exporter": "python",
   "pygments_lexer": "ipython3",
   "version": "3.13.0"
  }
 },
 "nbformat": 4,
 "nbformat_minor": 5
}
