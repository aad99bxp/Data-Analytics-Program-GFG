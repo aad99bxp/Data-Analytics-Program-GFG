{
  "nbformat": 4,
  "nbformat_minor": 0,
  "metadata": {
    "colab": {
      "provenance": []
    },
    "kernelspec": {
      "name": "python3",
      "display_name": "Python 3"
    },
    "language_info": {
      "name": "python"
    }
  },
  "cells": [
    {
      "cell_type": "code",
      "execution_count": 1,
      "metadata": {
        "id": "m1pM8_gKoXWd"
      },
      "outputs": [],
      "source": [
        "class Date:\n",
        "    def __init__(self, date_str):\n",
        "        self.val = date_str\n",
        "\n",
        "    def get(self):\n",
        "        return self.val"
      ]
    },
    {
      "cell_type": "code",
      "source": [
        "class Date:\n",
        "    def __init__(self, dd, mm, yyyy):\n",
        "        self.__dd = dd\n",
        "        self.__mm = mm\n",
        "        self.__yyyy = yyyy\n",
        "\n",
        "    def get(self):\n",
        "        return f\"{self.__dd}/{self.__mm}/{self.__yyyy}\""
      ],
      "metadata": {
        "id": "jegnjZgaoh22"
      },
      "execution_count": 2,
      "outputs": []
    },
    {
      "cell_type": "code",
      "source": [
        "class Student:\n",
        "    def __init__(self, marks):\n",
        "        self.__marks = marks\n",
        "\n",
        "    def set_marks(self, marks):\n",
        "        if 0 <= marks <= 100:\n",
        "            self.__marks = marks\n",
        "        else:\n",
        "            raise ValueError(\"Marks must be between 0 and 100\")\n",
        "\n",
        "    def get_marks(self):\n",
        "        return self.__marks"
      ],
      "metadata": {
        "id": "ad7BZ1J7ok0k"
      },
      "execution_count": 3,
      "outputs": []
    }
  ]
}