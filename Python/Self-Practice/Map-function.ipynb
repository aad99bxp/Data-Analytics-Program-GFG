{
 "cells": [
  {
   "cell_type": "markdown",
   "id": "6b6f850a-b5cc-4eff-8527-6290ee41719f",
   "metadata": {},
   "source": [
    "# <u> MAP Function </u>\n",
    "\n",
    "The map() function in Python is a powerful tool for applying a specific function to each element of an iterable (like a list, tuple, or string) and returning a new iterable with the results.\n",
    "\n",
    "## <u> Syntax </u>\n",
    "map( function, iterable)\n",
    "\n",
    "## <u> How it works: </u>\n",
    "### Function: \n",
    "The first argument is a function that you want to apply to each element.\n",
    "### Iterable: \n",
    "The second argument is the iterable (like a list or tuple) whose elements you want to transform.\n",
    "\n",
    "### Return Value: \n",
    "The map() function returns a map object, which is an iterator. This iterator yields the results of applying the function to each element of the iterable."
   ]
  },
  {
   "cell_type": "code",
   "execution_count": 1,
   "id": "8895a1ca-552f-4218-87d0-a9fe65ed61be",
   "metadata": {},
   "outputs": [
    {
     "name": "stdout",
     "output_type": "stream",
     "text": [
      "[1, 4, 9, 16, 25]\n"
     ]
    }
   ],
   "source": [
    "numbers = [1, 2, 3, 4, 5]\n",
    "\n",
    "# Function to square a number\n",
    "def square(x):\n",
    "    return x * x\n",
    "\n",
    "# Apply the square function to each number using map()\n",
    "squared_numbers = map(square, numbers)\n",
    "\n",
    "# Convert the map object to a list\n",
    "squared_numbers_list = list(squared_numbers)\n",
    "\n",
    "print(squared_numbers_list)  # Output: [1, 4, 9, 16, 25]"
   ]
  },
  {
   "cell_type": "markdown",
   "id": "8e27d117-eb3f-40c2-8f1c-64f3b3bd1e66",
   "metadata": {},
   "source": [
    "Key points:\n",
    "\n",
    "1.The map() function is often used to perform simple transformations on each element of an iterable.<br>\n",
    "2.It can be combined with lambda functions for concise expressions.<br>\n",
    "3.The returned map object can be directly iterated over or converted to a list, tuple, or other iterable data structure. <br>\n",
    "\n",
    "Advantages of using map():\n",
    "\n",
    "1.Concise and readable: It provides a clean and concise way to apply a function to each element. <br>\n",
    "2.Efficient: It can be more efficient than using a traditional for loop, especially for large iterables. <br>\n",
    "3.Functional programming style: It aligns with a functional programming approach, promoting a declarative style of programming. <br>\n",
    "4.By understanding and effectively using the map() function, you can write more efficient and elegant Python code. <br>\n",
    "\n"
   ]
  }
 ],
 "metadata": {
  "kernelspec": {
   "display_name": "Python 3 (ipykernel)",
   "language": "python",
   "name": "python3"
  },
  "language_info": {
   "codemirror_mode": {
    "name": "ipython",
    "version": 3
   },
   "file_extension": ".py",
   "mimetype": "text/x-python",
   "name": "python",
   "nbconvert_exporter": "python",
   "pygments_lexer": "ipython3",
   "version": "3.13.0"
  }
 },
 "nbformat": 4,
 "nbformat_minor": 5
}
