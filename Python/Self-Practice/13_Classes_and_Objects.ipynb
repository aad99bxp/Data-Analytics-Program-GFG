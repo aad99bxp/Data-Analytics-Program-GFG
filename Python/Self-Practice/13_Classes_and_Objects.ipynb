{
  "nbformat": 4,
  "nbformat_minor": 0,
  "metadata": {
    "colab": {
      "provenance": []
    },
    "kernelspec": {
      "name": "python3",
      "display_name": "Python 3"
    },
    "language_info": {
      "name": "python"
    }
  },
  "cells": [
    {
      "cell_type": "code",
      "execution_count": 1,
      "metadata": {
        "colab": {
          "base_uri": "https://localhost:8080/"
        },
        "id": "OnLN8B1ZCWzC",
        "outputId": "646f0fe4-7184-4f86-eaa3-cf6ea227babd"
      },
      "outputs": [
        {
          "output_type": "stream",
          "name": "stdout",
          "text": [
            "10+20i\n",
            "30+50i\n"
          ]
        }
      ],
      "source": [
        "class Complex:\n",
        "\n",
        "    def __init__(self, real, imag):\n",
        "        self.real = real\n",
        "        self.imag = imag\n",
        "\n",
        "    def print(self):\n",
        "        print(str(self.real) + \"+\" + str(self.imag) + \"i\")\n",
        "\n",
        "    def add(self, C):\n",
        "        self.real += C.real\n",
        "        self.imag += C.imag\n",
        "\n",
        "C1 = Complex(10, 20)\n",
        "C1.print()  # Output: 10+20i\n",
        "\n",
        "C2 = Complex(20, 30)\n",
        "C1.add(C2)\n",
        "C1.print()  # Output: 30+50i"
      ]
    }
  ]
}