{
  "nbformat": 4,
  "nbformat_minor": 0,
  "metadata": {
    "colab": {
      "provenance": []
    },
    "kernelspec": {
      "name": "python3",
      "display_name": "Python 3"
    },
    "language_info": {
      "name": "python"
    }
  },
  "cells": [
    {
      "cell_type": "markdown",
      "source": [
        "# **LIST**"
      ],
      "metadata": {
        "id": "RFBWumqafjYT"
      }
    },
    {
      "cell_type": "code",
      "execution_count": null,
      "metadata": {
        "colab": {
          "base_uri": "https://localhost:8080/"
        },
        "id": "Ym4Ji85afZI2",
        "outputId": "ce58605b-2210-4cb2-8e48-9b2e6d1d0af5"
      },
      "outputs": [
        {
          "output_type": "stream",
          "name": "stdout",
          "text": [
            "True\n",
            "2\n",
            "2\n",
            "5\n"
          ]
        }
      ],
      "source": [
        "l = [20,30,40,50]\n",
        "l.append(30)\n",
        "l.insert(1,15) # 15 will be inserted at index 1 and elements on and after that index will be shifted by 1\n",
        "print(15 in l) # Returns True\n",
        "print(l.count(30))\n",
        "print(l.index(30))\n",
        "print(l.index(30,4,7)) # It will search 30 from 4 to 6 index. The first index is inclusive but the secind one is exclusive"
      ]
    },
    {
      "cell_type": "code",
      "source": [
        "l.remove(20) #We pass the value that needs to be removed from the list. Also,\n",
        "# This function needs to be carefully used as if the element is not found, it will value error\n",
        "l.remove (30) #Removes the first 30 from the list\n",
        "print(l.pop()) #it removes the last item from the list and returns the removed item from the list\n",
        "# But if provided the index inside the pop function, it will remove the valie present in that index\n",
        "print(l.pop(1))\n",
        "l"
      ],
      "metadata": {
        "colab": {
          "base_uri": "https://localhost:8080/"
        },
        "id": "OWp6cFxkfikD",
        "outputId": "f0d9d9f5-6f3d-44fb-f360-33162aa6bb91"
      },
      "execution_count": null,
      "outputs": [
        {
          "output_type": "stream",
          "name": "stdout",
          "text": [
            "30\n",
            "40\n"
          ]
        },
        {
          "output_type": "execute_result",
          "data": {
            "text/plain": [
              "[15, 50]"
            ]
          },
          "metadata": {},
          "execution_count": 9
        }
      ]
    },
    {
      "cell_type": "code",
      "source": [
        "# Del keyword can also be used a list\n",
        "# Del is a genral purpose keyword and can be used with other obejects as well\n",
        "del l[1]\n",
        "l\n",
        "# del l[0:2] - This will remove items from 0 to 1."
      ],
      "metadata": {
        "colab": {
          "base_uri": "https://localhost:8080/"
        },
        "id": "r7Y1yBSpi2-E",
        "outputId": "76a3a7f5-4b22-4a2b-9364-be4011a63963"
      },
      "execution_count": null,
      "outputs": [
        {
          "output_type": "execute_result",
          "data": {
            "text/plain": [
              "[15]"
            ]
          },
          "metadata": {},
          "execution_count": 10
        }
      ]
    },
    {
      "cell_type": "code",
      "source": [
        "list1 = [10,20,30,50,60,70]\n",
        "print(max(list1))\n",
        "print(min(list1))\n",
        "print(sum(list1))\n",
        "list1.reverse()\n",
        "print(list1)\n",
        "# print(l.sort()) #Prints None\n",
        "list1.sort()\n",
        "print(list1)\n",
        "list1.sort(reverse=True)\n",
        "print(list1)\n",
        "print(len(list1))"
      ],
      "metadata": {
        "colab": {
          "base_uri": "https://localhost:8080/"
        },
        "id": "1hT9PkF8jiYP",
        "outputId": "ebc8a2f2-007f-41e6-9861-d787764d756a"
      },
      "execution_count": null,
      "outputs": [
        {
          "output_type": "stream",
          "name": "stdout",
          "text": [
            "70\n",
            "10\n",
            "240\n",
            "[70, 60, 50, 30, 20, 10]\n",
            "[10, 20, 30, 50, 60, 70]\n",
            "[70, 60, 50, 30, 20, 10]\n",
            "6\n"
          ]
        }
      ]
    },
    {
      "cell_type": "markdown",
      "source": [
        "# **TUPLE**\n",
        "Python Tuple is a collection of objects separated by commas. In some ways, a tuple is similar to a list in terms of indexing, nested objects, and repetition but a tuple is immutable, unlike lists which are mutable.\n",
        "\n",
        "- Tuple are faster than List"
      ],
      "metadata": {
        "id": "1uXtNdMWtNrD"
      }
    },
    {
      "cell_type": "code",
      "source": [
        "tuplevar = (1, 'abhay', 2.0)\n",
        "tuplevar"
      ],
      "metadata": {
        "colab": {
          "base_uri": "https://localhost:8080/"
        },
        "id": "4IfG0SLdtMRL",
        "outputId": "88aa4426-fdf9-4e7e-dbe5-e77f6dd878ae"
      },
      "execution_count": 1,
      "outputs": [
        {
          "output_type": "execute_result",
          "data": {
            "text/plain": [
              "(1, 'abhay', 2.0)"
            ]
          },
          "metadata": {},
          "execution_count": 1
        }
      ]
    },
    {
      "cell_type": "code",
      "source": [
        "var = (\"Geeks\", \"for\", \"Geeks\")\n",
        "\n",
        "print(\"Value in Var[0] = \", var[0])\n",
        "print(\"Value in Var[1] = \", var[1])\n",
        "print(\"Value in Var[2] = \", var[2])"
      ],
      "metadata": {
        "colab": {
          "base_uri": "https://localhost:8080/"
        },
        "id": "5gU36GmRwBdW",
        "outputId": "eed99afb-a426-4ca9-805a-679d496dca87"
      },
      "execution_count": 2,
      "outputs": [
        {
          "output_type": "stream",
          "name": "stdout",
          "text": [
            "Value in Var[0] =  Geeks\n",
            "Value in Var[1] =  for\n",
            "Value in Var[2] =  Geeks\n"
          ]
        }
      ]
    },
    {
      "cell_type": "code",
      "source": [
        "var = (\"Geeks\", \"for\", \"Geeks\")\n",
        "\n",
        "print(\"Value in Var[-3] = \", var[-3])\n",
        "print(\"Value in Var[-2] = \", var[-2])\n",
        "print(\"Value in Var[-1] = \", var[-1])"
      ],
      "metadata": {
        "colab": {
          "base_uri": "https://localhost:8080/"
        },
        "id": "D5__V0QMwFdQ",
        "outputId": "ce32eed0-db55-4277-860f-ccebdc80ae05"
      },
      "execution_count": 3,
      "outputs": [
        {
          "output_type": "stream",
          "name": "stdout",
          "text": [
            "Value in Var[-3] =  Geeks\n",
            "Value in Var[-2] =  for\n",
            "Value in Var[-1] =  Geeks\n"
          ]
        }
      ]
    },
    {
      "cell_type": "code",
      "source": [
        "#SLICING TUPLE\n",
        "# code to test slicing\n",
        "\n",
        "tuple1 = (0 ,1, 2, 3)\n",
        "print(tuple1[1:])\n",
        "print(tuple1[::-1])\n",
        "print(tuple1[2:4])"
      ],
      "metadata": {
        "colab": {
          "base_uri": "https://localhost:8080/"
        },
        "id": "JAAHoKr_wLU6",
        "outputId": "871eb349-00cf-45b3-b337-f62494dc755e"
      },
      "execution_count": 4,
      "outputs": [
        {
          "output_type": "stream",
          "name": "stdout",
          "text": [
            "(1, 2, 3)\n",
            "(3, 2, 1, 0)\n",
            "(2, 3)\n"
          ]
        }
      ]
    },
    {
      "cell_type": "code",
      "source": [
        "#length of tuple\n",
        "# Code for printing the length of a tuple\n",
        "\n",
        "tuple2 = ('python', 'geek')\n",
        "print(len(tuple2))\n",
        "\n",
        "print(tuple2 * 3)\n",
        "print(tuple2.count('python'))\n",
        "print(tuple2.index('geek'))"
      ],
      "metadata": {
        "colab": {
          "base_uri": "https://localhost:8080/"
        },
        "id": "C53Mch4SwQDC",
        "outputId": "9af49bdc-d35e-472c-a8b5-66bb7101b719"
      },
      "execution_count": 10,
      "outputs": [
        {
          "output_type": "stream",
          "name": "stdout",
          "text": [
            "2\n",
            "('python', 'geek', 'python', 'geek', 'python', 'geek')\n",
            "1\n",
            "1\n"
          ]
        }
      ]
    },
    {
      "cell_type": "code",
      "source": [
        "# NOTE:\n",
        "t = (0)\n",
        "print(type(t)) # This will not create tuple but int\n",
        "t = (0,)\n",
        "print(type(t)) # This will create a tuple\n",
        "t =()\n",
        "print(type(t)) #() type"
      ],
      "metadata": {
        "colab": {
          "base_uri": "https://localhost:8080/"
        },
        "id": "Hyl4hCAlxbUI",
        "outputId": "0f4c89dd-326c-475d-96a8-e3c439324898"
      },
      "execution_count": 7,
      "outputs": [
        {
          "output_type": "stream",
          "name": "stdout",
          "text": [
            "<class 'int'>\n",
            "<class 'tuple'>\n",
            "<class 'tuple'>\n"
          ]
        }
      ]
    },
    {
      "cell_type": "markdown",
      "source": [
        "# **SET**\n",
        "- A Set is an unordered collection data type that is iterable, mutable and has no duplicate elements.\n",
        "\n",
        "- Set are represented by { } (values enclosed in curly braces)\n",
        "\n",
        "- The major advantage of using a set, as opposed to a list, is that it has a highly optimized method for checking whether a specific element is contained in the set. This is based on a data structure known as a hash table. Since sets are unordered, we cannot access items using indexes like we do in lists."
      ],
      "metadata": {
        "id": "3a2WanqUybil"
      }
    },
    {
      "cell_type": "code",
      "source": [
        "varSet = {\"Geeks\", \"for\", \"Geeks\"}\n",
        "print(type(varSet))\n",
        "varSet"
      ],
      "metadata": {
        "colab": {
          "base_uri": "https://localhost:8080/"
        },
        "id": "Lfj1sKf-yjTa",
        "outputId": "7fb2118a-74ef-4c74-8ca2-fee53efd67f9"
      },
      "execution_count": 14,
      "outputs": [
        {
          "output_type": "stream",
          "name": "stdout",
          "text": [
            "<class 'set'>\n"
          ]
        },
        {
          "output_type": "execute_result",
          "data": {
            "text/plain": [
              "{'Geeks', 'for'}"
            ]
          },
          "metadata": {},
          "execution_count": 14
        }
      ]
    },
    {
      "cell_type": "code",
      "source": [
        "# typecasting list to set\n",
        "myset = set([\"a\", \"b\", \"c\"])\n",
        "print(myset)\n",
        "\n",
        "# Adding element to the set\n",
        "myset.add(\"d\")\n",
        "print(myset)\n",
        "\n"
      ],
      "metadata": {
        "colab": {
          "base_uri": "https://localhost:8080/"
        },
        "id": "YYYZvPFky-bJ",
        "outputId": "b6f6fbe9-e8ef-4c0d-f638-c3486f2a74c0"
      },
      "execution_count": 12,
      "outputs": [
        {
          "output_type": "stream",
          "name": "stdout",
          "text": [
            "{'c', 'b', 'a'}\n",
            "{'c', 'd', 'b', 'a'}\n"
          ]
        }
      ]
    },
    {
      "cell_type": "code",
      "source": [
        "# Python program to demonstrate differences\n",
        "# between normal and frozen set\n",
        "\n",
        "# Same as {\"a\", \"b\",\"c\"}\n",
        "normal_set = set([\"a\", \"b\",\"c\"])\n",
        "\n",
        "print(\"Normal Set\")\n",
        "print(normal_set)\n",
        "\n",
        "# A frozen set\n",
        "frozen_set = frozenset([\"e\", \"f\", \"g\"])\n",
        "\n",
        "print(\"\\nFrozen Set\")\n",
        "print(frozen_set)\n",
        "\n",
        "# Uncommenting below line would cause error as\n",
        "# we are trying to add element to a frozen set\n",
        "# frozen_set.add(\"h\")"
      ],
      "metadata": {
        "colab": {
          "base_uri": "https://localhost:8080/"
        },
        "id": "zdI0jCKv0GxU",
        "outputId": "6487c762-a88a-4f4a-960f-e2b4e164fa0c"
      },
      "execution_count": 13,
      "outputs": [
        {
          "output_type": "stream",
          "name": "stdout",
          "text": [
            "Normal Set\n",
            "{'c', 'b', 'a'}\n",
            "\n",
            "Frozen Set\n",
            "frozenset({'e', 'f', 'g'})\n"
          ]
        }
      ]
    },
    {
      "cell_type": "markdown",
      "source": [
        "# **Internal working of Set**\n",
        "\n",
        "This is based on a data structure known as a hash table.\n",
        "If Multiple values are present at the same index position, then the value is appended to that index position, to form a Linked List. In, Python Sets are implemented using dictionary with dummy variables, where key beings the members set with greater optimizations to the time complexity.\n",
        "\n",
        "Set Implementation:\n",
        "![image.png](data:image/png;base64,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)\n",
        "\n",
        "Sets with Numerous operations on a single HashTable:\n",
        "\n",
        "![image.png](data:image/png;base64,iVBORw0KGgoAAAANSUhEUgAABEIAAAKaCAIAAAC1HWtWAAAgAElEQVR4AezdS67bOraA4YxlD6PGsJFhnGZ6GUaAamcKae3O6QXpppEJBAWkEyADyARcsCgtURRNLokUzcd/UbhH2+JrfaRNLct23t34PwQQQAABBBBAAAEEEECgKYF3TY2WwSKAAAIIIIAAAggggAACN9IYFgECCCCAAAIIIIAAAgg0JkAa09iEMVwEEEAAAQQQQAABBBDwpDHv+D8EEEAAAQQQQAABBBBA4HkC0TyNNOZ5k0PPCCCAAAIIIIAAAggg4BMgjfGp8BgCCCCAAAIIIIAAAghULJCUxkQrUwABBBBAAAEEEEAAAQQQyCUgiVW0wdCHyqKVKYAAAggggAACCCCAAAII5BIgjcklSTsIIIAAAggggAACCCBQSIA0phA03SCAAAIIIIAAAggggEAuAdKYXJK0gwACCCCAAAIIIIAAAoUESGMKQdMNAggggAACCCCAAAII5BIgjcklSTsIIIAAAggggAACCCBQSIA0phA03SCAAAIIIIAAAggggEAuAdKYXJK0gwACCCCAAAIIIIAAAoUESGMKQdMNAggggAACCCCAAAII5BIgjcklSTsIIIAAAggggAACCCBQSIA0phA03SCAAAIIIIAAAggggEAuAdKYXJK0gwACCCCAAAIIIIAAAoUESGMKQdMNAggggAACCCCAAAII5BIgjcklSTsIIIAAAggggAACCCBQSIA0phA03SCAAAIIIIAAAggggEAuAdKYXJK0k03g188PL2+vH/9kazB/Q38+1T7C/DHX1+I0C+9//r52ZJpeWA/XzgGtI4AAAggg4BEgjfGg8NApgd+fv72+vH36eqqyXYk0xtZIOTaSRy/0z9XajvP7x7fXl29ffm0fvd1uX3+8vrx9+Px3d+LEA7EEY+rr9eXtwf9+fFf1Gevl3ghpjIqSQggggAACCOQUII3JqTl2W6Qx1c3/uYTkXK1t8KQxWw/+QgABBBBAAIHcAqQxuUXHbY80Zty530VeRRpjj8rkZmc+qcjdGNuRYwQQQAABBKoRII2pZiqaHwhpTPNTmC8A0ph8lrSEAAIIIIAAAj4B0hifCo+dEdilMfKFgb9f3sv3Ex5+X2L+AsPHPzfvG+eb7zlsGpmumDffyTEjefgFDG/75usNL+v3JUyzy9cqNj3uvgvhe8Pe28vjKHbiWr3D4xThh79SIF2bQcmfsXm0YjiUxgRDuM3rYf6KyzpB8yzcv/mjGJh3OpYBBwcgkxvoRYiWFpdvAT1YP1YxDhFAAAEEEEDgnABpzDk3au0F/GmM5wvWm5TA1Fqu9iTb2fxSmbeM9VsC00WkZCDmgjX0vXZzPWpfEDtfPTcNWoO5R2EP27lsnf50etxdN8eicERNm9/uP9q2/d8ucKdAdJxWm86Y5yH4otuOYRqS3ZEz+Js6jZn6chu3WjaMdoF1zN66zkwtA9tNx3LC24g1gDm/dZDvf7oTYX1i7eBcL2PhvwgggAACCCCgFyCN0VtRMixgLt3ca7v7BahcFM7vZ1v3SeaLyLWWXLbKReH8iJV1mEfWy9k5CZl+o9l0IT36h7wbqnPZfR/VOqTbzZR3hy0jNFe69nhuyz0EKaOJYjNYubxeA58vjteOTo3z5e11bWHT5fLH1LWMfL2OF9X9PC5Vl/9u72+4OYAjGaCeQpZ+J9V18EIkBR4PzPivQS0DnaILDGC+53NfxpGJWH8i/PBcy2A4QAABBBBAAAG1AGmMmoqCEYFdbmCuMteLv3t952rS+/O72zK7Zu/NuFe3N5OHvH366Pye73xdKzc05gtW04VzQbz+uYt0O6QTHypTRmF1POm5QzLhbEmtOi6vyUDWa3dvm3Z9czwVc2pZF/H3Qi6I24g6jXErOi0btzVD2BRXLDApHxuwFHQGYH10bS1ymz/GJhOxETs+13bLHCOAAAIIIICAToA0RudEqbjA7urNd9G8vZrcVZl62ZZ5fEEs78FbtdxbDQ/SmPkydGnBl015+nWu7J0/nZTjXBQrs09vztaWYU+FU8e59ihHm4ty/3X8NjqpKQfTqDbjnE8dpp4T1CkRlbTBNOYjejSwR49PLcUNncl1J2Ij5mlt/lCcD0TIOEAAAQQQQACBQwKkMYe4KBwQ2OUk8avMXZWp+e0Vp/ai0NTafvgnMFr732GcurAukdemtp+GcvIW50/nSvdcFOuIfXrO1XOWca49ytHmovzaNCYewjyqdRmszj6iLbuEtLvHspyJD8DXizMR27te61Dn7EVWEWnMws5/EUAAAQQQSBcgjUk3pAUjsMtJfNd/zlWm771554pzajZ6/bd82mpq8MFnkJyJkuFNB2tOsv8mzP4zVE6V6c/gx650UdgjlOHZDy5hTo8ZcOt7JrpxrmmA3bJ97IvOqeXMo117Op4u5X2ztp1xRQibpk2GsHyVxUf0aGAPHlcMwNdL/ENlvtg3ofAHAggggAACCKQJkMak+VF7FTBXhMsl5k31Lr65uFx/A2D5sr79W8BzGetuiflujHVhbXU9f4rMGsY6QudovtT+fP86jV3eam2uMb+/vqY6zoX+3OmaUcxjtn5vTRHFdnhTF9vPyDnDOD5O7xX5ttv7X050vlomnBXEbWS2/eU+bt8EW77jtMHfxniHXVWX31pYJuvIwB4MWGsYnAhX7PBc75R4AAEEEEAAAQSiAqQxUSIKKAV2V4Sqq8z5stX++M376ReBrUtkTxn7stJcNUpW47uI9Idgbt3sP4e2Pi4fB5oO1iE5F/pW9mUHYidj88eQtg3aUbhDnLpwWrv/ab3Nf3icvhlx+y2axpisRn6AYT2Yqef8cH18M1m+cB6kK84tvjVopWF4ItzEz/4+jzXjskTX7jlCAAEEEEAAgbMCpDFn5ajnCpxLY+QteXOpOr31vksS3H9M0LrL4XxZfxqUGYnio2XLVfKanyxBba5uf3x3r1NjI7w3GCuzTXKWjuW/co0+HcyX0ZtbUveix8YpbUov3gNn5L5aj7KFpT3l3RhtCJJFbDKBIwMLDFhrOHXnnwhHbFLYNGuv2MWI/yKAAAIIIIBAigBpTIoedRG4TMB3jX5ZZzSMAAIIIIAAAgg0JkAa09iEMdxRBEhjRplp4kQAAQQQQACBMwKkMWfUqIPA5QKkMZcT0wECCCCAAAIINCxAGtPw5DH0ngVIY3qeXWJDAAEEEEAAgVQB0phUQeojgAACCCCAAAIIIIBAYQHSmMLgdIcAAggggAACCCCAAAKpAqQxqYLURwABBBBAAAEEEEAAgcICpDGFwekOAQQQQAABBBBAAAEEUgVIY1IFqY8AAggggAACCCCAAAKFBUhjCoPTHQIIIIAAAggggAACCKQKkMakClIfAQQQQAABBBBAAAEECguQxhQGpzsEEEAAAQQQQAABBBBIFSCNSRWkPgIIIIAAAggggAACCBQWII0pDE53CCCAAAIIIIAAAgggkCpAGpMqSH0EEEAAAQQQQAABBBAoLEAaUxic7hBAAAEEEEAAAQQQQCBVgDQmVZD6CCCAAAIIIIAAAgggUFiANKYwON0hgAACCCCAAAIIIIBAqgBpTKog9RFAAAEEEEAAAQQQQKCwAGlMYXC6QwABBBBAAAEEEEAAgVQB0phUQeojgAACCCCAAAIIIIBAYQHSmMLgdIcAAggggAACCCCAAAKpAqQxqYLURwABBBBAAAEEEEAAgcICpDGFwekOAQQQQAABBBBAAAEEUgVIY1IFqY8AAggggAACCCCAAAKFBUhjCoPTHQIIIIAAAggggAACCKQKkMakClIfAQQQQAABBBBAAAEECguQxhQGpzsEEEAAAQQQQAABBBBIFSCNSRWkPgIIIIAAAggggAACCBQWII0pDE53CCCAAAIIIIAAAgggkCpAGpMqSH0EEEAAAQQQQAABBBAoLEAaUxic7hBAAAEEEEAAAQQQQCBVgDQmVZD6CCCAAAIIIIAAAgggUFiANKYwON0hgAACCCCAAAIIIIBAqgBpTKog9RFAAAEEEEAAAQQQQKCwAGlMYXC6QwABBBBAAAEEEEAAgVQB0phUQeojgAACCCCAAAIIIIBAYQHSmMLgdIcAAggggAACCCCAAAKpAqQxqYLURwABBBBAAAEEEEAAgcICpDGFwekOAQQQQAABBBBAAAEEUgVIY1IFqY8AAggggAACCCCAAAKFBUhjCoPTHQIIIIAAAggggAACCKQKkMakClIfAQQQQAABBBBAAAEECguQxhQGpzsEEEAAAQQQQAABBBBIFSCNSRWkPgIIIIAAAggggAACCBQWII0pDE53CCCAAAIIIIAAAgggkCpAGpMqSH0EEEAAAQQQQAABBBAoLEAaUxic7hBAAAEEEEAAAQQQQCBVgDQmVZD6CCCAAAIIIIAAAgggUFiANKYwON0hgAACCCCAAAIIIIBAqgBpTKog9RFAAAEEEEAAAQQQQKCwAGlMYXC6QwABBBBAAAEEEEAAgVQB0phUQeojgAACCCCAAAIIIIBAYQHSmMLgdIcAAggggAACCCCAAAKpApWmMTIsDhBAAAEEEEAAAQQQQKBLgZRURkCijbzbl9BX3tcNPyItc4AAAggggAACCCCAAAJdCoQzgvBZAQkXu91upDFixQECCCCAAAIIIIAAAgikCkQzkEAB6TtQxpwijRErDhBAAAEEEEAAAQQQOCAQvdQeqoDApUStb+RpaUxKeNRVCsg64CCvgNKfYnqBvBNEawgggAACCJQR0O90I5QU85Rg9Y2QxqQ4115X1sG7d56Jrn30NY3PlgTziplxhPkTAQQQ2Atc8eIzWpu26mix541XJPM223prWVj0jXiubvWVj1pLy1wIHqU7Vx7wc277WrYkq3fvk/6ILZzeGi3sBRDemygfsel4+ivRTheztU83QsWAAMIBnEOnRPJQre4LZ2HRN0Ia0/OKknXA1ps4zbYkmImY3uq2sLcADyYKIHwa0Kbj6X+aUVnR1lZWodghAYQPcQUKi2SgzICnsrDoGyGN6XmNyTpg602cZlsSzERMb3Vb2FuABxMFED4NaNPx9D/NqKxoayurUOyQAMKHuAKFRTJQZsBTWVj0jZDG9LzGZB2w9SZOsy0JZiKmt7ot7C3Ag4kCCJ8GtOl4+p9mVFa0tZVVKHZIAOFDXIHCIhkoM+CpLCz6Rkhjel5jsg7YehOn2ZYEMxHTW90W9hbgwUQBhE8D2nQ8/U8zKiva2soqFDskgPAhrkBhkQyUGfBUFhZ9I6QxPa8xWQdsvYnTbEuCmYjprW4LewvwYKIAwqcBbTqe/qcZlRVtbWUVih0SQPgQV6CwSAbKDHgqC4u+EdKYnteYrAO23sRptiXBTMT0VreFvQV4MFEA4dOANh1P/9OMyoq2trIKxQ4JIHyIK1BYJANlBjyVhUXfCGlMz2tM1gFbb+I025JgJmJ6q9vC3gI8mCiA8GlAm46n/2lGZUVbW1mFYocEED7EFSgskoEyA57KwqJvhDSm5zUm64CtN3GabUkwEzG91W1hbwEeTBRA+DSgTcfT/zSjsqKtraxCsUMCCB/iChQWyUCZAU9lYdE3QhrT8xqTdcDWmzjNtiSYiZje6rawtwAPJgogfBrQpuPpf5pRWdHWVlah2CEBhA9xBQqLZKDMgKeysOgbIY3peY3JOmDrTZxmWxLMRExvdVvYW4AHEwUQPg1o0/H0P82orGhrK6tQ7JAAwoe4AoVFMlBmwFNZWPSNkMb0vMZkHbD1Jk6zLQlmIqa3ui3sLcCDiQIInwa06Xj6n2ZUVrS1lVUodkgA4UNcgcIiGSgz4KksLPpGSGN6XmOyDth6E6fZlgQzEdNb3Rb2FuDBRAGETwPadDz9TzMqK9rayioUOySA8CGuQGGRDJQZ8FQWFn0jpDE9rzFZB2y9idNsS4KZiOmtbgt7C/BgogDCpwFtOp7+pxmVFW1tZRWKHRJA+BBXoLBIBsoMeCoLi74R0pie15isA7bexGm2JcFMxPRWt4W9BXgwUQDh04A2HU//04zKira2sgrFDgkgfIgrUFgkA2UGPJWFRd8IaUzPa0zWAVtv4jTbkmAmYnqr28LeAjyYKIDwaUCbjqf/aUZlRVtbWYVihwQQPsQVKCySgTIDnsrCom+ENKbnNSbrgK03cZptSTATMb3VbWFvAR5MFED4NKBNx9P/NKOyoq2trEKxQwIIH+IKFBbJQJkBT2Vh0TdCGtPzGpN1wNabOM22JJiJmN7qtrC3AA8mCiB8GtCm4+l/mlFZ0dZWVqHYIQGED3EFCotkoMyAp7Kw6Bshjel5jck6YOtNnGZbEsxETG91W9hbgAcTBRA+DWjT8fQ/zaisaGsrq1DskADCh7gChUUyUGbAU1lY9I2QxvS8xmQdsPUmTrMtCWYipre6LewtwIOJAgifBrTpePqfZlRWtLWVVSh2SADhQ1yBwiIZKDPgqSws+kZIY3peY7IO2HoTp9mWBDMR01vdFvYW4MFEAYRPA9p0PP1PMyor2trKKhQ7JIDwIa5AYZEMlBnwVBYWfSOkMT2vMVkHbL2J02xLgpmI6a1uC3sL8GCiAMKnAW06nv6nGZUVbW1lFYodEkD4EFegsEgGygx4KguLvhHSmJ7XmKwDtt7EabYlwUzE9Fa3hb0FeDBRAOHTgDYdT//TjMqKtrayCsUOCSB8iCtQWCQDZQY8lYVF3whpTM9rTNYBW2/iNNuSYCZieqvbwt4CPJgogPBpQJuOp/9pRmVFW1tZhWKHBBA+xBUoLJKBMgOeysKib4Q0puc1JuuArTdxmm1JMBMxvdVtYW8BHkwUQPg0oE3H0/80o7Kira2sQrFDAggf4goUFslAmQFPZWHRN0Ia0/Mak3XA1ps4zbYkmImY3uq2sLcADyYKIHwa0Kbj6X+aUVnR1lZWodghAYQPcQUKi2SgzICnsrDoGyGN6XmNyTpg602cZlsSzERMb3Vb2FuABxMFED4NaNPx9D/NqKxoayurUOyQAMKHuAKFRTJQZsBTWVj0jZDG9LzGZB2w9SZOsy0JZiKmt7ot7C3Ag4kCCJ8GtOl4+p9mVFa0tZVVKHZIAOFDXIHCIhkoM+CpLCz6Rkhjel5jsg7YehOn2ZYEMxHTW90W9hbgwUQBhE8D2nQ8/U8zKiva2soqFDskgPAhrkBhkQyUGfBUFhZ9I6QxPa8xWQdsvYnTbEuCmYjprW4LewvwYKIAwqcBbTqe/qcZlRVtbWUVih0SQPgQV6CwSAbKDHgqC4u+EdKYnteYrAO23sRptiXBTMT0VreFvQV4MFEA4dOANh1P/9OMyoq2trIKxQ4JIHyIK1BYJANlBjyVhUXfCGlMz2tM1gFbb+I025JgJmJ6q9vC3gI8mCiA8GlAm46n/2lGZUVbW1mFYocEED7EFSgskoEyA57KwqJvhDSm5zUm64CtN3GabUkwEzG91W1hbwEeTBRA+DSgTcfT/zSjsqKtraxCsUMCCB/iChQWyUCZAU9lYdE3QhrT8xqTdcDWmzjNtiSYiZje6rawtwAPJgogfBrQpuPpf5pRWdHWVlah2CEBhA9xBQqLZKDMgKeysOgbIY3peY3JOmDrTZxmWxLMRExvdVvYW4AHEwUQPg1o0/H0P82orGhrK6tQ7JAAwoe4AoVFMlBmwFNZWPSNkMb0vMZkHbD1Jk6zLQlmIqa3ui3sLcCDiQIInwa06Xj6n2ZUVrS1lVUodkgA4UNcgcIiGSgz4KksLPpGSGN6XmOyDth6E6fZlgQzEdNb3Rb2FuDBRAGETwPadDz9TzMqK9rayioUOySA8CGuQGGRDJQZ8FQWFn0jpDE9rzFZB2y9idNsS4KZiOmtbgt7C/BgogDCpwFtOp7+pxmVFW1tZRWKHRJA+BBXoLBIBsoMeCoLi74R0pie15isA7bexGm2JcFMxPRWt4W9BXgwUQDh04A2HU//04zKira2sgrFDgkgfIgrUFgkA2UGPJWFRd8IaUzPa0zWAVtv4jTbkmAmYnqr28LeAjyYKIDwaUCbjqf/aUZlRVtbWYVihwQQPsQVKCySgTIDnsrCom+ENKbnNSbrgK03cZptSTATMb3VbWFvAR5MFED4NKBNx9P/NKOyoq2trEKxQwIIH+IKFBbJQJkBT2Vh0TdCGtPzGpN1wNabOM22JJiJmN7qtrC3AA8mCiB8GtCm4+l/mlFZ0dZWVqHYIQGED3EFCotkoMyAp7Kw6Bshjel5jck6YOtNnGZbEsxETG91W9hbgAcTBRA+DWjT8fQ/zaisaGsrq1DskADCh7gChUUyUOaaU78/f3t9eZP/ffp6TTfnWs3Com+ENObcNLVRS9YBW2/ihNmSYCZieqvbwt4CPJgogPBpQJuOp/9pRmVFW1tZhWKHBBA+xBUoLJKBMhec+v5xTWAkk/nw+e8FXZ1qMguLvhHSmFOz1EglWQdsvYkzZkuCmYjprW4LewvwYKJADcK/fn4w7yC+//k7MZyS1W06nv5Xy9vaV/c1ZvsI55p3kczVoKad+VX0x3cp/PXHPZmp50U1C4u+EdIYWQkdHsg6YOtNnF1bEsxETG91W9hbgAcTBSoQXt9ErGfH1ajadDz9NWIpZWztlHao+0igDmHnY1FyV+H15a2iGwuPDM3jIhkulvfslLRsif5+ef/2+mIlNnl7PNpaFhZ9I6QxRyeopfKyDirdes1z762uj3V6J9iWrBTTO+52HrSF2xl1SyN9uvC8+/78VNUbh5optOl4+mvEUsrY2intUPeRQB3CpDGP5ifyuLkb8/GPVezP/UV184h1svyhLLCUrvWNkMakONdeV9ZBhVuvuQ06fcKENKb2hVRgfDWv1QLhF+jiycLTRnu/CSMHBWLO1IVNV+FraaYoa2nG1q5lTH2No15h887mty+/GgEXybLjXTLA6fbL/jNmZQfj6S0Li74R0hjPHHTzkKyDyrbe+bMl739+n35tgzSmmxV3PpBa1+r5iGqr+VThad81VyekMbWtjMrG89SFWpnFNcOpVthzn+EagVytimSuBvXtWG8EV3Qfxow/C4u+EdIY/bJpr6Ssg7rSmPt1jEldzJsKpDHtLa3sI650rd7jXL/R0dynoexpeqLwdHWyfJibNMaelfTjydP66dXpOwbtvJ+9B3jiQt0P5na72deLy87lLdjMg7UJL3DmlbaB64FlwDeRlEcKHcwfyF+/UFTVtw2zsOgbIY0ptOqe0o2sg7rSmNWCNGa1OHvERfZZOU097zViNd+k1EQgZZ72auB8/ZQ0RqYky4F3iZLGZLHdvoXR4o/seRme9lLgHc3yoLkVU9Xl+DK0h/8VyYclrjhhnvLrNjR/xqweuiws+kZIY65YZbW0KeuANCZxSmzJejDnD8U6PyG/vrolBl20ui1ctONgZ3dh+4pwvmRs6f1Cie9ZwtOb2ZYYaYxMSZaDBj3DcT9roe5GNV8d1vMDULsRnnygGmF7/O3dirndnnI3ZoKyd6W7Yl3vCMsCsyf46LG+EdKYo7YtlZd1UM+V95avrufedmybv2zJejAfXGQvn97ZRFD7H7ZwxWM1KxZh9RRNF9mbn9Bp8LLbXpz1PP3nOWjQM7x6bO1wyWvPOncRr+2saOu1CNtBT8u4uYxRJO1Qrj32/wpCXRtTFhZ9I6Qx1y6557Yu66C6rXd2IY3JvEDMx7g3V42Ze7iquerXqgm8mRW7n6enCG+/V7B+ktt8PqeVhWrTVfdaShqzX+s5HpnudTf5hkU0ens9RwsXKVDXVbg+ZJHUV0kuOX+M3P4I2fK5DOumd3I3KQ1kYdE3QhqTMlm115V1UN3WO8s1c1FoS9aKeTedrhqb3Hpt4WqfV+ai3N4/qh3qfmBPESaN2U9E5kfM29j2J0vb/FipsDxloUrvcjAt3U9ft9+lbvS5L0GZg0qE11G1eSvmSR8quy1Ji/uuUD2LUxbYOsXHj/SNkMZodbf7cS1Zb3j0sg5qvfImjQlP4NGzTX682ARZ7Vp19oxWbiDsl04twg3ePbDpqnst3acx95SmjR1qv0rtS8OnUpu9yb1SbPq3CkXbXs/y4PMOZuoWX1pFsrSe+6yv673LLCz6RkhjNMvP+4pW17rxhiHr4Kn7gXdo5kHSmADO4VPmgruet2QOBVDvWnU3jFeED82sW5g0xhXJ+vdy96DRVVpbGrNhnF8KGk4RzVKr68XW/2WPrE+KyxoTyct6aLLhLCz6RkhjFKvEffFasprq793LOiCNUUxzqIgtWSlmy5tBNdcuoTVwP7dcIzb9xuGTFzBpTGyVpZ43G1b129OjMO0X20dlrn/c+xabebCBdzDDPnUIz2M0n3Np8RXV3rbC4KOdlQWWEri+EdKYqLPvlWu+mqn9XRlZB0++cHGMl2vBhv7JNluyLszZtuGPk5kIbGFnvdT1p1m9DV4jNiNc13zfR2PTVfn035I1u0RNGLb2NrCif02X127G4n2w6LBydFaJ8D2URi6lHqmL5KMCYz6ehUXfCGlMdJkFfqXbfY2LtlW4gKyDurZe0pi866DxncBgVLpW9zPV7DViM8J782c/YtPV9VrqleFujJfl4IO+z+h6b9EcbLeC4vZ6rmA4DQ9BJBuO4YKhZ2HRN0IaE5tDc9Xi/mNDbfwklKyDBrbe2Dw897wtWRdmFzmM84b3c+fa6v1+1bL5cPzyr3pvH7RqVHxor+GKh1nj0Gy6up7+9wW5fTdt/gj09sEaUR+OydZ+WKjAiVly/czF/DM/Dd6JdbRqEXaG1eCfItng2C8cchYWfSOkMbG5fPDmaxMf6JR1UNnWGzOv77wtWRHmbqOtT047IltYW+fycubN192vFe3e1Lh8IDk6qFI4R2DXt2HTVfT0vwc+/yMSzgd0W0yzZRptbXnwGQfep/+a1TxjSHn6rEY4TzhPbEUknziGCrvOwqJvhDQmtgZIY2JCI5yXZ5Q5qCNk7y47XXM3eJ1tC9fBO4/C+cuo0VUAACAASURBVMHldi8QqxWuarq9g7HpKktj9plMw/dhDL6t7Z2Okg/Od2DMP8vT4Ouq16oqYe8IW3lQJFsZcJlxZmHRN0IaE5tWPlQWExrhvDyjzEElIW+2WPvfv2twu7WFK+HtbBgIn55Qm66+NOZ0WJVWtLUrHWLjw0I41wSKZK4G+2gnC4u+EdKY6LLhK/5Rov4LyDPKHPQfcPEIbeHinQ/RIcKnp9mmI405zaisaGsrq1DskADCh7gChUUyUGbAU1lY9I2QxkTXmPnozvZO/YNbNNG2CheQdcDWmyhvS4KZiOmtbgt7C/BgogDCpwFtOp7+pxmVFW1tZRWKHRJA+BBXoLBIBsoMeCoLi74R0pj4Gps/HL9+UGf+TkL9n5KXdcDWG5/mYAlbEswg1cmTtvDJJqgWFEA4yBM6adPx9A9J5Thna+dojzZcAYRdkbN/i+TZBvqsl4VF3whpjGYZ+X4NZs1qNC08p4ysA7bexAmwJcFMxPRWt4W9BXgwUQDh04A2HU//04zKira2sgrFDgkgfIgrUFgkA2UGPJWFRd8IaYxyjW1/FaqRX46XdcDWq5zmR8VsSTAfKaU8bguntEPdRwIIP5KJPm7T8fSPciUWsLUTm6K6VwBhL8uJB0XyRN2Oq2Rh0TdCGtPxWrrJOmDrTZxmWxLMRExvdVvYW4AHEwVsYY5TBBInguphAXtqwiU5e04A4XNu+1oiuT818iNZWPSNkMb0vNhkHXDlnTjNtiTHCCAwskDiiwnVwwL20gqX5Ow5AYTPue1rieT+1MiPZGHRN/K0NEaGyAECCCCAAAIIIIAAAgh0I5CSywlCtBHSGLHiAAEEEEAAAQQQQAABBFIFohlIoID0HShjTpHGiBUHCCCAAAIIIIAAAgggkCoQzUACBaTvQJknpDG32+ZL5zJKDq4WiK4DCiCAAAIIeAWufn2m/UcC3ul44oOPxhl+/IkDpuueBMLLLHy2OQcJJzryondjoqOhAAIIIIAAAlUJyIbKQWGBqpbB6fdha4uC8TQqkPLsay5kCTY6ctKYKBEFEEAAAQQQqEtAtnn9QV0BNDgaodaM/VBhTYOUGVzgxIo6UaUSZP3ISWMqmTKGgQACCCCAgFZAtnn9gbZpyj0QEOoH5zcPHyq8qckfCPgETqyoE1V8PT/hMf3ISWOeMD10iQACCCCAQIrAgW1+KZrSHXXtD5VpNBZ1z1WWpjplEHAETqyoE1WcTp/1p37knieYvvKzwqNfBBBAAAEERhbQ79T6kiN7amI/JHmosKZ3ygwucGJFnahSCbJ+5KQxlUwZw0AAAQQQQEArcGCbX4pqm6bcA4EF0nPhtK9xqPC+Oo8g4AicWFEnqjidPutP/cg9z0Z95WeFR78IIIAAAgiMLKDfqfUlR/bUxH5I8lBhTe+UGVzgxIo6UaUSZP3ISWMqmTKGgQACCCCAgFbgwDa/FNU2TbkHAguk58JpX+NQ4X11HkHAETixok5UcTp91p/6kXuejfrKzwqPfhFAAAEEEBhZQL9T60uO7KmJ/ZDkocKa3ikzuMCJFXWiSiXI+pGTxlQyZQwDAQQQQAABrcCBbX4pqm2acg8EFkjPhdO+xqHC++o8goAjcGJFnajidPqsP/Uj9zwb9ZWfFR79IoAAAgggMLKAfqfWlxzZUxP7IclDhTW9U2ZwgRMr6kSVSpD1IyeNqWTKGAYCCCCAAAJagQPb/FJU2zTlHggskJ4Lp32NQ4X31XkEAUfgxIo6UcXp9Fl/6kfueTbqKz8rPPpFAAEEEEBgZAH9Tq0vObKnJvZDkocKa3qnzOACJ1bUiSqVIOtHThpTyZQxDAQQQAABBLQCB7b5pai2aco9EFggPRdO+xqHCu+r8wgCjsCJFXWiitPps/7Uj9zzbNRXflZ49IsAAggggMDIAvqdWl9yZE9N7IckDxXW9E6ZwQVOrKgTVSpB1o+cNKaSKWMYCCCAAAIIaAUObPNLUW3TlHsgsEB6Lpz2NQ4V3lfnEQQcgRMr6kQVp9Nn/akfuefZqK/8rPDoFwEEEEAAgZEF9Du1vuTInprYD0keKqzpnTKDC5xYUSeqVIKsHzlpTCVTxjAQQAABBBDQChzY5pei2qYpd7stZv7/aoT8NadHNdUpg4AjICvKeTzw54kqgdZKntKPnDSm5LzQFwIIIIAAAhkEDmzzS9EMvY7RxAL28L8ahoeVlxOaRiiDgAgsC8dz3S5lnIMTVZwWnvWnfuQeDn3lZ4VHvwgggAACCIwsoN+p9SVH9rRjF7FHB3bhR8eP6srjjyryOAJegRMr50QVb9flH9SPnDSm/OzQIwIIIIAAAloB2dG9B9FWvLXkwWj1MQuIz7t3nsukcyZXtHluJNRqUUDWj37wJ6roG7+0pH7knuenvvKlMdA4AggggAACCMim7D2I+nhryYPR6sMWyE6UvcFhp2bMwE+snxNVKrHVj5w0ppIpYxgIIIAAAgh4BGRH9x54Kmwf8taSB7dl+WsVEKIsN2TytraOkqPuBOyl4j3WR+ytbj+ob6pwSRlktF/SmCgRBRBAAAEEEHimgGzq6ZfUGZt6pkiRvnNZ5WqnSNB08mQBe7V4j/Xj81a3H9Q3VbikDDLaL2lMlIgCCCCAAAIIPFlAv6+HB5qrnXAv3ZwVrtMJZHoL3WASiEbAXjDeY00jpoy3uv2gvqnCJWWQ0X5JY6JEFEAAAQQQQODJArKvn76evm3/OZQnx9NO94nyUr2diBnpkwVkzaQ82b0xXNeyt7vTD8o4oy2QxkSJKIAAAggggMDzBWRrP3dxk1j9+fE/bwRCd3QIpyse7YjynQlctHIuajY7vn6cpDHZ8WkQAQQQQACBSwRkdz+RyUjdS0bWdaNCd4j9XK2uIQlOK3DF4rmiTW08B8vJUKP1SGOiRBRAAAEEEECgFgH9Bm+P+Fwtu4XBjwVQmckcLT84L+HvBfIuobyt7Ueb9xEZbbRZ0pgoEQUQQAABBBCoRUA2eOX1NF+JyTVzenl9yVxjo50uBWQhpUeXsan0wURb0I+WNCaKSQEEEEAAAQQqEpA9XpPJHCpcUZBVDkWJKcWqDIJBtSSQZS1JI5pXjBp0ZMDRwZDGRIkogAACCCCAQF0CB7b5pWhdATQ7moXTc/lkYooWaDZ0Bv4EAVlOpzOQ9BbKhy1jjnbteR7qK0dbpwACCCCAAAIIZBeQnTp8caMsln14HTcYJg2f7ZiF0K4TkEV1rovE6uc6TaylHzNpTCI11RFAAAEEEHiCgOz0jzKZaIEnDLqLLh/BPnq8i6AJ4pkCsrSODuJ0xaMd5S2vHzZpTF55WkMAAQQQQKCQQHizD58tNMROuxFbySH3j3QaOmE9QeDc6jpX6wnh7bqUke/OuA+Qxrgi/I0AAggggEATArLZy8W0DDtwSspwkCIgwqYR58+UlqmLwF5AFtj+yb4vbB6RKo8KVPu4fuSkMdVOIgNDAAEEEGhDQDZdDlIEykx2ygg7qFsGmV6uEJDlp2n8UGFNgyXL6AdPGlNyXugLAQQQQKBDAdl0OUgRKLMyUkbYQd0yyPRyhYC9/MLt60uG23nWWRl/dACkMVEiCiCAAAIIIBASkE2XgxSBEHG+cykj7KBuPkhaeoKAvQIfda8p86huJY9LCNHxkMZEiSiAAAIIIIBASEC/6YZaSTgnA7APEtorWlXGXKbX7N2ZBssM/nQv2aM+PRIqJgpEpzJaIHEABarrQyCNKTAddIEAAggg0LOAftO9TkHGYA6u6yh7yzLy7C17GyzcnXcM5R8cM+ryzgV6lKn0ftc/fLbA8LJ0IVFEWyONiRJRAAEEEEAAgZCAftMNtZJ8rpJhHI2j8LALd3dU46LyY0Z9EebTm5XZdDKZR48/fcBHByCBRCuSxkSJKIAAAggggEBIQL/phlrJcc65rMnR5OVtFNYr3N3lfLoOxoxaZ9NkKe+Eeh9sMTx9IKQxLc4vY0YAAQQQqEhAv+lWNOhqhlJYr3B3lTCPGXUl+FcMQyZU3rnYP3JFv2XalFii3ZHGRIkogAACCCCAQEhAv+mGWhn1XGG9wt1VMqtjRl0J/kXDkDl1Di7qrmSzElG0U9KYKBEFEEAAAQQQCAnoN91QK6OeK6xXuLtKZnXMqCvBv24YMq1ycF1fJVvWh0MaU3Je6AsBBBBAoEMB/abbYfDJIRXWK9xdMk+eBsaMOo9d3a3IzJqDugerHZ0EFa1AGhMlogACCCCAAAIhAf2mG2pl1HOF9Qp3V8msjhl1GXyxHefgaliRjHZEGhMlogACCCCAAAIhAf2mG2pl1HOF9Qp3V8msjhl1GXyxHefgaliRjHZEGhMlogACCCCAAAIhAf2mG2pl1HOF9Qp3V8msjhl1GXyxHefgaliRjHZEGhMlogACCCCAAAIhAf2mG2pl1HOF9Qp3V8msjhl1GfxxbItFqu+INKbMIqcXBBBAAIFuBfSbbrcECYEV1ivcXQJMzqpjRp1T8HFb49gWi1TfEWnM44XJGQQQQAABBBQC+k1X0dhwRQrrFe6ukukcM+oy+OPYFotU3xFpTJlFTi8IIIAAAt0K6DfdbgkSAiusV7i7BJicVceMOqfg47bGsS0Wqb4j0pjHC5MzCCCAAAIIKAT0m66iseGKFNYr3F0l0zlm1GXwx7EtFqm+I9KYMoucXhBAAAEEuhXQb7rdEiQEVlivcHcJMDmrjhl1TsHHbY1jWyxSfUekMY8XJmcQQAABBBBQCOg3XUVjwxUprFe4u0qmc8yoy+CPY1ssUn1HpDFlFjm9IIAAAgh0K6DfdLslSAissF7h7hJgclYdM+qcgo/bGse2WKT6jkhjHi9MziCAAAIIIKAQ0G+6isaGK1JYr3B3lUznmFGXwR/Htlik+o5IY8oscnpBAAEEEOhWQL/pdkuQEFhhvcLdJcDkrDpm1DkFH7c1jm2xSPUdkcY8XpicQQABBBBAQCGg33QVjQ1XpLBe4e4qmc4xoy6DP45tsUj1HZHGlFnk9IIAAggg0K2AftPtliAhsMJ6hbtLgMlZdcyocwo+bmsc22KR6jsijXm8MDmDAAIIIICAQkC/6SoaG65IYb3C3VUynWNGXQZ/HNtikeo7Io0ps8jpBQEEEECgWwH9ptstQUJghfUKd5cAk7PqmFHnFHzc1ji2xSLVd0Qa83hhcgYBBBBAAAGFgH7TVTQ2XJHCeoW7q2Q6x4y6DP44tsUi1XdEGlNmkdMLAggggEC3AvpNt1uChMAK6xXuLgEmZ9Uxo84p+LitcWyLRarviDTm8cLkDAIIIIAAAgoB/aaraGy4IoX1CndXyXSOGXUZ/HFsi0Wq74g0pswipxcEEEAAgW4F9JtutwQJgRXWK9Ddr58fXt5eX95e3//87cB8/XF/fPnfp6/O6cv+LBD1ZWOvveFxbItFqu+INKb2pwfjQwABBBCoXEC/6VYeyFOGV1jv+u6+f1wSlW0a8/vzN0lg5ODD578l1K+PukQUdfYxjm2xSPUdkcbU+aRgVAgggAACzQjoN91SIa1X0t57Arfb7Vm3BfYChfWu7m6C/fD55ydX/s/9kZc3uQOzZDU/vu9Nsj9yddTZB9xQg+PYFotU3xFpTEPPFIaKAAIIIFCjgH7TLTB6+UTT8sml6Y3/zbXycgG93DSYSha6LbAXKKx3bXdTrnK/CSMHc8DGfIv898v7TWKzt8n2yLVRZxtmkw2NY1ssUn1HpDFNPmcYNAIIIIBAPQL6TbfAmO9pzLcvv6Sn+SaAdQH91NsCMi45KKx3ZXdTrmLw3TRmuj9mz8s9fl9uIy5ZD66MOutAG2xsHNtikeo7Io1p8BnDkBFAAAEEahLQb7pPGbX5/NjHP6Zz36VzwdsCe4HCetd1N90HW9JFJ40xwm4aYz7at1TZ0+R75Lqo842x1ZbGsS0Wqb4j0phWnzaMGwEEEECgEgH9pvuUAc/f1pi/Sv7k2wJ7gcJ6V3VnEhX58J43jZGzi8I2w1weveC/V0V9wVCba3Ic22KR6jsijWnu+cKAEUAAAQTqEtBvus8Yt/m6//LN8mffFtgLFNa7qLspIVmQbzf3uzFOkrMokMYsEg3/96IVVaFIsUj1HZHGVLhOGBICCCCAQEsC+k23fFTmG//rL/8++3p6L1BY75Lupnsvy8f2phC9d2P4UNl++tt/5JIVVSVLsUj1HZHGVLlSGBQCCCCAQDsC+k23dEz7ey+kMctsZZwLc1Nl89Nw1q/ATenNkz/LtwTtuerL6DBmU+PYFotU35FnQesrj7leiRoBBBBAAAFboNZ9c/txMjPifWIzPT5diJf4rrntZo4L613RnSKNefzLCrtbNHui9EeuiDp9VH20MI5tsUj1HZHG9PEkIgoEEEAAgacJ6DfdckM06cr6jy1Kz0++LSDjkIPCeoW6cz5UdrvN/57PmrSYxOZ1/byfiFxwUCjqC0Zef5Pj2BaLVN8RaUz9TxBGiAACCCBQtYB+0y0UxsMc5sG/VfLgFk2Z0RbWK9TdLo253czNselfI5WPnK1ZzbXYhaK+NohKWx/Htlik+o5IYyp9VjAsBBBAAIFWBPSbbomIpgvoF899mLnz594W2AsU1ivUnSeNkRxyyWR2v7+8x8n1SKGocw23qXYutJ2fy8uCMdnvLvXdfqbR+rm83IwXRrodqr4j0pitHH8hgAACCCBwUEC/6R5s+ETx+aNKnq+br1c/z7wtsA+psF7h7vbxPuWRMaMuQ32hbTyN8T7fr/qS24WRbqdK3xFpzFaOvxBAAAEEEDgooN90DzZ8pvj2rVnrfdw1jXnmbYF9SIX1Cne3j/cpj4wZdRnqC2399/SssOY8R+7ALFnNNTf6LozUiul2u+k7Io3ZyvEXAggggAACBwX0m+7BhocoXlivcHeVTOGYUZfBv9A2ksaYpGV77yX0vbhUjwsj3Q5N3xFpzFaOvxBAAAEEEDgooN90DzY8RPHCeoW7q2QKx4y6DP6FtpE0pvSvDl4Y6Xaq9B2Rxmzl+AsBBBBAAIGDAvpN92DDQxQvrFe4u0qmcMyoy+BfaDt/Zsz6aKj9abEHPzB43b8BdWGk26nSd0Qas5XjLwQQQAABBA4K6Dfdgw0PUbywXuHuKpnCMaMug3+h7T6Nuf9Y2fJNGJPG2InNFLD5dtzHP/mjvzDS7WD1HZHGbOX4CwEEEEAAgYMC+k33YMNDFC+sV7i7SqZwzKjL4Jeznb/3svyTqaQxtxtpTJlFTi8IIIAAAt0KlLuO6ZGwsF7h7iqZsTGjLoNf1NbcnzF3YPhQGWlMmSVOLwgggAACHQsUvY7pzrGwXuHuKpmuMaMug1/UdnMHhq/4czemzBqnFwQQQACBfgWKXsd0x1hYr3B3lUzXmFGXwS9qa9+NuT3+weXNPxKVjaFYpPqO+FBZttmlIQQQQACBMQX0m+6YPuGoC+sV7i4ce7GzY0Zdhvcy2+8f37b/Jsz8jf/1wV8/P7y8vb6sScv8z1++//n7itgvi9QdrL4j0hjXjr8RQAABBBA4JKDfdA81O0jhwnqFu6tkEseMugz+ZbbTZ8buP022+d82RfGVWbOazACXReqOU98RaYxrx98IIIAAAggcEtBvuoeaHaRwYb3C3VUyiWNGXQb/SlsnS1nvw1ihzXdg5mxn9/vLVsnUwysj3YxN3xFpzAaOPxBAAAEEEDgqoN90j7Y8QvnCeoW7q2QGx4y6DP44tsUi1XdEGlNmkdMLAggggEC3AvpNt1uChMAK6xXuLgEmZ9Uxo84p+LitcWyLRarviDTm8cLkDAIIIIAAAgoB/aaraGy4IoX1CndXyXSOGXUZ/HFsi0Wq74g0pswipxcEEEAAgW4F9JtutwQJgRXWK9xdAkzOqmNGnVPwcVvj2BaLVN8RaczjhckZBBBAAAEEFAL6TVfR2HBFCusV7q6S6Rwz6jL449gWi1TfEWlMmUVOLwgggAAC3QroN91uCRICK6xXuLsEmJxVx4w6p+DjtsaxLRapviPSmMcLkzMIIIAAAggoBPSbrqKx4YoU1ivcXSXTOWbUZfDHsS0Wqb4j0pgyi5xeEEAAAQS6FdBvut0SJARWWK9wdwkwOauOGXVOwcdtjWNbLFJ9R6QxjxcmZxBAAAEEEFAI6DddRWPDFSmsV7i7SqZzzKjL4I9jWyxSfUekMWUWOb0ggAACCHQroN90uyVICKywXuHuEmByVh0z6pyCj9sax7ZYpPqOSGMeL0zOIIAAAgggoBDQb7qKxoYrUlivcHeVTOeYUZfBH8e2WKT6jkhjyixyekEAAQQQ6FZAv+l2S5AQWGG9wt0lwOSsOmbUOQUftzWObbFI9R2RxjxemJxBAAEEEEBAISCbLgcpAgrpDEVkhBnaaqeJMaMuMz/j2BaLVN8RaUyZRU4vCCCAAALdCsimy0GKQJn1kTLCDuqWQR6qF1kV3UddLFJ9R6Qx3a86AkQAAQQQuFZANl0OUgSunaSl9ZQRdlB3YeC/2QRkVWRrsdaGikWq74g0ptbFwrgQQAABBBA4IiB7f/jgSJMdlg3jdH+2wxl9dkiyZp49kMv7LxapviPSmMtnnQ4QQAABBBAoICB7f/igwEjoAoFxBOTp1n3IxSLVd0Qa0/2qI0AEEEAAgSEEwnt/+OwQQASJwAUC4zyzikWq74g05oIVTZMIIIAAAggUFwjv/eGzxQdLhwh0IjDOM6tYpPqOSGM6eRYRBgIIIIDA4ALhvT98dnA6wkfgtMA4z6xikeo7Io05vW6piAACCCCAQEUC4b0/fLaiMBgKAk0JjPPMKhapviPSmKaeKwwWAQQQQACBBwLhvT989kGTPIwAAhGBcZ5ZxSLVd0QaE1mdnEYAAQQQQKAJgfDeHz7bRIAMEoEKBcZ5ZhWLVN8RaUyFzwiGhAACCCCAwGGB8N4fPnu4MyoggMAkMM4zq1ik+o5IY3gWIoAAAggg0INAeO8Pn+0hfmJA4BkC4zyzikWq74g05hlLnj4RQAABBBDILRDe+8Nnc4+F9hAYRWCcZ1axSPUdkcaM8jQjTgQQQACBvgXCe3/4bN8yRIfAdQLjPLOKRarviDTmuoVNywgggAACCJQTCO/94bPlRklPCPQlMM4zq1ik+o5IY/p6MhENAggggMCoAuG9P3x2VDPiRiBVYJxnVrFI9R2RxqQuX+ojgAACCCBQg0B47w+frWH8jAGBFgXGeWYVi1TfEWlMi08ZxowAAggggIArEN77w2fdtvgbAQR0AuM8s4pFqu+INEa3SCmFAAIIIIBA3QLhvT98tu7IGB0C9QrIM2ucg6snQySjHZHGRIkogAACCCCAQAMC4b0/fLaB8BgiAlUKyDNrnIOr50Ekox2RxkSJKIAAAggggEADAuG9P3y2gfAYIgJVCsgza5yDq+dBJKMdkcZEiSiAAAIIIIBAAwLhvT98toHwGCICCIwhoH+xIo0ZY0UQJQIIIIBA7wLhvT98tncb4kMAgWYE9C9WpDHNTCoDRQABBBBAwBGQ/d4+cMqYP+0C5thbjAcRQACB5wrIi1V0GKQxUSIKIIAAAgggUKOAbPbOgXesThn501uYBxFAAIFnCehfnUhjnjVH9IsAAggggECSgGz2zoG3UaeM/OktzIMIIIDAswT0r06kMc+aI/pFAAEEEEAgVUC/39s9natlt8AxAgggcJGA/gWKNOaiKaBZBBBAAAEELhfQ7/f2UM7VslvgGAEEELhIQP8CRRpz0RTQLAIIIIAAApcLyH7/7p1nQ/d2f6KKtx0eRAABBK4QkNeoaOOeVz195WjrFEAAAQQQQACBSwWO7tpHy186eBpHAAEEHAH9axRpjEPHnwgggAACCLQkIFu+5obMocItKTBWBBDoRUBepqIBkcZEiSiAAAIIIIBA1QIHdv2laNXxMDgEEBhYYHmV8iQpjoqnhL6y0xZ/IoAAAggggEB5Af3GrS9ZPgp6RAABBG63m/5lijSGBYMAAggggEDzApqNX1OmeQgCQACBxgX0r1SkMY1PNcNHAAEEEEBA9/6l/uIAUQQQQOBZAvpXKtKYZ80R/SKAAAIIIJBTILz3h8/mHAdtIYAAAgkC+hcr0pgEZqoigAACCCBQjUB47w+frSYIBoIAAqML6F+sSGNGXyvEjwACCCDQh4Ds/ftfXg6c6iN2okAAgW4E5PUqGhFpTJSIAggggAACCLQh8Gj7f/R4G1ExSgQQGElA/3pFGjPSuiBWBBBAAIGuBWT7t2/IeB/smoHgEECgYQF5yYrGQBoTJaIAAggggAACzQjsrwD2jzQTDANFAIHxBPQvWaQx460OIkYAAQQQ6FdgfwWwf6Tf6IkMAQSaF9C/ZJHGND/ZBIAAAggggIAtYF8E2Md2GY4RQACBOgX0r1qkMXXOIKNCAAEEEEDgpIB9EWAfn2yOaggggEBBAf2rFmlMwWmhKwQQQAABBIoIyHWAOSjSJ50ggAACGQTk5SvaFmlMlIgCCCCAAAIInBGQzZiDgMAZWeoggEC/AvJyEQ2RNCZKRAEEEEAAAQTOCMhmzEFA4IwsdRBAoF8BebmIhkgaEyWiAAIIIIAAAmcEZDPmICBwRpY6CCDQr4C8XERDJI2JElEAAQQQQACBMwL6zfhM67E6z+09Nrpb5cOLjp8CCCBwkYD+xYE05qIpoFkEEEAAgdEF9JvxgFLgDDjphIyARkD/4kAao/GkDAIIIIAAAocF9Jvx4abbrwBO+3NIBAhcIqB/cSCNuWQCaBQBBBBAAAH9ZjygFTgDTjohI6AR0L84kMZoPCmDAAIIIIDAYQH9Zny46fYrgNP+HBIBApcI6F8cSGMumQAaRQABBBBAQL8ZD2gFzoCTTsgIaAT0Lw6kMRpPyiCAAAIIIHBYQL8ZH266/QrgtD+HRIDAJQL6FwfSmAwTINwcIIBAfwIZXiNoYlQBeTqMChCKG5yQDucQGFhA/+JAGpNhmQg3BwggR7xfNgAAIABJREFU0J9AhtcImhhVQJ4OowKE4gYnpMM5BAYW0L84kMZkWCbCzQECCPQnkOE1giZGFZCnw6gAobjBCelwDoGBBfQvDqQxGZaJcHOAAAL9CWR4jaCJUQXk6TAqQChucEI6nENgYAH9iwNpTIZlItzv3nk8M3RAEw0KyKpocOwM+S7ADLIO0gVYRQFDcAI4nEJgZAH9i4PnsltfeWRiO3YRI42xWQY/llUxuEO74TOD7c5dPSNnFQXmApwADqcQGFlA/+JAGpNhnQg3aUwGzV6akFXRS0DDxcEMDjflFwTMKgqgghPA4RQCIwvoXxxIYzKsE+Emjcmg2UsTsip6CWi4OJjB4ab8goBZRQFUcAI4nEJgZAH9iwNpTIZ1ItykMRk0e2lCVkUvAQ0XBzM43JRfEDCrKIAKTgCHUwiMLKB/cSCNybBOhJs0JoNmL03IqugloOHiYAaHm/ILAmYVBVDBCeBwCoGRBfQvDqQxGdaJcJPGZNDspQlZFb0ENFwczOBwU35BwKyiACo4ARxOITCygP7FgTQmwzoRbtKYDJq9NCGropeAhouDGRxuyi8ImFUUQAUngMMpBEYW0L84kMZkWCfCTRqTQbOXJmRV9BLQcHEwg8NN+QUBs4oCqOAEcDiFwMgC+hcH0pgM60S4SWMyaPbShKyKXgIaLg5mcLgpvyBgVlEAFZwADqcQGFlA/+JAGpNhnQg3aUwGzV6akFXRS0DDxcEMDjflFwTMKgqgghPA4RQCIwvoXxxIYzKsE+Emjcmg2UsTsip6CWi4OJjB4ab8goBZRQFUcAI4nEJgZAH9iwNpTIZ1ItykMRk0e2lCVkUvAQ0XBzM43JRfEDCrKIAKTgCHUwiMLKB/cSCNybBOhJs0JoNmL03IqugloOHiYAaHm/ILAmYVBVDBCeBwCoGRBfQvDqQxGdaJcJPGZNDspQlZFb0ENFwczOBwU35BwKyiACo4ARxOITCygP7FgTQmwzoRbtKYDJq9NCGropeAhouDGRxuyi8ImFUUQAUngMMpBEYW0L84kMZkWCfCTRqTQbOXJmRV9BLQcHEwg8NN+QUBs4oCqOAEcDiFwMgC+hcH0pgM60S4SWMyaPbShKyKXgIaLg5mcLgpvyBgVlEAFZwADqcQGFlA/+JAGpNhnQg3aUwGzV6akFXRS0DDxcEMDjflFwTMKgqgghPA4RQCIwvoXxxIYzKsE+Emjcmg2UsTsip6CWi4OJjB4ab8goBZRQFUcAI4nEJgZAH9iwNpTIZ1ItykMRk0e2lCVkUvAQ0XBzM43JRfEDCrKIAKTgCHUwiMLKB/cSCNybBOhJs0JoNmL03IqugloOHiYAaHm/ILAi61ir5/fHt9Wf73/ufvfShff6wFXt4+fd2XKP5IKZzigdEhAgikCehfHEhj0qSn2sJNGpNBs5cmZFX0EtBwcTCDw035BQGXWEV/PkkCsx78+G5F8/vzNzuHMccfPv+1ijzjsATOM+KiTwQQSBTQvziQxiRS36sLN2lMBs1empBV0UtAw8XBDA435RcEXGAV/fr54eXbl18y+Dmrse63uI8sWc0m1ZH65Q4K4JQLhp4QQCCfgP7FgTQmg7pwk8Zk0OylCVkVvQQ0XBzM4HBTfkHAz1hFJkuRmy3On1OQf7+8v38CzUp1Log92uQzcKKDogACCDxfQP/iQBqTYbaEmzQmg2YvTciq6CWg4eJgBoeb8gsCfsYqMnmLpCjT12bs2zX3MH25zQXhh5t8Bk54RJxFAIEqBPQvDqQxGSZMuEljMmj20oSsil4CGi4OZnC4Kb8g4PKryHyVf/2Wv7nx4qYxt6mY3LG5IHJFk+VxFIOiCAIIPF9A/+JAGpNhtoSbNCaDZi9NyKroJaDh4mAGh5vyCwIus4ruX49Zfqbs5e314x8rEpPG7L4GY7KdTUmrUpnDMjhlYqEXBBDIKKB/cSCNycAu3KQxGTR7aUJWRS8BHY9j+mLxc6+Tjg96rcEMrhYcnRUotIp2P1bm3o0hjTk7g9RDAIHyAvpXTtKYDLMj3KQxGTR7aUJWRS8BHY+DNOa4GTU6E3jC68D89f3lngwfKutsSREOAgMI6F85SWMyLAfhJo3Za5pPO7T7lvw+IuUjsiqU5TssRhrT4aQS0jGB57wObD5Ixlf8j00ZpRFA4OkC+ldO0pgMkyXcPaUxJv1YP5lw1ok05qxc+/VIY9qfQyJIFJDdIbGdY9U3aYzvR8ke3KI51kty6efgJA+bBhBA4GoB/YsDaUyGuRBu0pi9JmnM3mSUR0hjRplp4nwoILvDwxKpJ+5Zyvb9pun2y9v6oHkRtv6JTJPYrAVSh3C2/vU4Z0dGPQQQeKqA/sWBNCbDRAl3T2lMBpepCdKYXJKF2/FP3JSZvKxfF54vmOZfSXJ+1NVJY6Y/t9dbN28v5jeU/G0WVJDndcE+6ao3getX0ZyT2L9Udj/ePBm3z1Pzm2abAs9hvx7nOXHRKwIIJAroXxxIYxKp79WFmzRmr+m9Tt0X6+8RWRWthrb5XMocxObfmjApjfUzr+7F05k0xntNJv+QX1HL5mewqBad+QXKrCLzMiuZjPNmwTSy7TNrfSfCP+wyj5bBKRMLvSCAQEYB/YsDaUwGduHuKo3xXYPev6lvrm4fv59nv5X+8c/Rt9vNu4b2ZavZfZ/8z7SdWCWyKk7UraOKkbfnYpodeRP3vkLss7uZ8i0h5wLLyXLnqzHrGss84tQq49P+DJZxopeQAKsooANOAIdTCIwsoH9xII3JsE6Eu/s0Rt7tWw/kovYOuX3Dz3qf3vqlMm8Z62p4uvaVjy098So2cWXIqkhs54nVXfxpagIZhSm/zvXhNGafOC2LarPMCpF0MIOFpOjmsQCr6LHN+kGGQBlOIYDAgAL6V07SmAzLQ7iHSGPkgnK+LWPdJzEZiPUOvbmutf9V6fmR4Nvt6z8vXcfP6ZxbIrIqzlWvotbWf/OJsnl8ns/cJ6QxntbmhFlWXUGXHmawIBddeQVYRV4W8yA4ARxOITCygP7FgTQmwzoR7v7TGCv9uN3cD4z5LnOdMsq32+ePln388fryZqVJGeaqXBOyKsp1eUFP1pxOk2ItAMlR11tz0/030pgL5oEmWxXo43XgIn1wLoKlWQRaF9C/OJDGZJhr4e4+jXE+ULT9EJE3RXHSGO3b7XKJ7PSYYbZKNSGrolSH1/QjHyRzPiE2f4Bwk2Ru18Pt5lQxN+usRGiXCU9L6Bk3Xrx2ncygNzYeLCXAKgpIgxPA4RQCIwvoXxxIYzKsE+Emjdl+5/tuu720PZzGyJdkMsxT2SZkVZTtNntv05R9+/L5fmfM+grTnMbYj8yT+/BuzO5TiJKsSpX5kU2qc89tnpLN9jKD2ZcEDR4QYBUFsMAJ4HAKgZEF9C8OpDEZ1olwj53G3KwPIK2q2zRG93a7ud798X1q8FWucddGWziSVdHCYENjNLNw/+TYJrsw0/3qfKLM/h6Uezfmpqhy8ye6pDGhGeJcxQLdvA5cYQzOFaq0iUAHAvoXB9KYDNMt3IOnMfNb6daHguQKWFIRxdvt1ofT5vfv7bf8M8xXmSZkVZTp7sJe5lnw5JMyv3OS4/sUmUy9GaFd5X7KqTIVssts8qILg/Q03c8MeoLjoUICrKIANDgBHE4hMLKA/sWBNCbDOhHuwdOYm++t9PffPmyvRCNvt5s8R95996U9GaasQBOyKgr0RRdXCDCDV6iO1iarKDDj4ARwOIXAyAL6FwfSmAzrRLiHT2OWf+Vj/hdjpu9/H3q73bzxb93PkX+LxnlTP8O0XdyErIqL+6H5qwSYwatkR2qXVRSYbXACOJxCYGQB/YsDaUyGdSLcXaUxGWCGbkJWxdAKLQfPDLY8e7WMnVUUmAlwAjicQmBkAf2LA2lMhnUi3KQxGTR7aUJWRS8BDRcHMzjclF8QMKsogApOAIdTCIwsoH9xII3JsE6EmzQmg2YvTciq6CWg4eJgBoeb8gsCZhUFUMEJ4HAKgZEF9C8OpDEZ1olwk8Zk0OylCVkVvQQ0XBzM4HBTfkHArKIAKjgBHE4hMLKA/sWBNCbDOhFu0pgMmr00Iauil4CGi4MZHG7KLwiYVRRABSeAwykERhbQvziQxmRYJ8JNGpNBs5cmZFX0EtBwcTCDw035BQGzigKo4ARwOIXAyAL6FwfSmAzrRLhJYzJo9tKErIpeAhouDmZwuCm/IGBWUQAVnAAOpxAYWUD/4kAak2GdCDdpTAbNXpqQVdFLQMPFwQwON+UXBMwqCqCCE8DhFAIjC+hfHEhjMqwT4SaNyaDZSxOyKnoJaLg4mMHhpvyCgFlFAVRwAjicQmBkAf2LA2lMhnUi3KQxGTR7aUJWRS8BDRcHMzjclF8QMKsogApOAIdTCIwsoH9xII3JsE6EmzQmg2YvTciq6CWg4eJgBoeb8gsCZhUFUMEJ4HAKgZEF9C8OpDEZ1olwk8Zk0OylCVkVvQQ0XBzM4HBTfkHArKIAKjgBHE4hMLKA/sWBNCbDOhFu0pgMmr00Iauil4CGi4MZHG7KLwhYVhEHAYEL4GkSAQQaFpCXi2gMpDFRongB4SaNiWMNU0JWxTAR9xYoM9jbjD4jHllFHAQEnjEz9IkAAvUKyMtFdIikMVGieAHhJo2JYw1TQlbFMBH3Figz2NuMPiMeWUUcBASeMTP0iQAC9QrIy0V0iKQxUaJ4AeEmjYljDVNCVsUwEfcWKDPY24wSDwIIIIBACwL6/Zc0JsN8CjdpTAbNXpqQVdFLQMPFwQwON+UEjAACCCBQgYB+/yWNyTBdwk0ak0GzlyZkVfQS0HBxMIPDTTkBI4AAAghUIKDff0ljMkyXcJPGZNDspQlZFb0ENFwczOBwU07ACCCAAAIVCOj3X9KYDNMl3KQxGTR7aUJWRS8BDRcHMzjclBMwAggggEAFAvr9lzQmw3QJN2lMBs1empBV0UtAw8XBDA435QSMAAIIIFCBgH7/JY3JMF3CTRqTQbOXJmRV9BLQcHEwg8NNOQEjgAACCFQgoN9/SWMyTJdwk8Zk0OylCVkVvQQ0XBzM4HBTTsAIIIAAAhUI6Pdf0pgM0yXcpDEZNHtpQlZFLwENFwczONyUEzACCCCAQAUC+v2XNCbDdAk3aUwGzV6akFXRS0DDxcEMDjflBIwAAgggUIGAfv8ljckwXcJNGpNBs5cmZFX0EtBwcTCDw005ASOAAAIIVCCg339JYzJMl3CTxmTQ7KUJWRW9BDRcHMzgcFNOwAgggAACFQjo91/SmAzTJdykMRk0e2lCVkUvAQ0XBzM43JQTMAIIIIBABQL6/Zc0JsN0CTcHCCDQn0CG1wiaQAABBBBAAAGdgFxIRIuTxkSJ4gWEmwMEEOhPIP4SQAkEEEAAAQQQyCQgFxLR9khjokTxAsLNAQII9CcQfwmgBAIIIIAAAghkEpALiWh7pDFRongB4eYAAQT6E4i/BFACAQQQQAABBDIJyIVEtD3SmChRvIBw8xX/ONYwJWRVDBNxb4Eyg73NKPEggAACCLQgoN9/SWMyzKdwk8Zk0OylCVkVvQQ0XBzM4HBTTsAIIIAAAhUI6Pdf0pgM0yXcpDEZNHtpQlZFLwENFwczONyUEzACCCCAQAUC+v2XNCbDdAk3aUwGzV6akFXRS0DDxcEMDjflBIwAAgggUIGAfv8ljckwXcJNGpNBs5cmZFX0EtBwcTCDw005ASOAAAIIVCCg339JYzJMl3CTxmTQ7KUJWRW9BDRcHMzgcFNOwAgggAACFQjo91/SmAzTJdykMRk0e2lCVkUvAQ0XBzM43JQTMAIIIIBABQL6/Zc0JsN0CTdpTAbNXpqQVdFLQMPFwQwON+UEjAACCCBQgYB+/yWNyTBdwk0ak0GzlyZkVfQS0HBxMIPDTTkBI4AAAghUIKDff0ljMkyXcJPGZNDspQlZFb0ENFwczOBwUz5swH8+vby9fvxTafy/fn6od3h101U6owwLgZiAfv8ljYlZKs4LN2mMQmuUIrIqRgm4uziZwe6mtIeAzDX9+5+/U4JxG7nmWtzt5eyISWPOylEPgVYF9PsvaUyGORZu0pgMmr00Iauil4CGi4MZHG7KWwg4S27gNkIac3rqr6E7PRwqItCHgH7/JY3JMOPCTRqTQbOXJmRV9BLQcHEwg8NN+bAB130tzt2YYRcmgQ8roN9/SWMyLBLhJo3JoNlLE7IqeglouDiYweGmfNiASWNOT33ddKfDoiICzxXQ77+kMRlmSrhJYzJo9tKErIpeAhouDmZwuCmvKWBzC+Ll7fX+vx/f16E5183y53Rgyi/fnPn9+dtU/e315duXX2sTt5vUMg86f94f/P7RdG3+/4PqMkj/zwM4zcqff7+8l8adlqfxfP2xDHv64QHv3Ri7zDY6M/JPX9d4jcOHz3/Xh8yRt2WDY5mrKOampxgX//kxby+Px3+vJbDu7M9N8h8EOhfQ77+kMRmWgnCTxmTQ7KUJWRW9BDRcHMzgcFNeTcCbq9jpin+9MpZkwIx2+nPOdiQ3eHt9/+PTmirsUxFfI2sq4m3TzjemAu+/3X9AbJs4bQV9vUiV9cBu+WalXkvjpuQ6PH8ZK28x419yP4O5AtpjNAnVUtKcmRKMJefRUaxjMzLbH2DYpTHeGNfxh2bfHjzHCPQroN9/SWMyrALhHj2N+fcfm2I+/s9//5fBuL0mhKK+oW/eXPTu7pt3Ct/W/bW+WC4cUcUzeGHUNF2BwHSZa13c//r5YX2ePsoNlvLWRfByLT7fWpE/Y3dj7l3Yz/rd3Yzl4n4dlVctNtTbfFvGHZjdu4QjqcL8iJV7mEfswZhXsHsV08WCsxumCc0Odnp5lPI6ChmbuZNjj0RurUiZ2PiDs78LgAcQ6FJAv/+SxmRYAMJNGmNTzMekMRmWWLYm5JpgfSvU+ciK/51O6zoj21hqb0gWc+0DZXy9CZhr6wf/kIs3N7Cu6ZfPg9mX5vOHlORKWvGhso2ped1wqjsX65sK5o/4UN2Bbe6ELC1ue98nHrebedWS3ONecf5o2cf759NCL1+m8TWWaczrn8sY5L/bwfgTQqf6tkp0/MHZl3FwgEDXAvr9lzQmw0IQbtKYd+/ejZq2uAtJVoV74ql/3zdUe7Of9uzNNj8/ItdA855qfVL8qQEU7LzOGSwIQFdPFLBumW5SFM11s+dCeXsl7W9kzVLucVsDWD7ctRaIXevPcFOxcK3twDwj393N8AxsflPGfmWzvl7iJBXupG5v1/jyKE+PTlDOn06P2xg9re3Gb5VxZt8dPX8j0KeAfv8ljcmwAoSbNIY0RtaTrAp5pM6D9dMX9/GZy4jtm5fzBz8ksakzjvyjamUG80dOi7UIrJez65VxPDfwJAPbK+lIGmMKb27YTplM+GLdYxYfqnM3xjPy9DQm+haMlbpM4FbmoKQIy2zx1zl1hbdpmJ1JrrPvUeYhBDoU0O+/pDEZpl+4SWNIY2Q9yaqQR+o8sLbw5S1Ydzf15TZ1BpN1VK3MYNagaaxCAXPhu7yPEM8NPMnA9ko6nMZ4nu/e6vFr6/hQnTTmtn05mudi2/s0PPc1ajdr5s2XH9+3b9PsipkHpnHew3EG7HtbZzsYv6STOG2r6Ma/jnQ7++vjHCHQs4B+/yWNybAOhJs0xqa4H//zbwbfNpsQirqHv90jt5+vkJF7ry3kbK8Hjcxgr/wDx3V/Gtp3RLdpiXOpLZfgK9i2/PT49kraf/G93FLYV59vICwF5upXpDFmnPYHX00e8jL98rIJcS5j3TMxt5Gt8VghqG4mTwF++/L5/kWaJV28d2a1M/P6KVaZubt1+ubR6scfnv15GPwHgc4F9PsvaUyGpSDcpDE2xXI8aCqzhO95imVYc5maMFvsuv2bPXhzfXDvSfWOZqYh1dNMEzNYDxcjySYwXwqv/3bK/dNH8qy8PI2Zn+/uR56sC3Hv73F5wo8P1b0bY3+SSgZgftl5TRV839t5eXuV1zHnZc2X9riDlWRpdZ6KrI8vXxAyo1oH48S4vFrK4OVgrRIef3j23YHzNwJ9Cuj3X881lr5yn3jHoxKx0dMYh+5///3PRDPml/5lVTgqFf1p9kv74xmkMdb0NDCD1mg57EpgujiWK2C5QL/H6Fw3T39uCnjuIeyyBV8j1nX2NpP58V3RqY/f18t2qLuB3Zsx90BMFjfd1nDambpyEox18PuXtaXBtcx+sEvysC+z6egBhVPLrnI/dWj8yxT7Z38/ch5BoEcB/f5LGpNh/oWbNMbVNP+SzJD3Y2RVuCa1/L39OJkZlecK4H5i2pXXj0nUEsHF46h+Bi+On+YRQAABBBB4hoB+/yWNyTA/wk0a42qaGzKkMa7Ls/+e33q0PwVuhjR/RvzXZoDmzVHSmA0KfyCAAAIIIIDAFQJyXR1tnDQmShQvINykMS4Wd2PeeZ5irlLhvx/mMPJxjm3G8uAWTeFRl+9Ontflu6ZHBBBAAAEEhhXQ77+eayx95WF9ncBFbOw05t9/nH/60uQwzoOOXb9/yqqoK8TpU9rbX+PZDHD+Ouz6hZn5c+rOJ9o3dTr9o9IZ7FSbsBBAAAEEEDAC+v2XNCbDmhHu4dMYW2I+HvP7/bfbTSwyrLBsTdjfnd3+DtKat8y/KCpfML0frGezDaX+hqqcwfrZGCECCCCAAAJJAvr9lzQmCdpUFu6x05jb7Tbff1lAhk1h7utiQfA8xTKsubNN2D+h8zhR2WY78kuvZztttF6dM9goJsNGAAEEEEBAKaDffz3XWPrKytF0X0zEhk9jup/qAwHKqjhQh6I1CTCDNc0GY0EAAQQQGEVAv/+SxmRYE8JNGpNBs5cmZFX0EtBwcTCDw005ASOAAAIIVCCg339JYzJMl3CTxmTQ7KUJWRW9BDRcHMzgcFNOwAgggAACFQjo91/SmAzTJdykMRk0e2lCVkUvAQ0XBzM43JQTMAIIIIBABQL6/Zc0JsN0CTdpTAbNXpqQVdFLQMPFwQwON+UEjAACCCBQgYB+/yWNyTBdwk0ak0GzlyZkVfQS0HBxMIPDTTkBI4AAAghUIKDff0ljMkyXcJPGZNDspQlZFb0ENFwczOBwU07ACCCAAAIVCOj3X9KYDNMl3KQxGTR7aUJWRS8BDRcHMzjclBMwAggggEAFAvr9lzQmw3QJN2lMBs1empBV0UtAw8XBDA435QSMAAIIIFCBgH7/JY3JMF3CTRqTQbOXJmRV9BLQcHEwg8NNOQEjgAACCFQgoN9/SWMyTJdwk8Zk0OylCVkVvQQ0XBzM4HBTTsAIIIAAAhUI6Pdf0pgM0yXcpDEZNHtpQlZFLwENFwczONyUEzACCCCAQAUC+v2XNCbDdAk3aUwGzV6akFXRS0DDxcEMDjflBIwAAgggUIGAfv8ljckwXcJNGpNBs5cmZFX0EtBwcTCDw005ASOAAAIIVCCg339JYzJMl3CTxmTQ7KUJWRW9BDRcHMzgcFNOwAgggAACFQjo91/SmAzTJdwcIIBAfwIZXiNoAgEEEEAAAQR0AnIhES1OGhMlihcQbg4QQKA/gfhLACUQQAABBBBAIJOAXEhE2yONiRLFCwg3Bwgg0J9A/CWAEggggAACCCCQSUAuJKLtkcZEieIFhJsDBBDoTyD+EkAJBBBAAAEEEMgkIBcS0fZIY6JE8QLCzQECCPQnEH8JoAQCCCCAAAIIZBKQC4loe6QxUaJ4AeGWg3gdSvQuwGJofYaZwdZnkPEjgAACCLQooN9/SWMyzK9wy0GGRmmicQEWQ+MTeGMGW59Bxo8AAggg0KKAfv8ljckwv8ItBxkapYnGBVgMjU8gaUzrE8j4EUAAAQSaFNBfQZHGZJhg4ZaDDI3SROMCLIbGJ5A0pvUJZPwIIIAAAk0K6K+gSGMyTLBwy0GGRmmicQEWQ+MTSBrT+gQyfgQQQACBJgX0V1CkMRkmWLjlIEOjNNG4AIuh8QkkjWl9Ahk/AggggECTAvorKNKYDBMs3HKQoVGaaFyAxdD4BJLGtD6BjB8BBBBAoEkB/RUUaUyGCRZuOcjQKE00LsBiaHwCSWNan0DGjwACCCDQpID+Coo0JsMEC7ccZGiUJhoXYDE0PoGkMa1PIONHAAEEEGhSQH8FRRqTYYKFWw4yNEoTjQuwGBqfQNKY1ieQ8SOAAAIINCmgv4IijckwwcItBxkapYnGBVgMjU8gaUzrE8j4EUAAAQSaFNBfQZHGZJhg4ZaDDI3SROMCLIbGJ5A0pvUJZPwIIIAAAk0K6K+gSGMyTLBwy0GGRmmicQEWQ+MTSBrT+gQyfgQQQACBJgX0V1CkMRkmWLjlIEOjNNG4AIuh8QkkjWl9Ahk/AggggECTAvorKNKYDBMs3HKQoVGaaFyAxdD4BJLGtD6BjB8BBBBAoEkB/RUUaUyGCRZuOcjQKE00LsBiaHwCSWNan0DGjwACCCDQpID+Coo0JsMEC7ccZGiUJhoXYDE0PoGkMa1PIONHAIEzAr9+fnh5e73/79uXX2caoA4CqQL6KyjSmFTr22293NG7Z+i1iSb+/UdM1oP//Pd/TQw+bZASb1oz1H6aADP4NHo6RqBFgb9f3pur/83///D5b+5gPB19+pqrkz+f5hzmHsUFg1eM0+RR73/+VpSlSJ8C+v2XNCbDChBuOcjQaB9NkMa88zzF+pjb7qPg6dz9FBMgAjkFPNnFNZmAv6PXj38yRPP1x/0+TJamTo+GNOY0XTcV9fuv5xpLX7kbr8RAREwOEhvsp/qUxoxx98WdNBaDK9La38xgazPGeBF4qoDJLn58v3wQu45M7pHlM2BTU/nu7VxuQQd9Cuj3X9KYDCtAuOUgQ6N9NEEaw92YZlcyT+dmp46BI/AMgV12cdUgPB39/vwty50f0w5pzFVTR7tKAf3+SxqjJA0VE245CJUe6hxpDGlMswuep3OzU8fAEXjMc5a7AAAgAElEQVSGgCe72A1j882T1xfn1s109uOfm3zJ3v/hLk9HnjRmvkXj/bK+tyNnbG+vm2+nOGeVI186ulnVl2bNmH2/JSC1jJ/8aQL3RnS73eyz8vUkZ5y7CZkemEfi1/ZX4dFrBfT7L2lMhpkQbjnI0GgfTey/G/PPv31EFo2ivsXw/aO8sjv70xLMZtt7G/0NufpmcJkn/osAAhUKeLKLzSi3L7DT5fv9Ndl6pZ2u199/W34o7MEL9Xy9vrlANy/v0pSVIawv+3L2ZpIKtyMr0zDf8l/yjdv5ke/anFv+8cn9OQT7V9EkbzF+DxrZfIjuUZmN0mY6rD9IYyyMOg71+y9pTIYZE245yNBoH03s05i70RCpTF2LwfsSv3l99257z/mZmkrWfl0zWAkKw0AAgUcC3rsBcnU+vwhbucRtfmtJsgW5ZbE+4u3LzZeWV+/lJX2+mbP8ebvNt3fWZpcdYX1k7sg0ZQ9yznk26ZZ+5EtHknLIjSbrZ9CMg7XdTLXWeyO7RpYbL2sVk2hJFX4kwLtwGnpQv/+SxmSYVuGWgwyNdtnE//77n8lohC/9V7UY7q/pspvefNvSvE/I7uXui12ux3BQVc1geKicRQCB5wuE0hjzirpeds+jNVXkxXl6Hd6lFrvIvB2td3V8qchtejDe0b5u2sjNzmIlVLc5BZK95h6dyTokCTHpnPOn8wG8bZVtdPcmp9Ro0++O8dEDLu9mqI8q8XheAf3+SxqTQV645SBDo702Ye7PDHA/pu7F4OxMzp/T4ptfysd9Ba97Bnt9gSAuBJoVMK+Z/kvn/XW2CdO89i4vs6fTmE2n800e659/WT7AdjqNkYrr5OhG7oloW3FqcJuTzG+0OWmMk91tq5g21yzRnHWqrGMPH5HGhH2KnNXvv6QxGSZEuOUgQ6O9NmFuyJDGPHl+nY1k2vbcjcrdGJ485OLd83QuTk6HCLQsEEpjvK+xt5u5SSI3UjwX/T6QUEfLjYj1KzFLDvP2ut6Tf9iRszUsrbm7g3rkno72Xajuxjg5yTaNkY8YWME+6d/u9E0Yjx0W0O+/pDGHcfcVhFsO9mV4ZBbgbkwFS8F8jHjdFcymuNuopmLr+1sVDLzoEHg6F+WmMwRaFwhlFw/eFXJeez0X/T6UUEdLgrF7Pd809LCjfY6RNnJPR/su0tOYqc1vH6yfDVhucG3C5o9mBPT7L2lMhkkVbjnI0GgPTfz7z7vtt2Dmb/xvH+whUk8MtS0G896VfMxgvV8vv1O5+VjCPSLnS5OeILt+qLYZ7Bqb4BBoXyCYXSyvwPbl9fzpr/XV2HPR72MJdiRfNdl+meR+ob++dfWwo4c5hvcr/vGRezp62IXTmvPnOviJZHs35i7pFPDB8VgzAvr9lzQmw6QKtxxkaLSHJvy/UzZEEnO7VbcYpu1E0pgX+0X/waZIGmMmsYfnIjEggMDVAg9eSJduzeW7/amn6dh+/8hz0b/Utv8b6Wj5JNjuc2Xrhf7Djjw5xvLJt1Mj93Tk6WKbk5z+bowzQv1HCeapWRMnW5vjZwjor6BIYzLMj3DLQYZGO2nCyWQGSWHuk1f1YjC74Nvr/Kpt/tx9CIEPlZlJ7OS5SBgIIHCpQDy7cP8BFve62XPR7xuxoiO5nS5vXW36etiRJ8cwIzDvavlbW379ck2TZNSejjxdJKcx88fSZHhysIlaRuUekMa4Ik//W38FRRqTYbKEWw4yNEoTjQvUvhg2G6H366fmlV3/hlbjE7Ybfu0zuBswDyCAAAIjCkzJ0vZDdMuX/u2bXSPStBqzfv8ljckwx8ItBxkapYnGBWpfDJs0xpexmAK7WzSNT8uB4dc+gwdCoSgCCCDQrYC5mePcC/I+2C1Bd4Hp91/SmAyTL9xykKFRmmhcoKbFcM9Sti/x81dL5UHzir/+HOf8M6BOrcan5ODwa5rBg0OnOAIIIDCOgHnTbfddoO3PEozD0UOk+v2XNCbDfAu3HGRolCYaF6hpMcwf/JWPC88Hmzstc2KzKbMp0Ph8HB9+TTN4fPTUQAABBAYS2G1hfJys5dnX77+kMRnmWbjlIEOjNNG4QG2LYb7fsrxfJfdhLOZttjP8HlDbDFozxSECCCCAAALdCuj3X9KYDItAuOUgQ6M00bgAi6HxCaz7t+Zax2X8CCCAAAIIPBDQX0GRxjwgPPKwcMvBkdqU7VOAxdD6vDKDrc8g40cAAQQQaFFAv/+SxmSYX+GWgwyN0kTjAiyGxieQuzGtTyDjRwABBBBoUkB/BUUak2GChVsOMjRKE40LsBgan0DSmNYnkPEjgAACCDQpoL+CIo3JMMHCLQcZGqWJxgVYDI1PIGlM6xPI+BFAAAEEmhTQX0GRxmSYYOGWgwyN0kTjAiyGxieQNKb1CWT8CCCAAAJNCuivoEhjMkywcMtBhkZponEBFkPjE0ga0/oEMn4EEEAAgSYF9FdQpDEZJli45SBDozTRuACLofEJJI1pfQIZPwIIIHBQ4M+nl7fXj38O1qJ4bgH9FRRpTAZ74eYAAQT6E8jwGkETCCCAQIMCX3+8viz/aLLnoL9/JZk0po5VKhcS0eGQxkSJ4gWEmwMEEOhPIP4SQAkEEECgRwHSmB5ntYGY5EIiOlbSmChRvIBwc4AAAv0JxF8CKIEAAgj0LvDr54f+P3DF3Zg6lrFcSESHQxoTJYoXEG4OEECgP4H4SwAlEEAAgd4FSGN6n+GK4pMLieiYSGOiRPECws0BAgj0JxB/CaAEAggg0LvAwzRmuYNhCmzv2Hz/aH+15tuXX4uSv7WpqRfrKzebT7VZ1e/NPO5XRnL/Po/V2tT5wyHZbS7D5L/PEZALiWj3pDFRongB4X73zuMZr0+JHgVkVfQYXP8xyfTxpO5/sokQAQQUAv7EY0kn3n+7f+TM/O/9z9/39kxOsjw4n5VU5O+X97scY0paPnz+a0bz+/O3/Q8MfPoqQ53a3/e7yWGm3ufxRIe0FOCXysT4WQeyBUcH4Lns1leOtj5IARHjimeQGdeEKatCU5gytQnI9PGkrm1qGA8CCDxFIJzGvLy9rtmCGd89zbCyjptJS5wsxS4w3SdZ8pw5G7HupZhH1l6WNGl95N7v1MvSyO12+/Xzw1ogMqT1Ds9ThOlUBGQLlkceHZDGPJI58Lhwc8VzQK33orIqeg+0z/hk+nhS9znBRIUAAgcFwmnMmio8btZpwZuWLO2YnMdOcnYpirkbY+78rJ3O93CUd1ScIckH1db2OHqGgGzB0c5JY6JE8QLCzRVPHGuYErIqhom4q0Bl+nhSdzWvBIMAAmcF3Ct+acefTpjT2y+iTB/xWhMM87my5c7J9hNlnorux9Ie9mvVtW7mLOO1zi4feFuHNLW5/rnU4b+FBWQLjvZLGhMlihcQbq544ljDlJBVMUzEXQUq08eTuqt5JRgEEDgrcDSNMeXlCzNyYCcJVuoyZRdr1uFJNtRpjIlwbWG5w3P/gJkMwz5Yh0Qac3Z55K0nW3C0WdKYKFG8gHBzxRPHGqaErIphIu4qUJk+ntRdzSvBIIDAWYGDaYzzTZh7r54W5I6Kmz+4X3HxjFrqes7JQyaZMR9OUwzJHYa0w0FRAdmCo72SxkSJ4gWEmyueONYwJWRVDBNxV4HK9PGk7mpeCQYBBM4KeJIQ05Q/nTA5g/3llvn2yHrr4159evDbl88/Xre/B7DcOVnvz8zfjZFbK+Z7LOufZjD3D6rJrwgsX6eZf2lAMSTSmLPLI2892YKjzZLGRIniBYSbK5441jAlZFUME3FXgcr08aTual4JBgEEzgocTGNum3/yZfkWyvZflbkPZS22yViWDMeqaD4GtuYt3vTJfN/GqbW0vPa1LbBmVqQxZ5dH3nqyBUebJY2JEsULCDdXPHGsYUrIqhgm4q4ClenjSd3VvBIMAgicFTiaxmxSFPNPxHiThCXxWHMJa4RO4rEp401jln/7Rb76sqY9U7ObBn98d3+azDtCazwclhGQLTjaHWlMlCheQLi54oljDVNCVsUwEXcVqEwfT+qu5pVgEEAAAQSqF5AtODpS0pgoUbyAcHPFE8capoSsimEi7ipQmT6e1F3NK8EggAACCFQvIFtwdKSkMVGieAHh5oonjjVMCVkVw0TcVaAyfTypu5pXgkEAAQQQqF5AtuDoSEljokTxAsLNFY8X699/bKF//vUW6u5BibnFyMxnoF/eXp1PFbufdZ5//qXFECNjlunjSR2R4jQCCCCAAAJZBWQLjrZKGhMlihcQbq54dljbFGaS+s9//7cr1uEDsioajM3zr4ZNUZhfq3yVr05OB/ZPWzYY64Mhy/TxpH4gxMMIIIAAAghcIiBbcLR10pgoUbyAcHPFs8X633//M9mMcgNmE72sis2jLfwx/ZDLh88/P7l3Y6afcLF+2n/JapbfsmwhOO0YZfp4UmvJKIcAAggggEAOAdmCo42RxkSJ4gWEmyueDZbJYobMYW63m6yKjUn9f8hPWMrBPGaTtGzvvcw/lGn/A2f1R6gaoUwfT2qVF4UQQAABBBDIJCBbcLQ90pgoUbyAcHPFY2NNWcwgnyCz456PZVV4ztX70JSrfPvya/npfeu7MfO/tXw/tf6fL7dZzzZ8JNPHk7rhWWToCCCAAAINCsgWHB07aUyUKF5AuLnisbGmr8X88+/yyTKjNE5aI6vCNqn8ePpm/3K/xbkbY268mAzHCmP+BNpf66EuDmX6eFJ3MZ8EgQACCCDQjIBswdERk8ZEieIFhJsrHgtrm75YRoNkMhKxZVL3oUlU5Isu3jRGzi6hmH8RefMvKy+nmv6vTB9P6qbnkcEjgAACCDQnIFtwdOSkMVGieAHh5orHwprTmE3SMv9u2RBfl5FVYZlUfTglJNa3XEhjlimsetoYHAIIIIAAAn0JLNuvJ0lxAvWU0Fd22hr2TxEjjbHWgEljnIzFPLhJbawqXR3Kqmgjqilp2dxU8aYxfKisjelklAgggAACCLQqoL+CIo3JMMfCTRpja063XtyMxfugXaubY1kVTURkPhu2/Qdh1n8fZkpv+Ip/EzPJIBFAAAEEEGhbQH8FRRqTYaaFmzTG1vTdefHeorEr9XMsq6KJkBRpjO9HyR5877+JkMODlOnjSR2G4iwCCPQuYF78rY8c1xTw9Ms0r9aPatY0OMZyVkC24GgDpDFRongB4eaKZ4O1+ybM7oFN8c7+kFXRalzOh8puN7NbvKyfKzN7W5/7h0wfT+pWFzDjRgCBPALVpDHO79BM0ZHG5JnkylqRLTg6LtKYKFG8gHBzxbPFMvdebJ53794535bZ1ujoLwm71Zh2acztNn2u7G39sNn9Q2hrVtNqoN5xy/TxpPb68CACCAwjUHUaM8wsjBWobMHRsEljokTxAsLNFc8ea74DY4zcb8rsi/fziKyKVkPypDG3222+AzN/i2b3+8utBrsbt0wfT+qdDQ8ggMBQAqQxQ013FcHKFhwdDWlMlCheQLi54oljDVNCVsUwEXcVqEwfT+qu5pVgEEDgsMAujZne5Lr/9Iv5lJe5Rb+7Mz9/Dtmc3b3ntflCplN3aV9a+Phn+w7a1Ob8fZil8Cas6cH1R2uc3qVKcPybBvmjrIBswdFuSWOiRPECws0VTxxrmBKyKoaJuKtAZfp4Unc1rwSDAAKHBfxpzJokyCeNrWxEMhApZn0L35OTvLxZPyEwpRnvv32w6n7//G37eea35WuZkpMscW0SJBnbrn1pfD2wxr80xn+fIyBbcLR70pgoUbyAcHPFE8capoSsimEi7ipQmT6e1F3NK8EggMBhgcdpjFz3z7c1Pnz+a1qfqsjZ6RdiJI2ZMxzrDol5RArclnsp6yOmVd9X/E3h9R89m+taSdHyrc61taX99bud7vgPG1Ehr4BswdFmSWOiRPECws0VTxxrmBKyKoaJuKtAZfp4Unc1rwSDAAKHBR6kMVYeclt+ynJJJ+b7Lcufdpe71u4nt2nPlGasWYfUjqcxpnHJppaapqKkVSaNCY1/qch/nyQgW3C0f9KYKFG8gHBzxRPHGqaErIphIu4qUJk+ntRdzSvBIIDAYYFd4uFLM8wdFStvsX7ZcpMwWI+vn/iaPjC2TTPOpzHSzhrpNgTV+NfKHJUXkC042jVpTJQoXkC4ueKJYw1TQlbFMBF3FahMH0/qruaVYBBA4LDANge43cznuJw0Y5fGmG7WpGUpvz6yfinF5DOSfvjSjHtz8bsxU+PSzhrpNgRf+w/GvzbBUUkB2YKjnZLGRIniBYSbK5441jAlZFUME3FXgcr08aTual4JBgEEDgtsc4BjaYzpzKQu5vsqU2ueTMMali/NuJ+OpzFmqKoPlS1p1dwvaYw1Ac8/lC04OhTSmChRvIBwc8UTxxqmhKyKYSLuKlCZPp7UXc0rwSCAwGGB42nMPd+wc4lNCyZheNl80uxeYM0rHqUx85f17a/vz7eG5MNsc+P275ItX/GXMkfuJh3GokIWAdmCo62RxkSJ4gWEmyueONYwJWRVDBNxV4HK9PGk7mpeCQYBBA4LbJKQe21fmrG5m2FumzhffVnzFv/nyhRpjBnJ/MvLc/lpMGuK4vwbzTKGtXfF+A8TUSGzgGzB0XZJY6JE8QLCzRVPHGuYErIqhom4q0Bl+nhSdzWvBIMAAocFjqcxS6oj335ZU5Sld+dfd7HyEH+aMdezEqS5ipvG3AuGGl/G5gxpk4Ytg+S/zxKQLTg6ANKYKFG8gHBzxRPHGqaErIphIu4qUJk+ntRdzSvBIIAAAghULyBbcHSkpDFRongB4eaKJ441TAlZFcNE3FWgMn08qbuaV4JBAAEEEKheQLbg6EhJY6JE8QLCzRVPHGuYErIqhom4q0Bl+nhSdzWvBIMAAgggUL2AbMHRkZLGRIniBYSbAwQQ6E8g/hJACQQQQAABBBDIJCAXEtH2SGOiRPECws0BAgj0JxB/CaAEAggggAACCGQSkAuJaHukMVGieAHh5gABBPoTiL8EUAIBBBBAAAEEMgnIhUS0PdKYKFG8gHDzMfo41jAlZFUME3FvgTKDvc0o8SCAAAIItCCg339JYzLMp3CTxmTQ7KUJWRW9BDRcHMzgcFNOwAgggAACFQjo91/SmAzTJdykMRk0e2lCVkUvAQ0XBzM43JQTMAIIIIBABQL6/Zc0JsN0CTdpTAbNXpqQVdFLQMPFwQwON+UEjAACCCBQgYB+/yWNyTBdwk0ak0GzlyZkVfQS0HBxMIPDTTkBI4AAAghUIKDff0ljMkyXcJPGZNDspQlZFb0ENFwczOBwU07ACCCAAAIVCOj3X9KYDNMl3KQxGTR7aUJWRS8BDRcHMzjclBMwAghcKvDn08vb68c/l/ZB4z0I6Pdf0pgM8y3cpDEZNHtpQlZFLwENFwczONyUEzACCHgEvn98e31x//fh819P0chDOdKYXz8/vLy9vv/5O9IXp1sW0O+/pDEZ5lm4SWMyaPbShKyKxgKathl3x/r25dc2jK8/7F3t09ft2T7+anUG+9AnCgQQqEXAm8ZMW8Bua4gM+Wga8/fL+7fXlx/f7WZJY2yNXo/1+y9pTIY1INykMRk0e2lCVkVjAcXTmN+fv9k5jDk+9c5c3TStzmDdqowOAQRaE5jSGCdjkZ3CeTwcW440JtwDZ/sQ0O+/pDEZZly4SWMyaPbShKyKxgKatpnQ/fp595I7MEtWs33DrLGofcNtdQZ9sfAYAgggcFbAl8bc25rv0hz4rgtpzNk5GK2efv8ljcmwNoSbNCaDZi9NyKpoLKBIGmOSlu29F3Pf/00Sm8YifjTcVmfwUTw8jgACCJwReJTG3G7mXa3te1ibjxw792p8acyD8ssbZNZ3cub313yNzCORwtshmbP3dGverU59Iu4MHXVOCuj3X9KYk8R2NeEmjbFZBj+WVdGYQySN8e5nvtymsbA9w211Bj2h8BACCCBwWsD7sm9ac055co8X+x0uNwMJlPecepTGbBIhyWR2/brf+Xx7fXGyrNNCVMwtoN9/SWMy2As3aUxM83///Y+t9c+/sQrtnpc4Gwth2mY2L/f221rmrazdS/+0i2xv0TQWtme4rc6gJxQeQgABBE4LOLmK3c50akkYzJfv7W/ku1/H36Yx8fK+r/ivt1bMQOY9y/44gBmV9Wtmsq/J5jXflult27Lnpulj/f5LGpNhooWbNCao+e8/ttR8/J///i9YqdmTEmtjEcjL/fqe1uv6dpp3U7ndzJthBz4h3QJKqzPYgi1jRACBdgSUaYy5f2KnE7fbbXpQkodNGqMo791xPI3sshFTcduvnV/dbjeTRHW2bbWzqCIj1e+/pDERSs1p4SaNCXDNN2KsGzAmrek1j5FVETBp4NT8ltXytpZ3UyGNaWAiGSICCCBwTiCWxszZwnwPZHMz37wdtk0nlsxBUd674+zTGGl/jW+bI01VnJ+uIY1Zteo70l9BkcZkmD3hJo0JaE5JyzZnMZmNldgEqjd3SlZFcyN3BzxtAPP7WM5bXEtRPlS2SPBfBBBAoDOBx2mMvTssP1xWNo15NDbSmLYXof4KijQmw0wLN2lMQNOTs0yZTadZzE1WRcCkjVOb98O8e4bZMHa39dsI7+Eo+5nBhyFyAgEEEIgKeF/29z+4PG0EnhsjVvuqGylW+c3uszy+b+Rtt/s477hNVbgbswg28F/9/ksak2E6hZs0Jqi5fL9/Slz2nzEL1m3vpKyK9obujHjzfpsvY3E2DKd6s3/2M4PNTgEDRwCBCgR8aYzZF95e7S+c7L+yb74bs+YPmwxk/naK3YJbfr7Ds/2+jbeR5WcGJq5pwG+vy6fX5h+GXocxFeJDZRUsrYdD0O+/pDEPEfUnhJs0Jopmf82/1/swBkFWRdSkpgLfPzpva8171fpe17xRrW+5mcRm+fJMTcEkjqXNGUwMmuoIIICAIzBnBaFPi801/CXX/GGbgcg/oOm0vJY3vxCw/N7M/LjbyLwHOY1ssqOpitXsfbikMc40V/Wnfv8ljckwccJNGhPRXO7HiNj2uzKR2m2dlhibGnZsE7oH4yuzZjVNhRscbJszGAyJkwgggMBhAd9r/ubux6ZF519xWW+J3Oa7IptHll+IkSTEOWv/g5XzKTeNufce6nTplzRmM091/6Hff0ljMsykcJPGhDTNjZj1Fsyc0/SayciqCJnUeM7Zsdb7MNZgt+9+2f+wjFWo9cNmZ7B1eMaPAAIIIDC0gH7/JY3JsFCEmzTmsabnh8puN5PJrJnN4+rtnZFV0d7QGfEkwAyyEBBAAAEEECgvoN9/SWMyzI5wk8Y81DQJi3vnxf/ow0aaOiGroqlRM9hVgBlcLThCAAEEEECglIB+/yWNyTAnwk0a81hz/m6/ncjMnyp7x92Yx2yceZ6APK+fNwR6RgABBBBAYDgB/f5LGpNhcQg3aUxAc0labK37sZ3YBKo3d0ribG7kDNgIMIOsBAQQQAABBMoL6Pdf0pgMsyPcpDERTfvnlu9qvaYwdwZZFRETTtcqwAzWOjOMCwEEEECgZwH9/ksak2EdCDdpTAbNXpqQVdFLQMPFwQwON+UEjAACCCBQgYB+/yWNyTBdwk0ak0GzlyZkVfQS0HBxMIPDTTkBI4AAAghUIKDff0ljMkyXcJPGZNDspQlZFb0ENFwczOBwU07ACCCAAAIVCOj3X9KYDNMl3KQxGTR7aUJWRS8BDRcHMzjclBMwAggggEAFAvr9lzQmw3QJN2lMBs1empBV0UtAw8XBDA435QSMAAIIIFCBgH7/JY3JMF3CzQECCPQnkOE1giYQQAABBBBAQCcgFxLR4qQxUaJ4AeHmAAEE+hOIvwRQAgEEEEAAAQQyCciFRLQ90pgoUbyAcHOAAAL9CcRfAiiBAAIIIIAAApkE5EIi2h5pTJRIVUDEOUDAEVAtIAohgAACCCCAAAIIHPkHxEljWC8IIIAAAggggAACCCBQhYC8HRwdDWlMlIgCCCCAAAIIIIAAAgggUEKANKaEMn0ggAACCCCAAAIIIIBARgHSmIyYNIUAAggggAACCCCAAAIlBEhjSijTBwIIIIAAAggggAACCGQUII3JiElTCCCAAAIIIIAAAgggUEKANKaEMn0ggAACCCCAAAIIIIBARgHSmIyYNIUAAggggAACCCCAAAIlBEhjSijTBwIIIIAAAggggAACCGQUII3JiElTCCCAAAIIIIAAAgggUEKANKaEMn0ggAACCCCAAAIIIIBARgHSmIyYNIUAAggggAACCCCAAAIlBEhjSijTBwIIIIAAAggggAACCGQUII3JiElTCCCAAAIIIIAAAgggUEKANKaEMn0ggAACCCCAAAIIIIBARgHSmIyYNIUAAggggAACCCCAAAIlBEhjSijTBwIIIIAAAggggAACCGQUII3JiElTCCCAAAIIIIAAAgggUEKANKaEMn0ggAACCCCAAAIIIIBARgHSmIyYNIUAAggggAACCCCAAAIlBEhjSijTBwIIIIAAAggggAACCGQUII3JiElTCCCAAAIIIIAAAgggUEKANKaEMn0ggAACCCCAAAIIIIBARgHSmIyYNIUAAggggAACCCCAAAIlBEhjSijTBwIIIIAAAggggAACCGQUII3JiElTCCCAwKgCfz69vL2+//m7ovg1Q5rKfPxT0agzD2WMACMLLwfCr58fXt5e7//79uVX5kmKNeeM3/kzVpvzCHQsQBrT8eQSGgIIIJBB4OuP6erNXMPt//+P7/c+pkur8NWkuRAMl8kwXGlCMSQz7NNpzOmITleU4LQH3V/yXj/Ld+qplzmNefvw+a+WP085ZxKdP/P00Xkr5Z5xnUNWFx5pTHVTwoAQQACBqgSen8b8/fL+7fXF5Et6musvcE9fG52uqI9+LtnQJW+ts3y73cxT4HS6e3jWnArOJDp/OoVT/jw3BSk9XlHXF8X/23KDxhAAAArYSURBVLmXI7dxIADDG4vjmXIoe9swnMBmMQG4fPXBCfiyFweiLeLZ3WiSACVoYPmv2lqLGrCJ/gDOdI+ked4dNyMjYu4L0Mbs2/AVBBBAAAEtEKsBp57r6Rl0qIEjry45P71nSvMqwvP5PWXEb5Tgwqsc2pgvX5+yYs5FzCKaQ+eEq09dW4KrV5t13mtkMUvn1eLSxrzaipIPAgggME+ANmae7ZTI80reh0/3WvUZEjx5p+K9CL/+/fb26Z025uFLPifgtY00Zy5EnS1AGzNbmPgIIIDA6wictzGxhnA/DN1UkzFa+siB/56xWEGqD+eImvX7P/KzOuaz16XAHZlSeQdR1+e5r2QUNoM5sRyGB/HSOU0h4CW4vTL2wASvzSTkpN58ODZVkWNe0Jz+7Xb70FUWK6LXpa5j2irt+x4zZtnnzsuY6XvDeY713Bw2ndr8Uy63Tay5rXaW6XgJmmsYFnOVMsODnRlC7kwmfC0HKelUgd0tsZ9FjqYyeUQWZXqutrocBxMEaGMmoBISAQQQeFGB+DNb1BM5T1MQ5GJU/VknXUmoH/9hvKhcc9jbSV1SK8h4RVk9701J/lpdT+nmXe7o1/D69L6MQmr6RP0J8tqzff7xZftQkPyvSfDzt/wXtOow8bqBudBpgmG8umIIezKTq2Hz9lh4lRuQsktVCb6PLxeonFv29/agucTm3yx0vensmqpgh5vQcc7b2/mSP9v8SaFmk9hdJxPPg8WYvj0jg6T5HHHtZ9GgdS5fnrm4DcXSHGqrdeFgkgBtzCRYwiKAAAIvKBB/bNeKqqRYaovyMz79Ilb8WSdVSYSCowy+3f77+fde2ZRebXB+49tWRfZyWxVST0xVTr2QmtI2Bz0+PVPHl3zjA3X6SEbqRFHIZhBRHpWM4i/sy6E464EJholtCCMzOXdrwuZXkEQ6ccPUXALxduJHr3IquOU0Cr58Mr2iUndLzro+Y/ZP3UUyTtylQibEqTedOVQxjzbh+TK5S6DijyV+cOudT2ZPb3v+kMvNwqCl4DLO7vKVe6HZtEfaho3DSQK0MZNgCYsAAgi8oEAsPmpFVVKMZYGuQe1gVUnEWu3NCVVilgduXVK+mh+4l7MVpAnlTElWNrf0+kyu6fOl8r/O6X0ZqRNzaaj0YlGlJvOMBMPERPVZ3tN1MJO4lGqAdXPCphaxbgCzNNnY/PsMBHNJp42JKYtOI54SUyi7JWRtd6AN7hy7OVYos3lUgIPbqmOZzpfgjsRV8I7JdOtZLnWhrKPQBrLQ94LZtDFO3y2fJ8K/jxWgjXmsJ9EQQACBVxawFUPJ1as57GBVSZT6OLxbQ1XwJWh+4NYl2xfTL1DlGz9MtdcUkeEUXWjmU5xoKXIZn2eU/r2ckTnR0XPqPNfzwQlemUmHmxPWVIT5Ez7OTnDi5yVLHeCDEcwq77Uxzq7Qq+ZlbWOn4/McTcr10EYUoRSmeL6+BS7cfSWR3RutXCMkWMaXpw2Rn3iYQDq3YzJ+kHhJ5/QK4mYRouUx17Ow96D8FqS0Kw2PpgrQxkzlJTgCCCDwUgLNT/GcnVdz2MGqksgnijqgKUbzGK8uicFlAxMf50rlKQXu5YzMiY6eLoiDhOvZoMliMSFkE6f4s33alZlcC9vVxiyxyqZG39ZCI+d9mj9blV+YcjDr0PKoM8e8iGZNSxjzoC5K3iH1GXvXlLbEu9F03HsSl+d2TGZH75zLzSJEy4ZyJjI/fdN5E7D3YDq7ppO1ZVgeTxSgjZmIS2gEEEDgxQR2for7PYMdrCoJAxPrgFz/mS86dUksONS7etzL2arChFJT2vsdrZmNOFSni+e3h4cZmRPDoZ6qrqhC7GckeGUmHW5O2J42Zo1VdtoYZ2LbEsXdVboCL2uzS3Lnc76Tcwne2cbE68hN2LFM5u5o5urOtjdxFbxjMr6eI2/vC3WhnEOIlg2dIJ1Z2Gvl8OFfqa2+wME8AdqYebZERgABBF5NYPenuFdz2MGykthKDVm6xcJip41xWoJ2fKwhxPvUw+U+vb+J9sAfk4ubVFjrd8NvFxIR9IJezkiemP9Wlb5Km2BT989IMMQcnUlc6CM3J2yTzrKr7LQxeauoz5r7u0tj6v2zHbUL7ccpuzT+ZbN6KEMe3lbny+QsgYy+PU5BOhI/vvXOJ+PtmS4uN4sQraD1Z2GWL56Y4hxq257WQnL8GAHamMc4EgUBBBD4EwTUT3GZsFdz2MGykoi/MTXv0d99c3ks9dLfPI2Fxc7fS3XamN230OT+oRQ3+SUU8cdV458b/vlL5lofX85InpinoQumtrpt6v4QxGYn/sjYNk9zoVTh7ScYxg/P5ErYJp1U0K+3yk6nUdoPK6l6OQez7p3yqHMn111q17REyi8H7d5WqUEye0Yst3OjiejxoRpTQ8mbN8ywfqnMp7xOtUU6m8yO3jmXt5GaG6E3C4GzTVp9Tzv+JpYQ9n4107jyxCUB2phLbJyEAAII/JEC6qe4FPBqDjs4jDHVWKl1TLkgY2+PRcVQIqiC5sd3W6mUy6V6IlScsthyqvztUirsu+iL7JyaJkFeSL0K1JxZ5ha/Eg61QG8bs50lr3tngtdmErI4cnPC6oowOqy5yn4bs834KOW8u/Syxjzt/1Wcg50czwuY5S6wseRm8Dahula7vb0lsJfoT1xOxuzMEPRoMt6eiTNRZ7Vc7rcLD03FaSm8Cbjf0/xvYlFSdW4tJM/cK0Abc68g5yOAAAIIIPABAl6Z9QHT4JIIGAF2pgHhcJoAbcw0WgIjgAACCCAwT4BicZ4tke8RYGfeo8e5IwK0MSNajEUAAQQQQGARAYrFRRaCaRgBdqYB4XCaAG3MNFoCI4AAAgggME+AYnGeLZHvEWBn3qPHuSMCtDEjWoxFAAEEEEAAAQQQQACBBQRoYxZYBKaAAAIIIIAAAggggAACIwK0MSNajEUAAQQQQAABBBBAAIEFBGhjFlgEpoAAAggggAACCCCAAAIjArQxI1qMRQABBBBAAAEEEEAAgQUEaGMWWASmgAACCCCAAAIIIIAAAiMCtDEjWoxFAAEEEEAAAQQQQACBBQRoYxZYBKaAAAIIIIAAAggggAACIwK0MSNajEUAAQQQQAABBBBAAIEFBGhjFlgEpoAAAggggAACCCCAAAIjArQxI1qMRQABBBBAAAEEEEAAgQUEaGMWWASmgAACCCCAAAIIIIAAAiMCtDEjWoxFAAEEEEAAAQQQQACBBQRoYxZYBKaAAAIIIIAAAggggAACIwK0MSNajEUAAQQQQAABBBBAAIEFBGhjFlgEpoAAAggggAACCCCAAAIjArQxI1qMRQABBBBAAAEEEEAAgQUEaGMWWASmgAACCCCAAAIIIIAAAiMCtDEjWoxFAAEEEEAAAQQQQACBBQRoYxZYBKaAAAIIIIAAAggggAACIwK0MSNajEUAAQQQQAABBBBAAIEFBB7TxpQoPEAAAQQQQAABBBBAAAEEniZw2lL91Y542uS4EAIIIIAAAggggAACCCDQCrRNinmGNqZF4xkEEEAAAQQQQAABBBD4SAHTtLSHThvTDuIZBBBAAAEEEEAAAQQQQGAdAdqYddaCmSCAAAIIIIAAAggggECXAG1MFxODEEAAAQQQQAABBBBAYB0B2ph11oKZIIAAAggggAACCCCAQJcAbUwXE4MQQAABBBBAAAEEEEBgHYH/Acb297WLkkzlAAAAAElFTkSuQmCC)"
      ],
      "metadata": {
        "id": "fWnWQDlj00La"
      }
    },
    {
      "cell_type": "code",
      "source": [
        "# Insertion in set is done through set.add() function, where an appropriate record value is created to store in the hash table.\n",
        "varSet.add(1)\n",
        "print(varSet)\n",
        "# Insertion can also ve done by the use of update function\n",
        "# varSet.update(2) - does not work - will give error\n",
        "print(varSet)\n",
        "varSet.update([10,20,30])\n",
        "print(varSet)"
      ],
      "metadata": {
        "colab": {
          "base_uri": "https://localhost:8080/"
        },
        "id": "-G1oQC0w0z8M",
        "outputId": "69012db9-7ea3-4e8f-ae95-9132961acc3f"
      },
      "execution_count": 28,
      "outputs": [
        {
          "output_type": "stream",
          "name": "stdout",
          "text": [
            "{'Geeks', 'for', 1}\n",
            "{'Geeks', 'for', 1}\n",
            "{'Geeks', 1, 10, 20, 'for', 30}\n"
          ]
        }
      ]
    },
    {
      "cell_type": "code",
      "source": [
        "# Python Program to\n",
        "# demonstrate union of\n",
        "# two sets\n",
        "\n",
        "people = {\"Jay\", \"Idrish\", \"Archil\"}\n",
        "vampires = {\"Karan\", \"Arjun\"}\n",
        "dracula = {\"Deepanshu\", \"Raju\"}\n",
        "\n",
        "# Union using union()\n",
        "# function\n",
        "population = people.union(vampires)\n",
        "\n",
        "print(\"Union using union() function\")\n",
        "print(population)\n",
        "\n",
        "# Union using \"|\"\n",
        "# operator\n",
        "population = people|dracula\n",
        "\n",
        "print(\"\\nUnion using '|' operator\")\n",
        "print(population)"
      ],
      "metadata": {
        "colab": {
          "base_uri": "https://localhost:8080/"
        },
        "id": "WgieYz2M12c2",
        "outputId": "d86de218-f9e3-4f81-ab86-1395e6513e15"
      },
      "execution_count": 16,
      "outputs": [
        {
          "output_type": "stream",
          "name": "stdout",
          "text": [
            "Union using union() function\n",
            "{'Jay', 'Arjun', 'Archil', 'Karan', 'Idrish'}\n",
            "\n",
            "Union using '|' operator\n",
            "{'Jay', 'Archil', 'Raju', 'Deepanshu', 'Idrish'}\n"
          ]
        }
      ]
    },
    {
      "cell_type": "code",
      "source": [
        "# Python program to\n",
        "# demonstrate intersection\n",
        "# of two sets\n",
        "\n",
        "set1 = set()\n",
        "set2 = set()\n",
        "\n",
        "for i in range(5):\n",
        "    set1.add(i)\n",
        "\n",
        "for i in range(3,9):\n",
        "    set2.add(i)\n",
        "\n",
        "# Intersection using\n",
        "# intersection() function\n",
        "set3 = set1.intersection(set2)\n",
        "\n",
        "print(\"Intersection using intersection() function\")\n",
        "print(set3)\n",
        "\n",
        "# Intersection using\n",
        "# \"&\" operator\n",
        "set3 = set1 & set2\n",
        "\n",
        "print(\"\\nIntersection using '&' operator\")\n",
        "print(set3)"
      ],
      "metadata": {
        "colab": {
          "base_uri": "https://localhost:8080/"
        },
        "id": "07IawkAr1780",
        "outputId": "22130c96-9516-4e7b-a320-e4bfc7450a5e"
      },
      "execution_count": 17,
      "outputs": [
        {
          "output_type": "stream",
          "name": "stdout",
          "text": [
            "Intersection using intersection() function\n",
            "{3, 4}\n",
            "\n",
            "Intersection using '&' operator\n",
            "{3, 4}\n"
          ]
        }
      ]
    },
    {
      "cell_type": "code",
      "source": [
        "# Python program to\n",
        "# demonstrate difference\n",
        "# of two sets\n",
        "\n",
        "set1 = set()\n",
        "set2 = set()\n",
        "\n",
        "for i in range(5):\n",
        "    set1.add(i)\n",
        "\n",
        "for i in range(3,9):\n",
        "    set2.add(i)\n",
        "\n",
        "# Difference of two sets\n",
        "# using difference() function\n",
        "set3 = set1.difference(set2)\n",
        "\n",
        "print(\" Difference of two sets using difference() function\")\n",
        "print(set3)\n",
        "\n",
        "# Difference of two sets\n",
        "# using '-' operator\n",
        "set3 = set1 - set2\n",
        "\n",
        "print(\"\\nDifference of two sets using '-' operator\")\n",
        "print(set3)"
      ],
      "metadata": {
        "colab": {
          "base_uri": "https://localhost:8080/"
        },
        "id": "zAKKzo9A2BoZ",
        "outputId": "25a07a0f-b597-432e-81c0-010d4518c9b0"
      },
      "execution_count": 18,
      "outputs": [
        {
          "output_type": "stream",
          "name": "stdout",
          "text": [
            " Difference of two sets using difference() function\n",
            "{0, 1, 2}\n",
            "\n",
            "Difference of two sets using '-' operator\n",
            "{0, 1, 2}\n"
          ]
        }
      ]
    },
    {
      "cell_type": "code",
      "source": [
        "# Python program to\n",
        "# demonstrate clearing\n",
        "# of set\n",
        "\n",
        "set1 = {1,2,3,4,5,6}\n",
        "\n",
        "print(\"Initial set\")\n",
        "print(set1)\n",
        "\n",
        "# This method will remove\n",
        "# all the elements of the set\n",
        "set1.clear()\n",
        "\n",
        "print(\"\\nSet after using clear() function\")\n",
        "print(set1)"
      ],
      "metadata": {
        "colab": {
          "base_uri": "https://localhost:8080/"
        },
        "id": "TKz2gkga2Gzy",
        "outputId": "fa916b24-d3a0-42f9-8fd1-7fca51f133c8"
      },
      "execution_count": 19,
      "outputs": [
        {
          "output_type": "stream",
          "name": "stdout",
          "text": [
            "Initial set\n",
            "{1, 2, 3, 4, 5, 6}\n",
            "\n",
            "Set after using clear() function\n",
            "set()\n"
          ]
        }
      ]
    },
    {
      "cell_type": "markdown",
      "source": [
        "![image.png](data:image/png;base64,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)"
      ],
      "metadata": {
        "id": "Q-38hY4k2NA_"
      }
    },
    {
      "cell_type": "code",
      "source": [
        "s3 ={}\n",
        "print(type(s3))\n",
        "s4=()\n",
        "print(type(s4))"
      ],
      "metadata": {
        "colab": {
          "base_uri": "https://localhost:8080/"
        },
        "id": "BqGYoXje2OOH",
        "outputId": "dea9ac78-65bd-41ce-8520-0c7a3843a9ea"
      },
      "execution_count": 21,
      "outputs": [
        {
          "output_type": "stream",
          "name": "stdout",
          "text": [
            "<class 'dict'>\n",
            "<class 'tuple'>\n"
          ]
        }
      ]
    },
    {
      "cell_type": "code",
      "source": [
        "# REMOVE ELEMENTS FROM THE SET\n",
        "# DISCARD, REMOVE, CLEAR FUNCTIONS ARE USED\n",
        "# Discard does not raise an error if the said element is not found.\n",
        "# Remove raise an error if an element is not found\n",
        "set1 = {1,2,3,4,5,6}\n",
        "set1.remove(6)\n",
        "set1.discard(5)\n",
        "print(set1)"
      ],
      "metadata": {
        "colab": {
          "base_uri": "https://localhost:8080/"
        },
        "id": "4aqOW2kE6hsr",
        "outputId": "775258d7-2a49-4185-e69e-118a33708b42"
      },
      "execution_count": 26,
      "outputs": [
        {
          "output_type": "stream",
          "name": "stdout",
          "text": [
            "{1, 2, 3, 4}\n"
          ]
        }
      ]
    },
    {
      "cell_type": "code",
      "source": [
        "#DEL VS Clear\n",
        "# Del deletes the entire set - del set1\n",
        "# Clear empties th set - set1.clear()"
      ],
      "metadata": {
        "id": "1-SuFn0N7_hY"
      },
      "execution_count": null,
      "outputs": []
    },
    {
      "cell_type": "code",
      "source": [
        "print(len(set1))\n",
        "print(3 in set1)\n",
        "print(6 in set1)"
      ],
      "metadata": {
        "colab": {
          "base_uri": "https://localhost:8080/"
        },
        "id": "VMbx8xgM8UiF",
        "outputId": "0e38b61c-5847-4599-e2de-60cf650c882d"
      },
      "execution_count": 29,
      "outputs": [
        {
          "output_type": "stream",
          "name": "stdout",
          "text": [
            "4\n",
            "True\n",
            "False\n"
          ]
        }
      ]
    },
    {
      "cell_type": "markdown",
      "source": [
        "# **DICTIONARY**\n",
        "\n",
        "- Dictionary in Python is a collection of keys values, used to store data values like a map, which, unlike other data types which hold only a single value as an element.\n",
        "- Note – Dictionary keys are case sensitive, the same name but different cases of Key will be treated distinctly."
      ],
      "metadata": {
        "id": "D9SP9HWmQA_4"
      }
    },
    {
      "cell_type": "code",
      "source": [
        "Dict = {1: 'Geeks', 2: 'For', 3: 'Geeks'}\n",
        "print(Dict)"
      ],
      "metadata": {
        "colab": {
          "base_uri": "https://localhost:8080/"
        },
        "id": "7Q_IygJ6Dy7u",
        "outputId": "97b842d7-027b-4159-fe81-c89951b99a55"
      },
      "execution_count": 30,
      "outputs": [
        {
          "output_type": "stream",
          "name": "stdout",
          "text": [
            "{1: 'Geeks', 2: 'For', 3: 'Geeks'}\n"
          ]
        }
      ]
    },
    {
      "cell_type": "code",
      "source": [
        "#Dictionary can also be created by the built-in function dict(). An empty dictionary can be created by just placing to curly braces{}.\n",
        "# Creating an empty Dictionary\n",
        "Dict = {}\n",
        "print(\"Empty Dictionary: \")\n",
        "print(Dict)\n",
        "\n",
        "# Creating a Dictionary\n",
        "# with dict() method\n",
        "Dict = dict({1: 'Geeks', 2: 'For', 3: 'Geeks'})\n",
        "print(\"\\nDictionary with the use of dict(): \")\n",
        "print(Dict)\n",
        "\n",
        "# Creating a Dictionary\n",
        "# with each item as a Pair\n",
        "Dict = dict([(1, 'Geeks'), (2, 'For')])\n",
        "print(\"\\nDictionary with each item as a pair: \")"
      ],
      "metadata": {
        "colab": {
          "base_uri": "https://localhost:8080/"
        },
        "id": "CP9rr-ZCSe1X",
        "outputId": "50b64233-f390-4ac5-b753-94db9dd5ff5a"
      },
      "execution_count": 31,
      "outputs": [
        {
          "output_type": "stream",
          "name": "stdout",
          "text": [
            "Empty Dictionary: \n",
            "{}\n",
            "\n",
            "Dictionary with the use of dict(): \n",
            "{1: 'Geeks', 2: 'For', 3: 'Geeks'}\n",
            "\n",
            "Dictionary with each item as a pair: \n"
          ]
        }
      ]
    },
    {
      "cell_type": "code",
      "source": [
        "# Creating an empty Dictionary\n",
        "Dict = {}\n",
        "print(\"Empty Dictionary: \")\n",
        "print(Dict)\n",
        "\n",
        "# Adding elements one at a time\n",
        "Dict[0] = 'Geeks'\n",
        "Dict[2] = 'For'\n",
        "Dict[3] = 1\n",
        "print(\"\\nDictionary after adding 3 elements: \")\n",
        "print(Dict)\n",
        "\n",
        "# Adding set of values\n",
        "# to a single Key\n",
        "Dict['Value_set'] = 2, 3, 4\n",
        "print(\"\\nDictionary after adding 3 elements: \")\n",
        "print(Dict)\n",
        "\n",
        "# Updating existing Key's Value\n",
        "Dict[2] = 'Welcome'\n",
        "print(\"\\nUpdated key value: \")\n",
        "print(Dict)\n",
        "\n",
        "# Adding Nested Key value to Dictionary\n",
        "Dict[5] = {'Nested': {'1': 'Life', '2': 'Geeks'}}\n",
        "print(\"\\nAdding a Nested Key: \")\n",
        "print(Dict)"
      ],
      "metadata": {
        "colab": {
          "base_uri": "https://localhost:8080/"
        },
        "id": "h-4Smja-Ss06",
        "outputId": "69af6952-ce63-4c2a-c556-6e0d3c9df5b8"
      },
      "execution_count": 32,
      "outputs": [
        {
          "output_type": "stream",
          "name": "stdout",
          "text": [
            "Empty Dictionary: \n",
            "{}\n",
            "\n",
            "Dictionary after adding 3 elements: \n",
            "{0: 'Geeks', 2: 'For', 3: 1}\n",
            "\n",
            "Dictionary after adding 3 elements: \n",
            "{0: 'Geeks', 2: 'For', 3: 1, 'Value_set': (2, 3, 4)}\n",
            "\n",
            "Updated key value: \n",
            "{0: 'Geeks', 2: 'Welcome', 3: 1, 'Value_set': (2, 3, 4)}\n",
            "\n",
            "Adding a Nested Key: \n",
            "{0: 'Geeks', 2: 'Welcome', 3: 1, 'Value_set': (2, 3, 4), 5: {'Nested': {'1': 'Life', '2': 'Geeks'}}}\n"
          ]
        }
      ]
    },
    {
      "cell_type": "code",
      "source": [
        "# Python program to demonstrate\n",
        "# accessing a element from a Dictionary\n",
        "\n",
        "# Creating a Dictionary\n",
        "Dict = {1: 'Geeks', 'name': 'For', 3: 'Geeks'}\n",
        "\n",
        "# accessing a element using key\n",
        "print(\"Accessing a element using key:\")\n",
        "print(Dict['name'])\n",
        "\n",
        "# accessing a element using key\n",
        "print(\"Accessing a element using key:\")\n",
        "print(Dict[1])"
      ],
      "metadata": {
        "colab": {
          "base_uri": "https://localhost:8080/"
        },
        "id": "MKVHHBDwSuqb",
        "outputId": "e1fed535-e395-473d-d6f7-992b623b9012"
      },
      "execution_count": 33,
      "outputs": [
        {
          "output_type": "stream",
          "name": "stdout",
          "text": [
            "Accessing a element using key:\n",
            "For\n",
            "Accessing a element using key:\n",
            "Geeks\n"
          ]
        }
      ]
    },
    {
      "cell_type": "code",
      "source": [
        "#There is also a method called get() that will also help in accessing the element from a dictionary.This method accepts key as argument and returns the value.\n",
        "# Creating a Dictionary\n",
        "Dict = {1: 'Geeks', 'name': 'For', 3: 'Geeks'}\n",
        "\n",
        "# accessing a element using get()- if we try to find something and it does nit exist- it will not give error unlike direct access\n",
        "# method\n",
        "print(\"Accessing a element using get:\")\n",
        "print(Dict.get(3))"
      ],
      "metadata": {
        "colab": {
          "base_uri": "https://localhost:8080/"
        },
        "id": "SJglP32uS31b",
        "outputId": "4776eba6-0c87-4c93-a697-900a1fff77f8"
      },
      "execution_count": 34,
      "outputs": [
        {
          "output_type": "stream",
          "name": "stdout",
          "text": [
            "Accessing a element using get:\n",
            "Geeks\n"
          ]
        }
      ]
    },
    {
      "cell_type": "markdown",
      "source": [
        "Dictionary methods:\n",
        "- clear() – Remove all the elements from the dictionary\n",
        "- copy() – Returns a copy of the dictionary\n",
        "- get() – Returns the value of specified key\n",
        "- items() – Returns a list containing a tuple for each key value pair\n",
        "- keys() – Returns a list containing dictionary’s keys\n",
        "- pop() – Remove the element with specified key\n",
        "- popitem() – Removes the last inserted key-value pair\n",
        "- update() – Updates dictionary with specified key-value pairs\n",
        "- values() – Returns a list of all the values of dictionary"
      ],
      "metadata": {
        "id": "s5KJ-XF-TAbe"
      }
    },
    {
      "cell_type": "code",
      "source": [
        "# demo for all dictionary methods\n",
        "dict1 = {1: \"Python\", 2: \"Java\", 3: \"Ruby\", 4: \"Scala\"}\n",
        "\n",
        "# copy() method\n",
        "dict2 = dict1.copy()\n",
        "print(dict2)\n",
        "\n",
        "# clear() method\n",
        "dict1.clear()\n",
        "print(dict1)\n",
        "\n",
        "# get() method\n",
        "print(dict2.get(1))\n",
        "\n",
        "# items() method\n",
        "print(dict2.items())\n",
        "\n",
        "# keys() method\n",
        "print(dict2.keys())\n",
        "\n",
        "# pop() method\n",
        "dict2.pop(4)\n",
        "print(dict2)\n",
        "\n",
        "# popitem() method- removes the last inserted key value pair and returns the key value that is being removed\n",
        "dict2.popitem()\n",
        "print(dict2)\n",
        "\n",
        "# update() method\n",
        "dict2.update({3: \"Scala\"})\n",
        "print(dict2)\n",
        "\n",
        "# values() method\n",
        "print(dict2.values())"
      ],
      "metadata": {
        "colab": {
          "base_uri": "https://localhost:8080/"
        },
        "id": "_EWmviGtTIH9",
        "outputId": "ef43d7c6-e2bd-4eda-cece-276fc9e35700"
      },
      "execution_count": 35,
      "outputs": [
        {
          "output_type": "stream",
          "name": "stdout",
          "text": [
            "{1: 'Python', 2: 'Java', 3: 'Ruby', 4: 'Scala'}\n",
            "{}\n",
            "Python\n",
            "dict_items([(1, 'Python'), (2, 'Java'), (3, 'Ruby'), (4, 'Scala')])\n",
            "dict_keys([1, 2, 3, 4])\n",
            "{1: 'Python', 2: 'Java', 3: 'Ruby'}\n",
            "{1: 'Python', 2: 'Java'}\n",
            "{1: 'Python', 2: 'Java', 3: 'Scala'}\n",
            "dict_values(['Python', 'Java', 'Scala'])\n"
          ]
        }
      ]
    },
    {
      "cell_type": "markdown",
      "source": [
        "# **SLICING**\n",
        "\n",
        "Slicing can be done on String, List and Tuple in a similar manner.\n",
        "l[start:stop:step]\n",
        "notes:\n",
        "1. if no start is provided, it takes as 0 to start with\n",
        "2. If no stop is provided, it will slice till the end\n",
        "3. If no step is provided, it takes 1 as default\n",
        "\n",
        "- l[::-1] - shortcut to print reverse slicing\n",
        "- l[:]- will slice the same\n"
      ],
      "metadata": {
        "id": "072Sxi4DgAyo"
      }
    },
    {
      "cell_type": "markdown",
      "source": [
        "# **COMPREHENSIONS**\n",
        "A Python list comprehension consists of brackets containing the expression, which is executed for each element along with the for loop to iterate over each element in the Python list.\n",
        "\n",
        "Python List comprehension provides a much more short syntax for creating a new list based on the values of an existing list.\n",
        "\n",
        "**Advantages of List Comprehension**\n",
        "- More time-efficient and space-efficient than loops.\n",
        "- Require fewer lines of code.\n",
        "- Transforms iterative statement into a formula.\n",
        "\n",
        "**Syntax of  List Comprehension**  \n",
        "newList = [ expression(element) for element in oldList if condition ]\n"
      ],
      "metadata": {
        "id": "dMMlw4iLhFaw"
      }
    },
    {
      "cell_type": "code",
      "source": [
        "# LIst Comprehension Implementation\n",
        "def evenOdd(l):\n",
        "  even= [x for x in l if x%2==0]\n",
        "  odd= [x for x in l if x%2!=0]\n",
        "  return even, odd\n",
        "l=[1,2,3,4,5,6,7,8,9]\n",
        "evenOdd(l)"
      ],
      "metadata": {
        "colab": {
          "base_uri": "https://localhost:8080/"
        },
        "id": "oYhDzVaoiNJk",
        "outputId": "ccaf42c8-83cd-457b-968d-95ae3a73e4dd"
      },
      "execution_count": 36,
      "outputs": [
        {
          "output_type": "execute_result",
          "data": {
            "text/plain": [
              "([2, 4, 6, 8], [1, 3, 5, 7, 9])"
            ]
          },
          "metadata": {},
          "execution_count": 36
        }
      ]
    },
    {
      "cell_type": "code",
      "source": [
        "#Creating a Dictionary from two lists\n",
        "l1=[1,2,9]\n",
        "l2=[12,19,20]\n",
        "dictq = dict((zip(l1,l1)))\n",
        "dictq"
      ],
      "metadata": {
        "colab": {
          "base_uri": "https://localhost:8080/"
        },
        "id": "KcceIPpwlhnB",
        "outputId": "5775b1df-49e9-4c26-ecf0-c4a697420e87"
      },
      "execution_count": 38,
      "outputs": [
        {
          "output_type": "execute_result",
          "data": {
            "text/plain": [
              "{1: 1, 2: 2, 9: 9}"
            ]
          },
          "metadata": {},
          "execution_count": 38
        }
      ]
    },
    {
      "cell_type": "code",
      "source": [
        "# Python code to demonstrate dictionary\n",
        "# comprehension\n",
        "\n",
        "# Lists to represent keys and values\n",
        "keys = ['a','b','c','d','e']\n",
        "values = [1,2,3,4,5]\n",
        "\n",
        "# but this line shows dict comprehension here\n",
        "myDict = { k:v for (k,v) in zip(keys, values)}\n",
        "\n",
        "# We can use below too\n",
        "# myDict = dict(zip(keys, values))\n",
        "\n",
        "print (myDict)"
      ],
      "metadata": {
        "colab": {
          "base_uri": "https://localhost:8080/"
        },
        "id": "1-3YLwxonnw5",
        "outputId": "af6c0f34-a2f5-402f-cc14-fc93eafdda56"
      },
      "execution_count": 39,
      "outputs": [
        {
          "output_type": "stream",
          "name": "stdout",
          "text": [
            "{'a': 1, 'b': 2, 'c': 3, 'd': 4, 'e': 5}\n"
          ]
        }
      ]
    }
  ]
}