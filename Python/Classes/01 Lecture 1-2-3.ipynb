{
 "cells": [
  {
   "cell_type": "markdown",
   "id": "6db5fdf8-c6db-4d95-be95-8fb27252fc2d",
   "metadata": {},
   "source": [
    "## LECTURE 01"
   ]
  },
  {
   "cell_type": "code",
   "execution_count": 2,
   "id": "81fd7ea8-da79-48aa-9316-c056ef20a03b",
   "metadata": {},
   "outputs": [
    {
     "name": "stdout",
     "output_type": "stream",
     "text": [
      "3.14\n"
     ]
    }
   ],
   "source": [
    "print(3.14*True) #True is taken as 1 in this cindition"
   ]
  },
  {
   "cell_type": "code",
   "execution_count": 3,
   "id": "3f3631e7-7d23-4c8f-b9ba-ecbb37e089f6",
   "metadata": {},
   "outputs": [
    {
     "name": "stdout",
     "output_type": "stream",
     "text": [
      "AbhayAbhayAbhayAbhayAbhay\n"
     ]
    }
   ],
   "source": [
    "print(\"Abhay\"*5) #It will print 5 times Abhay"
   ]
  },
  {
   "cell_type": "code",
   "execution_count": 4,
   "id": "20fec63d-a2e5-4d4b-bcfb-c926947cfc9f",
   "metadata": {},
   "outputs": [
    {
     "ename": "TypeError",
     "evalue": "can only concatenate str (not \"int\") to str",
     "output_type": "error",
     "traceback": [
      "\u001b[1;31m---------------------------------------------------------------------------\u001b[0m",
      "\u001b[1;31mTypeError\u001b[0m                                 Traceback (most recent call last)",
      "Cell \u001b[1;32mIn[4], line 1\u001b[0m\n\u001b[1;32m----> 1\u001b[0m \u001b[38;5;28mprint\u001b[39m(\u001b[38;5;124;43m\"\u001b[39;49m\u001b[38;5;124;43mAbhay\u001b[39;49m\u001b[38;5;124;43m\"\u001b[39;49m\u001b[43m \u001b[49m\u001b[38;5;241;43m+\u001b[39;49m\u001b[38;5;241;43m5\u001b[39;49m) \u001b[38;5;66;03m# Error\u001b[39;00m\n",
      "\u001b[1;31mTypeError\u001b[0m: can only concatenate str (not \"int\") to str"
     ]
    }
   ],
   "source": [
    "print(\"Abhay\" +5) # Error"
   ]
  },
  {
   "cell_type": "code",
   "execution_count": 5,
   "id": "82e82d9d-b56b-440a-a918-c40aea74907b",
   "metadata": {},
   "outputs": [
    {
     "name": "stdout",
     "output_type": "stream",
     "text": [
      "AbhayAbhayAbhayAbhayAbhay\n"
     ]
    }
   ],
   "source": [
    "print(\"Abhay\"*(True*5)) #Abhay 5 times"
   ]
  },
  {
   "cell_type": "code",
   "execution_count": 6,
   "id": "1f6bfea3-2e22-44f1-891d-90e9f830c7a1",
   "metadata": {},
   "outputs": [
    {
     "name": "stdout",
     "output_type": "stream",
     "text": [
      "AbhayAditya\n"
     ]
    }
   ],
   "source": [
    "#Two Strings can be concatenated by using + operator\n",
    "print(\"Abhay\" + \"Aditya\") #AbhayAditya"
   ]
  },
  {
   "cell_type": "code",
   "execution_count": 7,
   "id": "bd1c88f1-bdc7-4d5b-8583-1f3bca20c9d2",
   "metadata": {},
   "outputs": [
    {
     "ename": "TypeError",
     "evalue": "can't multiply sequence by non-int of type 'float'",
     "output_type": "error",
     "traceback": [
      "\u001b[1;31m---------------------------------------------------------------------------\u001b[0m",
      "\u001b[1;31mTypeError\u001b[0m                                 Traceback (most recent call last)",
      "Cell \u001b[1;32mIn[7], line 2\u001b[0m\n\u001b[0;32m      1\u001b[0m \u001b[38;5;66;03m#String multiply with Float\u001b[39;00m\n\u001b[1;32m----> 2\u001b[0m \u001b[38;5;28mprint\u001b[39m(\u001b[38;5;124;43m'\u001b[39;49m\u001b[38;5;124;43mAbhay\u001b[39;49m\u001b[38;5;124;43m'\u001b[39;49m\u001b[38;5;241;43m*\u001b[39;49m\u001b[38;5;241;43m3.0\u001b[39;49m)\n",
      "\u001b[1;31mTypeError\u001b[0m: can't multiply sequence by non-int of type 'float'"
     ]
    }
   ],
   "source": [
    "#String multiply with Float\n",
    "print('Abhay'*3.0) #error"
   ]
  },
  {
   "cell_type": "code",
   "execution_count": 9,
   "id": "e703af1b-1a39-4475-9965-ff1fa77c499b",
   "metadata": {},
   "outputs": [
    {
     "name": "stdout",
     "output_type": "stream",
     "text": [
      "abhay\n"
     ]
    }
   ],
   "source": [
    "#Boolean * String\n",
    "print('abhay'*True) #abhay"
   ]
  },
  {
   "cell_type": "code",
   "execution_count": 11,
   "id": "5101990d-86f8-4103-a1a8-29c57f7fd4e9",
   "metadata": {},
   "outputs": [
    {
     "name": "stdout",
     "output_type": "stream",
     "text": [
      "False\n"
     ]
    }
   ],
   "source": [
    "print('Abhay'>'Aditya') #when a string is compared to another string. It compares the ASCII value"
   ]
  },
  {
   "cell_type": "code",
   "execution_count": 15,
   "id": "34213f84-3a90-4e4d-9bf9-e09955319dd9",
   "metadata": {},
   "outputs": [
    {
     "name": "stdout",
     "output_type": "stream",
     "text": [
      "\n"
     ]
    }
   ],
   "source": [
    "print(False*'abhay') #It gives none (empty space)"
   ]
  },
  {
   "cell_type": "code",
   "execution_count": 17,
   "id": "a22284f5-4abe-4c49-97fd-2c6af6551997",
   "metadata": {},
   "outputs": [
    {
     "name": "stdout",
     "output_type": "stream",
     "text": [
      "\n"
     ]
    },
    {
     "data": {
      "text/plain": [
       "NoneType"
      ]
     },
     "execution_count": 17,
     "metadata": {},
     "output_type": "execute_result"
    }
   ],
   "source": [
    "type(print('abhay'*False)) #It gives NoneType"
   ]
  },
  {
   "cell_type": "code",
   "execution_count": 19,
   "id": "0e485232-ae15-4b4e-bbf2-337536c040ff",
   "metadata": {},
   "outputs": [
    {
     "name": "stdout",
     "output_type": "stream",
     "text": [
      "abhay\n",
      "None\n"
     ]
    }
   ],
   "source": [
    "print(print('abhay'))\n",
    "\n",
    "#Output:\n",
    "#abhay\n",
    "#none"
   ]
  },
  {
   "cell_type": "code",
   "execution_count": 23,
   "id": "8ae2877c-8aae-49a5-a10b-56cf09d9d12b",
   "metadata": {},
   "outputs": [
    {
     "ename": "SyntaxError",
     "evalue": "unterminated string literal (detected at line 4) (2496453048.py, line 4)",
     "output_type": "error",
     "traceback": [
      "\u001b[1;36m  Cell \u001b[1;32mIn[23], line 4\u001b[1;36m\u001b[0m\n\u001b[1;33m    print(int('abhay\")) #error\u001b[0m\n\u001b[1;37m              ^\u001b[0m\n\u001b[1;31mSyntaxError\u001b[0m\u001b[1;31m:\u001b[0m unterminated string literal (detected at line 4)\n"
     ]
    }
   ],
   "source": [
    "print(int(3.14)) #3\n",
    "print(int(True)) #1\n",
    "print(int(False)) #0\n",
    "print(int('abhay\")) #error"
   ]
  },
  {
   "cell_type": "markdown",
   "id": "2c2f7de2-3ac9-4750-a2dd-61273489c48e",
   "metadata": {},
   "source": [
    "## LECTURE 02"
   ]
  },
  {
   "cell_type": "code",
   "execution_count": 24,
   "id": "2cf4420e-5603-4bd4-94ca-607a2f056dfd",
   "metadata": {},
   "outputs": [],
   "source": [
    "#Take input of amount, years, and rate of interest and compute the Simple Interest"
   ]
  },
  {
   "cell_type": "code",
   "execution_count": 29,
   "id": "f366194a-bdd9-45ae-9146-99fd5c08f1e6",
   "metadata": {},
   "outputs": [
    {
     "name": "stdin",
     "output_type": "stream",
     "text": [
      "Amount 2000\n",
      "Years 1\n",
      "Rate Of Interest 23\n"
     ]
    },
    {
     "name": "stdout",
     "output_type": "stream",
     "text": [
      "Simple Interest is 460.0\n"
     ]
    }
   ],
   "source": [
    "amount= float(input(\"Amount\"))\n",
    "time = int(input(\"Years\"))\n",
    "rateOfInterest= int(input(\"Rate Of Interest\"))\n",
    "\n",
    "simpleInterest = (amount*time*rateOfInterest)/100\n",
    "print(\"Simple Interest is\", simpleInterest)"
   ]
  },
  {
   "cell_type": "code",
   "execution_count": 31,
   "id": "41d28a5d-205b-4ca7-9f7f-48aaa86d8a09",
   "metadata": {},
   "outputs": [
    {
     "name": "stdout",
     "output_type": "stream",
     "text": [
      "0 0\n"
     ]
    }
   ],
   "source": [
    "a,b =0 #will give error\n",
    "a,b= 0,0 #values will be assigned\n",
    "print(a,b)"
   ]
  },
  {
   "cell_type": "markdown",
   "id": "5be7e0c2-92c7-457a-a3ec-4aeef6b49518",
   "metadata": {},
   "source": [
    "## LECTURE 03"
   ]
  },
  {
   "cell_type": "code",
   "execution_count": 32,
   "id": "aa9df94a-a433-4249-b397-a700d66c7a71",
   "metadata": {},
   "outputs": [],
   "source": [
    "# Print first 10 numbers that are divisible by 5,3 and 7"
   ]
  },
  {
   "cell_type": "code",
   "execution_count": 33,
   "id": "4e36eb6b-37c4-4a19-ad55-7209ed7cb22f",
   "metadata": {},
   "outputs": [
    {
     "name": "stdout",
     "output_type": "stream",
     "text": [
      "105\n",
      "210\n",
      "315\n",
      "420\n",
      "525\n",
      "630\n",
      "735\n",
      "840\n",
      "945\n",
      "1050\n"
     ]
    }
   ],
   "source": [
    "counter = 0\n",
    "for i in range(1, 2000):\n",
    "    if (i%3==0 and i%5==0 and i%7==0):\n",
    "        print(i)\n",
    "        counter +=1\n",
    "    if counter==10:\n",
    "        break"
   ]
  },
  {
   "cell_type": "code",
   "execution_count": 34,
   "id": "cf1082ef-b200-4c2e-bfad-92e0c5f27a4c",
   "metadata": {},
   "outputs": [
    {
     "name": "stdout",
     "output_type": "stream",
     "text": [
      "*\n",
      "**\n",
      "***\n",
      "****\n",
      "*****\n",
      "******\n",
      "*******\n",
      "********\n",
      "*********\n",
      "**********\n"
     ]
    }
   ],
   "source": [
    "n=10\n",
    "for i in range(1,n+1):\n",
    "    print('*'*i)"
   ]
  },
  {
   "cell_type": "code",
   "execution_count": 35,
   "id": "225c0e46-a5e5-4ae2-b8e5-ec0810ba6c20",
   "metadata": {},
   "outputs": [
    {
     "name": "stdout",
     "output_type": "stream",
     "text": [
      "**********\n",
      "**********\n",
      "**********\n",
      "**********\n",
      "**********\n",
      "**********\n",
      "**********\n",
      "**********\n",
      "**********\n",
      "**********\n"
     ]
    }
   ],
   "source": [
    "n=10\n",
    "for i in range(1,n+1):\n",
    "    print('*'*n)"
   ]
  },
  {
   "cell_type": "code",
   "execution_count": 37,
   "id": "ea4432df-02b8-48b8-9f7a-eb7a92cde769",
   "metadata": {},
   "outputs": [
    {
     "name": "stdout",
     "output_type": "stream",
     "text": [
      "*****\n",
      "*   *\n",
      "*   *\n",
      "*   *\n",
      "*   *\n",
      "*   *\n",
      "*****\n"
     ]
    }
   ],
   "source": [
    "#printing a saquare where expect first and last rows, the middle elements are hollow\n",
    "n=5\n",
    "print('*'*n) # for first line\n",
    "for i in range(n):\n",
    "    print('*'+' '*(n-2)+'*')\n",
    "print('*'*n)"
   ]
  },
  {
   "cell_type": "code",
   "execution_count": null,
   "id": "6cea9be1-514a-42bb-842a-90285283e15f",
   "metadata": {},
   "outputs": [],
   "source": []
  }
 ],
 "metadata": {
  "kernelspec": {
   "display_name": "Python 3 (ipykernel)",
   "language": "python",
   "name": "python3"
  },
  "language_info": {
   "codemirror_mode": {
    "name": "ipython",
    "version": 3
   },
   "file_extension": ".py",
   "mimetype": "text/x-python",
   "name": "python",
   "nbconvert_exporter": "python",
   "pygments_lexer": "ipython3",
   "version": "3.13.0"
  }
 },
 "nbformat": 4,
 "nbformat_minor": 5
}
